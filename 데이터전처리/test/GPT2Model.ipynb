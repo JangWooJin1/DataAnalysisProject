{
 "cells": [
  {
   "cell_type": "code",
   "execution_count": null,
   "metadata": {},
   "outputs": [],
   "source": [
    "from transformers import GPT2Tokenizer, GPT2Model\n",
    "from sklearn.cluster import KMeans\n",
    "import numpy as np\n",
    "import pandas as pd\n",
    "import re\n",
    "from konlpy.tag import Okt\n",
    "import matplotlib.pyplot as plt"
   ]
  },
  {
   "attachments": {},
   "cell_type": "markdown",
   "metadata": {},
   "source": []
  },
  {
   "cell_type": "code",
   "execution_count": null,
   "metadata": {},
   "outputs": [],
   "source": [
    "# CSV 파일 읽기\n",
    "csv_filename = '공지사항.csv'\n",
    "df = pd.read_csv(csv_filename)\n",
    "\n",
    "# 제목 추출 및 저장\n",
    "notice_names = df['title'].tolist()\n",
    "print(\"데이터 개수 :\" , len(notice_names))\n",
    "for notice in notice_names:\n",
    "  print(notice)"
   ]
  },
  {
   "attachments": {},
   "cell_type": "markdown",
   "metadata": {},
   "source": []
  },
  {
   "cell_type": "code",
   "execution_count": null,
   "metadata": {},
   "outputs": [],
   "source": [
    "# 전처리 함수 정의\n",
    "def preprocess_text(text):\n",
    "    # 특수문자 제거\n",
    "    text = re.sub(r\"[^\\uAC00-\\uD7A30-9a-zA-Z\\s]\", \"\", text)\n",
    "\n",
    "    # 숫자 정보 제거\n",
    "    text = re.sub(r'\\d+', '', text)\n",
    "\n",
    "    # 형태소 분석\n",
    "    tagger = Okt()\n",
    "    words = tagger.morphs(text)\n",
    "\n",
    "    # 불용어 제거\n",
    "    stop_words = [ '필독', '학기', '학년', '도', '년', '제', '회', '월', '학부', '일', '차', '년도', '안내']  # 불용어 리스트\n",
    "    words = [word for word in words if word not in stop_words]\n",
    "\n",
    "    # 분석된 형태소들을 공백으로 결합하여 문장으로 반환\n",
    "    text = ' '.join(words)\n",
    "\n",
    "    return text"
   ]
  },
  {
   "attachments": {},
   "cell_type": "markdown",
   "metadata": {},
   "source": []
  },
  {
   "cell_type": "code",
   "execution_count": null,
   "metadata": {},
   "outputs": [],
   "source": [
    "# 전처리된 공지이름 추출\n",
    "preprocessed_notice_names = [preprocess_text(notice_name) for notice_name in notice_names]\n",
    "\n",
    "print(\"전처리 공지 제목\")\n",
    "\n",
    "for notice in preprocessed_notice_names:\n",
    "  print(notice)"
   ]
  },
  {
   "attachments": {},
   "cell_type": "markdown",
   "metadata": {},
   "source": []
  },
  {
   "cell_type": "code",
   "execution_count": null,
   "metadata": {},
   "outputs": [],
   "source": [
    "# GPT 모델 로드\n",
    "tokenizer = GPT2Tokenizer.from_pretrained('gpt2')\n",
    "model = GPT2Model.from_pretrained('gpt2')"
   ]
  },
  {
   "attachments": {},
   "cell_type": "markdown",
   "metadata": {},
   "source": []
  },
  {
   "cell_type": "code",
   "execution_count": null,
   "metadata": {},
   "outputs": [],
   "source": [
    "# 공지사항 텍스트를 GPT 모델에 입력하여 임베딩 생성\n",
    "embeddings = []\n",
    "for notice in preprocessed_notice_name:\n",
    "    inputs = tokenizer.encode(notice, return_tensors='pt')\n",
    "    outputs = model(inputs)[0][:, 0, :].detach().numpy()\n",
    "    embeddings.append(outputs)\n",
    "\n",
    "# 임베딩을 numpy 배열로 변환\n",
    "embeddings = np.vstack(embeddings)"
   ]
  },
  {
   "attachments": {},
   "cell_type": "markdown",
   "metadata": {},
   "source": []
  },
  {
   "cell_type": "code",
   "execution_count": null,
   "metadata": {},
   "outputs": [],
   "source": [
    "# Elbow Method를 사용하여 적절한 클러스터 개수 k 결정\n",
    "inertias = []\n",
    "k_values = range(200, 300)\n",
    "for k in k_values:\n",
    "    kmeans = KMeans(n_clusters=k, init='k-means++', random_state=42, n_init=10)\n",
    "    kmeans.fit(embeddings)\n",
    "    inertias.append(kmeans.inertia_)\n",
    "\n",
    "print(\"여기까지 잘됨\")\n",
    "\n",
    "# Elbow Method를 시각화하여 적절한 k 결정\n",
    "plt.plot(k_values, inertias, 'bx-')\n",
    "plt.xlabel('Number of Clusters (k)')\n",
    "plt.ylabel('Inertia')\n",
    "plt.title('Elbow Method')\n",
    "plt.show()"
   ]
  },
  {
   "attachments": {},
   "cell_type": "markdown",
   "metadata": {},
   "source": []
  },
  {
   "cell_type": "code",
   "execution_count": null,
   "metadata": {},
   "outputs": [],
   "source": [
    "# 사용자로부터 적절한 클러스터 개수 k 입력\n",
    "k = int(input(\"Enter the number of clusters (k): \"))\n",
    "\n",
    "\n",
    "# K-Means 군집화 적용\n",
    "kmeans = KMeans(n_clusters=k, init='k-means++', random_state=42, n_init=10)\n",
    "kmeans.fit(embeddings)"
   ]
  },
  {
   "attachments": {},
   "cell_type": "markdown",
   "metadata": {},
   "source": []
  },
  {
   "cell_type": "code",
   "execution_count": null,
   "metadata": {},
   "outputs": [],
   "source": [
    "# 군집화 결과 출력\n",
    "for notice, label in zip(notices, kmeans.labels_):\n",
    "    print(\"공지사항:\", notice)\n",
    "    print(\"군집 레이블:\", label)\n",
    "    print()"
   ]
  }
 ],
 "metadata": {
  "language_info": {
   "name": "python"
  },
  "orig_nbformat": 4
 },
 "nbformat": 4,
 "nbformat_minor": 2
}
