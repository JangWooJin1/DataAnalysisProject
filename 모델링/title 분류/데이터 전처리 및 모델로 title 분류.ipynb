{
 "cells": [
  {
   "cell_type": "code",
   "execution_count": 45,
   "id": "90d5ed4d",
   "metadata": {},
   "outputs": [],
   "source": [
    "import numpy as np\n",
    "from datetime import datetime"
   ]
  },
  {
   "cell_type": "code",
   "execution_count": 2,
   "id": "47731f23",
   "metadata": {},
   "outputs": [
    {
     "data": {
      "text/html": [
       "<div>\n",
       "<style scoped>\n",
       "    .dataframe tbody tr th:only-of-type {\n",
       "        vertical-align: middle;\n",
       "    }\n",
       "\n",
       "    .dataframe tbody tr th {\n",
       "        vertical-align: top;\n",
       "    }\n",
       "\n",
       "    .dataframe thead th {\n",
       "        text-align: right;\n",
       "    }\n",
       "</style>\n",
       "<table border=\"1\" class=\"dataframe\">\n",
       "  <thead>\n",
       "    <tr style=\"text-align: right;\">\n",
       "      <th></th>\n",
       "      <th>Cid</th>\n",
       "      <th>title</th>\n",
       "      <th>hits</th>\n",
       "      <th>time</th>\n",
       "      <th>cluster</th>\n",
       "    </tr>\n",
       "  </thead>\n",
       "  <tbody>\n",
       "    <tr>\n",
       "      <th>0</th>\n",
       "      <td>1</td>\n",
       "      <td>(예비군연대) 2023년 6월 각 군 현역병  모집계획 안내</td>\n",
       "      <td>116</td>\n",
       "      <td>2023-05-26</td>\n",
       "      <td>43</td>\n",
       "    </tr>\n",
       "    <tr>\n",
       "      <th>1</th>\n",
       "      <td>1</td>\n",
       "      <td>2023 세계스카우트잼버리 영외과정활동 「사찰문화체험」 통역 자원봉사자 모집</td>\n",
       "      <td>99</td>\n",
       "      <td>2023-05-26</td>\n",
       "      <td>25</td>\n",
       "    </tr>\n",
       "    <tr>\n",
       "      <th>2</th>\n",
       "      <td>1</td>\n",
       "      <td>「대학생 테마별 톡톡 멘토링」 참여 동아리 추가모집</td>\n",
       "      <td>180</td>\n",
       "      <td>2023-05-25</td>\n",
       "      <td>285</td>\n",
       "    </tr>\n",
       "    <tr>\n",
       "      <th>3</th>\n",
       "      <td>1</td>\n",
       "      <td>「2023년 국가간 청소년교류」 및 「글로벌 청소년 서밋」청소년 참가자 모집</td>\n",
       "      <td>174</td>\n",
       "      <td>2023-05-25</td>\n",
       "      <td>354</td>\n",
       "    </tr>\n",
       "    <tr>\n",
       "      <th>4</th>\n",
       "      <td>1</td>\n",
       "      <td>2023-1 실험실습 교과목 만족도 조사 안내 (드림패스 마일리지 지급)</td>\n",
       "      <td>125</td>\n",
       "      <td>2023-05-25</td>\n",
       "      <td>140</td>\n",
       "    </tr>\n",
       "  </tbody>\n",
       "</table>\n",
       "</div>"
      ],
      "text/plain": [
       "   Cid                                       title  hits        time  cluster\n",
       "0    1           (예비군연대) 2023년 6월 각 군 현역병  모집계획 안내   116  2023-05-26       43\n",
       "1    1  2023 세계스카우트잼버리 영외과정활동 「사찰문화체험」 통역 자원봉사자 모집    99  2023-05-26       25\n",
       "2    1                「대학생 테마별 톡톡 멘토링」 참여 동아리 추가모집   180  2023-05-25      285\n",
       "3    1  「2023년 국가간 청소년교류」 및 「글로벌 청소년 서밋」청소년 참가자 모집   174  2023-05-25      354\n",
       "4    1    2023-1 실험실습 교과목 만족도 조사 안내 (드림패스 마일리지 지급)   125  2023-05-25      140"
      ]
     },
     "execution_count": 2,
     "metadata": {},
     "output_type": "execute_result"
    }
   ],
   "source": [
    "# CSV 파일 읽기\n",
    "df = pd.read_csv(\"./레이블부여된공지사항(수정본).csv\") \n",
    "df.head()"
   ]
  },
  {
   "cell_type": "code",
   "execution_count": 4,
   "id": "141652ce",
   "metadata": {},
   "outputs": [
    {
     "data": {
      "text/html": [
       "<div>\n",
       "<style scoped>\n",
       "    .dataframe tbody tr th:only-of-type {\n",
       "        vertical-align: middle;\n",
       "    }\n",
       "\n",
       "    .dataframe tbody tr th {\n",
       "        vertical-align: top;\n",
       "    }\n",
       "\n",
       "    .dataframe thead th {\n",
       "        text-align: right;\n",
       "    }\n",
       "</style>\n",
       "<table border=\"1\" class=\"dataframe\">\n",
       "  <thead>\n",
       "    <tr style=\"text-align: right;\">\n",
       "      <th></th>\n",
       "      <th>title</th>\n",
       "      <th>cluster</th>\n",
       "    </tr>\n",
       "  </thead>\n",
       "  <tbody>\n",
       "    <tr>\n",
       "      <th>0</th>\n",
       "      <td>(예비군연대) 2023년 6월 각 군 현역병  모집계획 안내</td>\n",
       "      <td>43</td>\n",
       "    </tr>\n",
       "    <tr>\n",
       "      <th>1</th>\n",
       "      <td>2023 세계스카우트잼버리 영외과정활동 「사찰문화체험」 통역 자원봉사자 모집</td>\n",
       "      <td>25</td>\n",
       "    </tr>\n",
       "    <tr>\n",
       "      <th>2</th>\n",
       "      <td>「대학생 테마별 톡톡 멘토링」 참여 동아리 추가모집</td>\n",
       "      <td>285</td>\n",
       "    </tr>\n",
       "    <tr>\n",
       "      <th>3</th>\n",
       "      <td>「2023년 국가간 청소년교류」 및 「글로벌 청소년 서밋」청소년 참가자 모집</td>\n",
       "      <td>354</td>\n",
       "    </tr>\n",
       "    <tr>\n",
       "      <th>4</th>\n",
       "      <td>2023-1 실험실습 교과목 만족도 조사 안내 (드림패스 마일리지 지급)</td>\n",
       "      <td>140</td>\n",
       "    </tr>\n",
       "    <tr>\n",
       "      <th>...</th>\n",
       "      <td>...</td>\n",
       "      <td>...</td>\n",
       "    </tr>\n",
       "    <tr>\n",
       "      <th>9902</th>\n",
       "      <td>2019년 1학기 학석 공통 과목 개설목록 안내</td>\n",
       "      <td>25</td>\n",
       "    </tr>\n",
       "    <tr>\n",
       "      <th>9903</th>\n",
       "      <td>대학원 강좌 수강신청 안내</td>\n",
       "      <td>307</td>\n",
       "    </tr>\n",
       "    <tr>\n",
       "      <th>9904</th>\n",
       "      <td>2019학년도 봄 학위수여식 일정 공지</td>\n",
       "      <td>214</td>\n",
       "    </tr>\n",
       "    <tr>\n",
       "      <th>9905</th>\n",
       "      <td>2019학년도 1학기 희망강의 신청 안내</td>\n",
       "      <td>169</td>\n",
       "    </tr>\n",
       "    <tr>\n",
       "      <th>9906</th>\n",
       "      <td>2019년 상반기 글로벌 ICT 학점연계인턴십 프로그램 공지</td>\n",
       "      <td>145</td>\n",
       "    </tr>\n",
       "  </tbody>\n",
       "</table>\n",
       "<p>9907 rows × 2 columns</p>\n",
       "</div>"
      ],
      "text/plain": [
       "                                           title  cluster\n",
       "0              (예비군연대) 2023년 6월 각 군 현역병  모집계획 안내       43\n",
       "1     2023 세계스카우트잼버리 영외과정활동 「사찰문화체험」 통역 자원봉사자 모집       25\n",
       "2                   「대학생 테마별 톡톡 멘토링」 참여 동아리 추가모집      285\n",
       "3     「2023년 국가간 청소년교류」 및 「글로벌 청소년 서밋」청소년 참가자 모집      354\n",
       "4       2023-1 실험실습 교과목 만족도 조사 안내 (드림패스 마일리지 지급)      140\n",
       "...                                          ...      ...\n",
       "9902                  2019년 1학기 학석 공통 과목 개설목록 안내       25\n",
       "9903                              대학원 강좌 수강신청 안내      307\n",
       "9904                       2019학년도 봄 학위수여식 일정 공지      214\n",
       "9905                      2019학년도 1학기 희망강의 신청 안내      169\n",
       "9906           2019년 상반기 글로벌 ICT 학점연계인턴십 프로그램 공지      145\n",
       "\n",
       "[9907 rows x 2 columns]"
      ]
     },
     "execution_count": 4,
     "metadata": {},
     "output_type": "execute_result"
    }
   ],
   "source": [
    "lf = df.reindex(columns=[\"title\",\"cluster\"]) \n",
    "lf"
   ]
  },
  {
   "cell_type": "code",
   "execution_count": 5,
   "id": "d6bc8e45",
   "metadata": {},
   "outputs": [],
   "source": [
    "lf.to_csv(r'.\\title cluster dataset.csv', index = False)"
   ]
  },
  {
   "cell_type": "markdown",
   "id": "7e547a93",
   "metadata": {},
   "source": [
    "# Naive Bayes모델"
   ]
  },
  {
   "cell_type": "code",
   "execution_count": 6,
   "id": "9c329832",
   "metadata": {},
   "outputs": [],
   "source": [
    "import pandas as pd\n",
    "from sklearn.feature_extraction.text import TfidfVectorizer\n",
    "from sklearn.model_selection import train_test_split\n",
    "from sklearn.naive_bayes import MultinomialNB\n",
    "from sklearn.metrics import accuracy_score"
   ]
  },
  {
   "cell_type": "code",
   "execution_count": 8,
   "id": "85d3cea6",
   "metadata": {},
   "outputs": [],
   "source": [
    "# CSV 파일 읽기\n",
    "data = pd.read_csv('title cluster dataset.csv')"
   ]
  },
  {
   "cell_type": "code",
   "execution_count": 9,
   "id": "74da925f",
   "metadata": {},
   "outputs": [],
   "source": [
    "#데이터 전처리 테스트가 벡터로 변환\n",
    "vectorizer = TfidfVectorizer()\n",
    "X = vectorizer.fit_transform(data['title'])\n",
    "y = data['cluster']"
   ]
  },
  {
   "cell_type": "code",
   "execution_count": 10,
   "id": "4ee77ed8",
   "metadata": {},
   "outputs": [],
   "source": [
    "#훈련 데이터 분리 train 데이터 80%, test 데이터 20%\n",
    "X_train, X_test, y_train, y_test = train_test_split(X, y, test_size=0.2, random_state=42)"
   ]
  },
  {
   "cell_type": "code",
   "execution_count": 16,
   "id": "b22ed1eb",
   "metadata": {},
   "outputs": [],
   "source": [
    "#print(X_train)"
   ]
  },
  {
   "cell_type": "code",
   "execution_count": 11,
   "id": "b7cf229f",
   "metadata": {},
   "outputs": [
    {
     "data": {
      "text/plain": [
       "MultinomialNB()"
      ]
     },
     "execution_count": 11,
     "metadata": {},
     "output_type": "execute_result"
    }
   ],
   "source": [
    "#모델 훈련\n",
    "model = MultinomialNB()\n",
    "model.fit(X_train, y_train)"
   ]
  },
  {
   "cell_type": "code",
   "execution_count": 17,
   "id": "14c001d3",
   "metadata": {},
   "outputs": [
    {
     "name": "stdout",
     "output_type": "stream",
     "text": [
      "정확도: 0.1367305751765893\n"
     ]
    }
   ],
   "source": [
    "#정확도 구하기\n",
    "y_pred = model.predict(X_test)\n",
    "accuracy = accuracy_score(y_test, y_pred)\n",
    "print(\"정확도:\", accuracy)"
   ]
  },
  {
   "cell_type": "markdown",
   "id": "ca97ac39",
   "metadata": {},
   "source": [
    "# SVM모델"
   ]
  },
  {
   "cell_type": "code",
   "execution_count": 18,
   "id": "3af920b5",
   "metadata": {},
   "outputs": [],
   "source": [
    "from sklearn.svm import SVC"
   ]
  },
  {
   "cell_type": "code",
   "execution_count": 19,
   "id": "99ffaea2",
   "metadata": {},
   "outputs": [],
   "source": [
    "data = pd.read_csv('title cluster dataset.csv')"
   ]
  },
  {
   "cell_type": "code",
   "execution_count": 20,
   "id": "7e6fd53a",
   "metadata": {},
   "outputs": [],
   "source": [
    "#데이터 전처리 테스트가 벡터로 변환\n",
    "vectorizer = TfidfVectorizer()\n",
    "X = vectorizer.fit_transform(data['title'])\n",
    "y = data['cluster']"
   ]
  },
  {
   "cell_type": "code",
   "execution_count": 95,
   "id": "709a0210",
   "metadata": {},
   "outputs": [],
   "source": [
    "#훈련 데이터 분리 train 데이터 80%, test 데이터 20%\n",
    "X_train, X_test, y_train, y_test = train_test_split(X, y, test_size=0.2, random_state=42)"
   ]
  },
  {
   "cell_type": "code",
   "execution_count": 22,
   "id": "8d6d758a",
   "metadata": {},
   "outputs": [
    {
     "data": {
      "text/plain": [
       "SVC()"
      ]
     },
     "execution_count": 22,
     "metadata": {},
     "output_type": "execute_result"
    }
   ],
   "source": [
    "model = SVC()\n",
    "model.fit(X_train, y_train)"
   ]
  },
  {
   "cell_type": "code",
   "execution_count": 24,
   "id": "ffe40246",
   "metadata": {},
   "outputs": [
    {
     "name": "stdout",
     "output_type": "stream",
     "text": [
      "정확도: 0.6316851664984864\n"
     ]
    }
   ],
   "source": [
    "y_pred = model.predict(X_test)\n",
    "accuracy = accuracy_score(y_test, y_pred)\n",
    "print(\"정확도:\", accuracy)"
   ]
  },
  {
   "cell_type": "markdown",
   "id": "a9000d12",
   "metadata": {},
   "source": [
    "# CNN모델"
   ]
  },
  {
   "cell_type": "code",
   "execution_count": 87,
   "id": "28a6a893",
   "metadata": {},
   "outputs": [],
   "source": [
    "import pandas as pd\n",
    "import numpy as np\n",
    "from sklearn.model_selection import train_test_split\n",
    "from sklearn.preprocessing import LabelEncoder\n",
    "from tensorflow.keras.preprocessing.text import Tokenizer\n",
    "from tensorflow.keras.preprocessing.sequence import pad_sequences\n",
    "from tensorflow.keras.models import Sequential\n",
    "from tensorflow.keras.layers import Embedding, Conv1D, GlobalMaxPooling1D, Dense\n",
    "from tensorflow.keras.callbacks import EarlyStopping\n"
   ]
  },
  {
   "cell_type": "code",
   "execution_count": 88,
   "id": "b7c13c38",
   "metadata": {},
   "outputs": [],
   "source": [
    "import pandas as pd\n",
    "# CSV 파일 읽기\n",
    "data = pd.read_csv('title cluster dataset.csv',dtype = {'cluster' : str})"
   ]
  },
  {
   "cell_type": "code",
   "execution_count": 89,
   "id": "fda674d5",
   "metadata": {},
   "outputs": [
    {
     "name": "stdout",
     "output_type": "stream",
     "text": [
      "<class 'pandas.core.frame.DataFrame'>\n",
      "RangeIndex: 9907 entries, 0 to 9906\n",
      "Data columns (total 2 columns):\n",
      " #   Column   Non-Null Count  Dtype \n",
      "---  ------   --------------  ----- \n",
      " 0   title    9907 non-null   object\n",
      " 1   cluster  9907 non-null   object\n",
      "dtypes: object(2)\n",
      "memory usage: 154.9+ KB\n"
     ]
    }
   ],
   "source": [
    "data.info()"
   ]
  },
  {
   "cell_type": "code",
   "execution_count": 90,
   "id": "c4262c19",
   "metadata": {},
   "outputs": [],
   "source": [
    "#전처리\n",
    "tokenizer = Tokenizer(num_words=5000)\n",
    "tokenizer.fit_on_texts(data['title'])\n",
    "X = tokenizer.texts_to_sequences(data['title'])\n",
    "X = pad_sequences(X, maxlen=100)\n",
    "\n",
    "label_encoder = LabelEncoder()\n",
    "y = label_encoder.fit_transform(data['cluster'])"
   ]
  },
  {
   "cell_type": "code",
   "execution_count": 91,
   "id": "6aac7ecc",
   "metadata": {},
   "outputs": [
    {
     "data": {
      "text/plain": [
       "array([[   0,    0,    0, ..., 1179,  359,    1],\n",
       "       [   0,    0,    0, ..., 1398,  430,    2],\n",
       "       [   0,    0,    0, ...,   90,  233,  126],\n",
       "       ...,\n",
       "       [   0,    0,    0, ...,  506,   71,   84],\n",
       "       [   0,    0,    0, ...,  419,   13,    1],\n",
       "       [   0,    0,    0, ...,  363,   20,   84]])"
      ]
     },
     "execution_count": 91,
     "metadata": {},
     "output_type": "execute_result"
    }
   ],
   "source": [
    "X"
   ]
  },
  {
   "cell_type": "code",
   "execution_count": 92,
   "id": "bceda68d",
   "metadata": {},
   "outputs": [],
   "source": [
    "#훈련 데이터 분리 train 데이터 80%, test 데이터 20%\n",
    "X_train, X_test, y_train, y_test = train_test_split(X, y, test_size=0.2, random_state=42)"
   ]
  },
  {
   "cell_type": "code",
   "execution_count": 93,
   "id": "5f0cdfd7",
   "metadata": {},
   "outputs": [],
   "source": [
    "#CNN모델 생성\n",
    "model = Sequential()\n",
    "model.add(Embedding(5000, 128, input_length=100))\n",
    "model.add(Conv1D(64, 5, activation='relu'))\n",
    "model.add(GlobalMaxPooling1D())\n",
    "model.add(Dense(64, activation='relu'))\n",
    "model.add(Dense(1, activation='sigmoid'))\n",
    "model.compile(optimizer='adam', loss='binary_crossentropy', metrics=['accuracy'])"
   ]
  },
  {
   "cell_type": "code",
   "execution_count": 94,
   "id": "4e9af3b2",
   "metadata": {},
   "outputs": [
    {
     "name": "stdout",
     "output_type": "stream",
     "text": [
      "Epoch 1/10\n",
      "248/248 [==============================] - 5s 19ms/step - loss: -3285375.0000 - accuracy: 0.0038 - val_loss: -18440126.0000 - val_accuracy: 0.0081\n",
      "Epoch 2/10\n",
      "248/248 [==============================] - 4s 18ms/step - loss: -151345536.0000 - accuracy: 0.0038 - val_loss: -405119616.0000 - val_accuracy: 0.0081\n",
      "Epoch 3/10\n",
      "248/248 [==============================] - 4s 17ms/step - loss: -1145342720.0000 - accuracy: 0.0038 - val_loss: -2164119808.0000 - val_accuracy: 0.0081\n",
      "Epoch 4/10\n",
      "248/248 [==============================] - 4s 18ms/step - loss: -4263944448.0000 - accuracy: 0.0038 - val_loss: -6724974592.0000 - val_accuracy: 0.0081\n",
      "Epoch 5/10\n",
      "248/248 [==============================] - 4s 18ms/step - loss: -11112808448.0000 - accuracy: 0.0038 - val_loss: -15748839424.0000 - val_accuracy: 0.0081\n",
      "Epoch 6/10\n",
      "248/248 [==============================] - 4s 18ms/step - loss: -23438491648.0000 - accuracy: 0.0038 - val_loss: -30933032960.0000 - val_accuracy: 0.0081\n",
      "Epoch 7/10\n",
      "248/248 [==============================] - 4s 17ms/step - loss: -43026124800.0000 - accuracy: 0.0038 - val_loss: -53977849856.0000 - val_accuracy: 0.0081\n",
      "Epoch 8/10\n",
      "248/248 [==============================] - 4s 17ms/step - loss: -71645822976.0000 - accuracy: 0.0038 - val_loss: -86625173504.0000 - val_accuracy: 0.0081\n",
      "Epoch 9/10\n",
      "248/248 [==============================] - 4s 17ms/step - loss: -110962393088.0000 - accuracy: 0.0038 - val_loss: -130408488960.0000 - val_accuracy: 0.0081\n",
      "Epoch 10/10\n",
      "248/248 [==============================] - 4s 18ms/step - loss: -162588737536.0000 - accuracy: 0.0038 - val_loss: -187044397056.0000 - val_accuracy: 0.0081\n"
     ]
    },
    {
     "data": {
      "text/plain": [
       "<keras.callbacks.History at 0x1635fe785b0>"
      ]
     },
     "execution_count": 94,
     "metadata": {},
     "output_type": "execute_result"
    }
   ],
   "source": [
    "#모델 훈현\n",
    "model.fit(X_train, y_train, epochs=10, batch_size=32, validation_data=(X_test, y_test), callbacks=[EarlyStopping(patience=3)])"
   ]
  },
  {
   "cell_type": "code",
   "execution_count": 96,
   "id": "09907760",
   "metadata": {},
   "outputs": [
    {
     "name": "stdout",
     "output_type": "stream",
     "text": [
      "Accuracy: 0.0005045408678102926\n"
     ]
    }
   ],
   "source": [
    "y_prob = model.predict(X_test, verbose=0) \n",
    "y_pred = y_prob.argmax(axis=-1)\n",
    "accuracy = np.sum(y_pred.flatten() == y_test) / len(y_test)\n",
    "print(\"Accuracy:\", accuracy)"
   ]
  },
  {
   "cell_type": "markdown",
   "id": "df1d295a",
   "metadata": {},
   "source": [
    "# LSTM모델"
   ]
  },
  {
   "cell_type": "code",
   "execution_count": 97,
   "id": "54038dff",
   "metadata": {},
   "outputs": [],
   "source": [
    "import pandas as pd\n",
    "import numpy as np\n",
    "from sklearn.model_selection import train_test_split\n",
    "from sklearn.preprocessing import LabelEncoder\n",
    "from tensorflow.keras.preprocessing.text import Tokenizer\n",
    "from tensorflow.keras.preprocessing.sequence import pad_sequences\n",
    "from tensorflow.keras.models import Sequential\n",
    "from tensorflow.keras.layers import Embedding, LSTM, Dense\n",
    "from tensorflow.keras.callbacks import EarlyStopping\n"
   ]
  },
  {
   "cell_type": "code",
   "execution_count": 98,
   "id": "bc0cba10",
   "metadata": {},
   "outputs": [],
   "source": [
    "import pandas as pd\n",
    "# CSV 파일 읽기\n",
    "data = pd.read_csv('title cluster dataset.csv',dtype = {'cluster' : str})"
   ]
  },
  {
   "cell_type": "code",
   "execution_count": 99,
   "id": "5913a15d",
   "metadata": {},
   "outputs": [],
   "source": [
    "#전처리\n",
    "tokenizer = Tokenizer(num_words=5000)\n",
    "tokenizer.fit_on_texts(data['title'])\n",
    "X = tokenizer.texts_to_sequences(data['title'])\n",
    "X = pad_sequences(X)\n",
    "\n",
    "label_encoder = LabelEncoder()\n",
    "y = label_encoder.fit_transform(data['cluster'])"
   ]
  },
  {
   "cell_type": "code",
   "execution_count": 100,
   "id": "12ddc17e",
   "metadata": {},
   "outputs": [],
   "source": [
    "#훈련 데이터 분리 train 데이터 80%, test 데이터 20%\n",
    "X_train, X_test, y_train, y_test = train_test_split(X, y, test_size=0.2, random_state=42)"
   ]
  },
  {
   "cell_type": "code",
   "execution_count": 101,
   "id": "091bf74d",
   "metadata": {},
   "outputs": [],
   "source": [
    "#LSTM모델 생성\n",
    "model = Sequential()\n",
    "model.add(Embedding(5000, 128, input_length=X.shape[1]))\n",
    "model.add(LSTM(128))\n",
    "model.add(Dense(64, activation='relu'))\n",
    "model.add(Dense(1, activation='sigmoid'))\n",
    "model.compile(optimizer='adam', loss='binary_crossentropy', metrics=['accuracy'])"
   ]
  },
  {
   "cell_type": "code",
   "execution_count": 102,
   "id": "766f71df",
   "metadata": {},
   "outputs": [
    {
     "name": "stdout",
     "output_type": "stream",
     "text": [
      "Epoch 1/10\n",
      "248/248 [==============================] - 10s 31ms/step - loss: -49617.6758 - accuracy: 0.0038 - val_loss: -131416.3125 - val_accuracy: 0.0081\n",
      "Epoch 2/10\n",
      "248/248 [==============================] - 7s 29ms/step - loss: -295690.1562 - accuracy: 0.0038 - val_loss: -480415.6250 - val_accuracy: 0.0081\n",
      "Epoch 3/10\n",
      "248/248 [==============================] - 6s 25ms/step - loss: -766878.5000 - accuracy: 0.0038 - val_loss: -1045135.4375 - val_accuracy: 0.0081\n",
      "Epoch 4/10\n",
      "248/248 [==============================] - 7s 30ms/step - loss: -1452715.0000 - accuracy: 0.0038 - val_loss: -1808003.2500 - val_accuracy: 0.0081\n",
      "Epoch 5/10\n",
      "248/248 [==============================] - 7s 29ms/step - loss: -2336670.7500 - accuracy: 0.0038 - val_loss: -2755651.5000 - val_accuracy: 0.0081\n",
      "Epoch 6/10\n",
      "248/248 [==============================] - 7s 30ms/step - loss: -3401743.0000 - accuracy: 0.0038 - val_loss: -3873390.0000 - val_accuracy: 0.0081\n",
      "Epoch 7/10\n",
      "248/248 [==============================] - 8s 31ms/step - loss: -4636785.5000 - accuracy: 0.0038 - val_loss: -5148315.5000 - val_accuracy: 0.0081\n",
      "Epoch 8/10\n",
      "248/248 [==============================] - 7s 29ms/step - loss: -6028944.0000 - accuracy: 0.0038 - val_loss: -6569641.5000 - val_accuracy: 0.0081\n",
      "Epoch 9/10\n",
      "248/248 [==============================] - 6s 26ms/step - loss: -7567091.0000 - accuracy: 0.0038 - val_loss: -8133310.0000 - val_accuracy: 0.0081\n",
      "Epoch 10/10\n",
      "248/248 [==============================] - 7s 27ms/step - loss: -9246530.0000 - accuracy: 0.0038 - val_loss: -9826121.0000 - val_accuracy: 0.0081\n"
     ]
    },
    {
     "data": {
      "text/plain": [
       "<keras.callbacks.History at 0x1635fe9a370>"
      ]
     },
     "execution_count": 102,
     "metadata": {},
     "output_type": "execute_result"
    }
   ],
   "source": [
    "#모델훈련\n",
    "model.fit(X_train, y_train, epochs=10, batch_size=32, validation_data=(X_test, y_test), callbacks=[EarlyStopping(patience=3)])"
   ]
  },
  {
   "cell_type": "code",
   "execution_count": 103,
   "id": "99efb6eb",
   "metadata": {},
   "outputs": [
    {
     "name": "stdout",
     "output_type": "stream",
     "text": [
      "Accuracy: 0.0005045408678102926\n"
     ]
    }
   ],
   "source": [
    "y_prob = model.predict(X_test, verbose=0) \n",
    "y_pred = y_prob.argmax(axis=-1)\n",
    "accuracy = np.sum(y_pred.flatten() == y_test) / len(y_test)\n",
    "print(\"Accuracy:\", accuracy)"
   ]
  },
  {
   "cell_type": "code",
   "execution_count": null,
   "id": "863890f4",
   "metadata": {},
   "outputs": [],
   "source": []
  }
 ],
 "metadata": {
  "kernelspec": {
   "display_name": "Python 3 (ipykernel)",
   "language": "python",
   "name": "python3"
  },
  "language_info": {
   "codemirror_mode": {
    "name": "ipython",
    "version": 3
   },
   "file_extension": ".py",
   "mimetype": "text/x-python",
   "name": "python",
   "nbconvert_exporter": "python",
   "pygments_lexer": "ipython3",
   "version": "3.9.7"
  }
 },
 "nbformat": 4,
 "nbformat_minor": 5
}
