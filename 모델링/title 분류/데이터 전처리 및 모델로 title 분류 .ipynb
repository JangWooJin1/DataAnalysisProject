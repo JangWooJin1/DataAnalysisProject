{
 "cells": [
  {
   "cell_type": "code",
   "execution_count": 1,
   "id": "b39d7081",
   "metadata": {},
   "outputs": [
    {
     "name": "stdout",
     "output_type": "stream",
     "text": [
      "Requirement already satisfied: konlpy in c:\\users\\yuty\\anaconda3\\lib\\site-packages (0.6.0)\n",
      "Requirement already satisfied: JPype1>=0.7.0 in c:\\users\\yuty\\anaconda3\\lib\\site-packages (from konlpy) (1.4.1)\n",
      "Requirement already satisfied: lxml>=4.1.0 in c:\\users\\yuty\\anaconda3\\lib\\site-packages (from konlpy) (4.6.3)\n",
      "Requirement already satisfied: numpy>=1.6 in c:\\users\\yuty\\anaconda3\\lib\\site-packages (from konlpy) (1.20.3)\n",
      "Requirement already satisfied: packaging in c:\\users\\yuty\\anaconda3\\lib\\site-packages (from JPype1>=0.7.0->konlpy) (21.0)\n",
      "Requirement already satisfied: pyparsing>=2.0.2 in c:\\users\\yuty\\anaconda3\\lib\\site-packages (from packaging->JPype1>=0.7.0->konlpy) (3.0.4)\n",
      "Note: you may need to restart the kernel to use updated packages.\n"
     ]
    }
   ],
   "source": [
    "pip install konlpy"
   ]
  },
  {
   "cell_type": "code",
   "execution_count": 2,
   "id": "90d5ed4d",
   "metadata": {},
   "outputs": [],
   "source": [
    "import numpy as np\n",
    "import re\n",
    "from datetime import datetime\n",
    "from konlpy.tag import Okt\n",
    "import pandas as pd\n",
    "from sklearn.feature_extraction.text import TfidfVectorizer\n",
    "from sklearn.model_selection import train_test_split\n",
    "from sklearn.naive_bayes import MultinomialNB\n",
    "from sklearn.metrics import accuracy_score"
   ]
  },
  {
   "cell_type": "code",
   "execution_count": 3,
   "id": "47731f23",
   "metadata": {},
   "outputs": [
    {
     "data": {
      "text/html": [
       "<div>\n",
       "<style scoped>\n",
       "    .dataframe tbody tr th:only-of-type {\n",
       "        vertical-align: middle;\n",
       "    }\n",
       "\n",
       "    .dataframe tbody tr th {\n",
       "        vertical-align: top;\n",
       "    }\n",
       "\n",
       "    .dataframe thead th {\n",
       "        text-align: right;\n",
       "    }\n",
       "</style>\n",
       "<table border=\"1\" class=\"dataframe\">\n",
       "  <thead>\n",
       "    <tr style=\"text-align: right;\">\n",
       "      <th></th>\n",
       "      <th>Cid</th>\n",
       "      <th>title</th>\n",
       "      <th>hits</th>\n",
       "      <th>time</th>\n",
       "      <th>cluster</th>\n",
       "    </tr>\n",
       "  </thead>\n",
       "  <tbody>\n",
       "    <tr>\n",
       "      <th>0</th>\n",
       "      <td>1</td>\n",
       "      <td>(예비군연대) 2023년 6월 각 군 현역병  모집계획 안내</td>\n",
       "      <td>116</td>\n",
       "      <td>2023-05-26</td>\n",
       "      <td>43</td>\n",
       "    </tr>\n",
       "    <tr>\n",
       "      <th>1</th>\n",
       "      <td>1</td>\n",
       "      <td>2023 세계스카우트잼버리 영외과정활동 「사찰문화체험」 통역 자원봉사자 모집</td>\n",
       "      <td>99</td>\n",
       "      <td>2023-05-26</td>\n",
       "      <td>25</td>\n",
       "    </tr>\n",
       "    <tr>\n",
       "      <th>2</th>\n",
       "      <td>1</td>\n",
       "      <td>「대학생 테마별 톡톡 멘토링」 참여 동아리 추가모집</td>\n",
       "      <td>180</td>\n",
       "      <td>2023-05-25</td>\n",
       "      <td>285</td>\n",
       "    </tr>\n",
       "    <tr>\n",
       "      <th>3</th>\n",
       "      <td>1</td>\n",
       "      <td>「2023년 국가간 청소년교류」 및 「글로벌 청소년 서밋」청소년 참가자 모집</td>\n",
       "      <td>174</td>\n",
       "      <td>2023-05-25</td>\n",
       "      <td>354</td>\n",
       "    </tr>\n",
       "    <tr>\n",
       "      <th>4</th>\n",
       "      <td>1</td>\n",
       "      <td>2023-1 실험실습 교과목 만족도 조사 안내 (드림패스 마일리지 지급)</td>\n",
       "      <td>125</td>\n",
       "      <td>2023-05-25</td>\n",
       "      <td>140</td>\n",
       "    </tr>\n",
       "  </tbody>\n",
       "</table>\n",
       "</div>"
      ],
      "text/plain": [
       "   Cid                                       title  hits        time  cluster\n",
       "0    1           (예비군연대) 2023년 6월 각 군 현역병  모집계획 안내   116  2023-05-26       43\n",
       "1    1  2023 세계스카우트잼버리 영외과정활동 「사찰문화체험」 통역 자원봉사자 모집    99  2023-05-26       25\n",
       "2    1                「대학생 테마별 톡톡 멘토링」 참여 동아리 추가모집   180  2023-05-25      285\n",
       "3    1  「2023년 국가간 청소년교류」 및 「글로벌 청소년 서밋」청소년 참가자 모집   174  2023-05-25      354\n",
       "4    1    2023-1 실험실습 교과목 만족도 조사 안내 (드림패스 마일리지 지급)   125  2023-05-25      140"
      ]
     },
     "execution_count": 3,
     "metadata": {},
     "output_type": "execute_result"
    }
   ],
   "source": [
    "# CSV 파일 읽기\n",
    "df = pd.read_csv(\"./레이블부여된공지사항(수정본).csv\") \n",
    "df.head()"
   ]
  },
  {
   "cell_type": "code",
   "execution_count": 8,
   "id": "141652ce",
   "metadata": {},
   "outputs": [
    {
     "data": {
      "text/html": [
       "<div>\n",
       "<style scoped>\n",
       "    .dataframe tbody tr th:only-of-type {\n",
       "        vertical-align: middle;\n",
       "    }\n",
       "\n",
       "    .dataframe tbody tr th {\n",
       "        vertical-align: top;\n",
       "    }\n",
       "\n",
       "    .dataframe thead th {\n",
       "        text-align: right;\n",
       "    }\n",
       "</style>\n",
       "<table border=\"1\" class=\"dataframe\">\n",
       "  <thead>\n",
       "    <tr style=\"text-align: right;\">\n",
       "      <th></th>\n",
       "      <th>title</th>\n",
       "      <th>cluster</th>\n",
       "    </tr>\n",
       "  </thead>\n",
       "  <tbody>\n",
       "    <tr>\n",
       "      <th>0</th>\n",
       "      <td>(예비군연대) 2023년 6월 각 군 현역병  모집계획 안내</td>\n",
       "      <td>43</td>\n",
       "    </tr>\n",
       "    <tr>\n",
       "      <th>1</th>\n",
       "      <td>2023 세계스카우트잼버리 영외과정활동 「사찰문화체험」 통역 자원봉사자 모집</td>\n",
       "      <td>25</td>\n",
       "    </tr>\n",
       "    <tr>\n",
       "      <th>2</th>\n",
       "      <td>「대학생 테마별 톡톡 멘토링」 참여 동아리 추가모집</td>\n",
       "      <td>285</td>\n",
       "    </tr>\n",
       "    <tr>\n",
       "      <th>3</th>\n",
       "      <td>「2023년 국가간 청소년교류」 및 「글로벌 청소년 서밋」청소년 참가자 모집</td>\n",
       "      <td>354</td>\n",
       "    </tr>\n",
       "    <tr>\n",
       "      <th>4</th>\n",
       "      <td>2023-1 실험실습 교과목 만족도 조사 안내 (드림패스 마일리지 지급)</td>\n",
       "      <td>140</td>\n",
       "    </tr>\n",
       "    <tr>\n",
       "      <th>...</th>\n",
       "      <td>...</td>\n",
       "      <td>...</td>\n",
       "    </tr>\n",
       "    <tr>\n",
       "      <th>9902</th>\n",
       "      <td>2019년 1학기 학석 공통 과목 개설목록 안내</td>\n",
       "      <td>25</td>\n",
       "    </tr>\n",
       "    <tr>\n",
       "      <th>9903</th>\n",
       "      <td>대학원 강좌 수강신청 안내</td>\n",
       "      <td>307</td>\n",
       "    </tr>\n",
       "    <tr>\n",
       "      <th>9904</th>\n",
       "      <td>2019학년도 봄 학위수여식 일정 공지</td>\n",
       "      <td>214</td>\n",
       "    </tr>\n",
       "    <tr>\n",
       "      <th>9905</th>\n",
       "      <td>2019학년도 1학기 희망강의 신청 안내</td>\n",
       "      <td>169</td>\n",
       "    </tr>\n",
       "    <tr>\n",
       "      <th>9906</th>\n",
       "      <td>2019년 상반기 글로벌 ICT 학점연계인턴십 프로그램 공지</td>\n",
       "      <td>145</td>\n",
       "    </tr>\n",
       "  </tbody>\n",
       "</table>\n",
       "<p>9907 rows × 2 columns</p>\n",
       "</div>"
      ],
      "text/plain": [
       "                                           title  cluster\n",
       "0              (예비군연대) 2023년 6월 각 군 현역병  모집계획 안내       43\n",
       "1     2023 세계스카우트잼버리 영외과정활동 「사찰문화체험」 통역 자원봉사자 모집       25\n",
       "2                   「대학생 테마별 톡톡 멘토링」 참여 동아리 추가모집      285\n",
       "3     「2023년 국가간 청소년교류」 및 「글로벌 청소년 서밋」청소년 참가자 모집      354\n",
       "4       2023-1 실험실습 교과목 만족도 조사 안내 (드림패스 마일리지 지급)      140\n",
       "...                                          ...      ...\n",
       "9902                  2019년 1학기 학석 공통 과목 개설목록 안내       25\n",
       "9903                              대학원 강좌 수강신청 안내      307\n",
       "9904                       2019학년도 봄 학위수여식 일정 공지      214\n",
       "9905                      2019학년도 1학기 희망강의 신청 안내      169\n",
       "9906           2019년 상반기 글로벌 ICT 학점연계인턴십 프로그램 공지      145\n",
       "\n",
       "[9907 rows x 2 columns]"
      ]
     },
     "execution_count": 8,
     "metadata": {},
     "output_type": "execute_result"
    }
   ],
   "source": [
    "lf = df.reindex(columns=[\"title\",\"cluster\"]) \n",
    "lf"
   ]
  },
  {
   "cell_type": "code",
   "execution_count": 9,
   "id": "d6bc8e45",
   "metadata": {},
   "outputs": [],
   "source": [
    "lf.to_csv(r'.\\title cluster dataset.csv', index = False)"
   ]
  },
  {
   "cell_type": "markdown",
   "id": "7e547a93",
   "metadata": {},
   "source": [
    "# Naive Bayes모델"
   ]
  },
  {
   "cell_type": "code",
   "execution_count": null,
   "id": "9c329832",
   "metadata": {},
   "outputs": [],
   "source": []
  },
  {
   "cell_type": "code",
   "execution_count": 37,
   "id": "85d3cea6",
   "metadata": {},
   "outputs": [],
   "source": [
    "# CSV 파일 읽기\n",
    "data = pd.read_csv('title cluster dataset.csv')"
   ]
  },
  {
   "cell_type": "code",
   "execution_count": 38,
   "id": "74da925f",
   "metadata": {},
   "outputs": [],
   "source": [
    "#데이터 전처리 테스트가 벡터로 변환\n",
    "vectorizer = TfidfVectorizer()\n",
    "X = vectorizer.fit_transform(data['title'])\n",
    "y = data['cluster']"
   ]
  },
  {
   "cell_type": "code",
   "execution_count": 39,
   "id": "4ee77ed8",
   "metadata": {},
   "outputs": [],
   "source": [
    "#훈련 데이터 분리 train 데이터 80%, test 데이터 20%\n",
    "X_train, X_test, y_train, y_test = train_test_split(X, y, test_size=0.2, random_state=42)"
   ]
  },
  {
   "cell_type": "code",
   "execution_count": 40,
   "id": "b22ed1eb",
   "metadata": {},
   "outputs": [],
   "source": [
    "#print(X_train)"
   ]
  },
  {
   "cell_type": "code",
   "execution_count": 41,
   "id": "b7cf229f",
   "metadata": {},
   "outputs": [
    {
     "data": {
      "text/plain": [
       "MultinomialNB()"
      ]
     },
     "execution_count": 41,
     "metadata": {},
     "output_type": "execute_result"
    }
   ],
   "source": [
    "#모델 훈련\n",
    "model = MultinomialNB()\n",
    "model.fit(X_train, y_train)"
   ]
  },
  {
   "cell_type": "code",
   "execution_count": 42,
   "id": "14c001d3",
   "metadata": {},
   "outputs": [
    {
     "name": "stdout",
     "output_type": "stream",
     "text": [
      "정확도: 0.1367305751765893\n"
     ]
    }
   ],
   "source": [
    "#정확도 구하기\n",
    "y_pred = model.predict(X_test)\n",
    "NaiveBayes_accuracy = accuracy_score(y_test, y_pred)\n",
    "print(\"정확도:\", NaiveBayes_accuracy)"
   ]
  },
  {
   "cell_type": "markdown",
   "id": "ca97ac39",
   "metadata": {},
   "source": [
    "# SVM모델"
   ]
  },
  {
   "cell_type": "code",
   "execution_count": 30,
   "id": "3af920b5",
   "metadata": {},
   "outputs": [],
   "source": [
    "from sklearn.svm import SVC"
   ]
  },
  {
   "cell_type": "code",
   "execution_count": 31,
   "id": "99ffaea2",
   "metadata": {},
   "outputs": [],
   "source": [
    "data = pd.read_csv('title cluster dataset.csv')"
   ]
  },
  {
   "cell_type": "code",
   "execution_count": 85,
   "id": "7e6fd53a",
   "metadata": {},
   "outputs": [],
   "source": [
    "#데이터 전처리 테스트가 벡터로 변환\n",
    "vectorizer = TfidfVectorizer()\n",
    "X = vectorizer.fit_transform(df['title'])\n",
    "y = data['cluster']"
   ]
  },
  {
   "cell_type": "code",
   "execution_count": 86,
   "id": "709a0210",
   "metadata": {},
   "outputs": [],
   "source": [
    "#훈련 데이터 분리 train 데이터 80%, test 데이터 20%\n",
    "X_train, X_test, y_train, y_test = train_test_split(X, y, test_size=0.2, random_state=42)"
   ]
  },
  {
   "cell_type": "code",
   "execution_count": 87,
   "id": "8d6d758a",
   "metadata": {},
   "outputs": [
    {
     "data": {
      "text/plain": [
       "SVC()"
      ]
     },
     "execution_count": 87,
     "metadata": {},
     "output_type": "execute_result"
    }
   ],
   "source": [
    "model = SVC()\n",
    "model.fit(X_train, y_train)"
   ]
  },
  {
   "cell_type": "code",
   "execution_count": 36,
   "id": "ffe40246",
   "metadata": {},
   "outputs": [
    {
     "name": "stdout",
     "output_type": "stream",
     "text": [
      "정확도: 0.6316851664984864\n"
     ]
    }
   ],
   "source": [
    "y_pred = model.predict(X_test)\n",
    "SVM_accuracy = accuracy_score(y_test, y_pred)\n",
    "print(\"정확도:\", SVM_accuracy)"
   ]
  },
  {
   "cell_type": "markdown",
   "id": "a9000d12",
   "metadata": {},
   "source": [
    "# CNN모델"
   ]
  },
  {
   "cell_type": "code",
   "execution_count": 97,
   "id": "28a6a893",
   "metadata": {},
   "outputs": [],
   "source": [
    "import pandas as pd\n",
    "import numpy as np\n",
    "import re\n",
    "from sklearn.model_selection import train_test_split\n",
    "from sklearn.preprocessing import LabelEncoder\n",
    "from sklearn.feature_extraction.text import TfidfVectorizer\n",
    "from tensorflow.keras.models import Sequential\n",
    "from tensorflow.keras.layers import Embedding, Conv1D, GlobalMaxPooling1D, Dense\n",
    "from tensorflow.keras.preprocessing.text import Tokenizer\n",
    "from tensorflow.keras.preprocessing.sequence import pad_sequences\n",
    "from tensorflow.keras.utils import to_categorical\n",
    "from konlpy.tag import Okt\n",
    "from tensorflow.keras.callbacks import EarlyStopping"
   ]
  },
  {
   "cell_type": "code",
   "execution_count": 98,
   "id": "b7c13c38",
   "metadata": {},
   "outputs": [],
   "source": [
    "# CSV 파일 읽기\n",
    "df = pd.read_csv(\"./레이블부여된공지사항(수정본).csv\") \n",
    "\n",
    "notice_names = df['title'].tolist()\n",
    "\n",
    "# 전처리 함수 정의\n",
    "def preprocess_text(text):\n",
    "    # 특수문자 제거\n",
    "    text = re.sub(r\"[^\\uAC00-\\uD7A30-9a-zA-Z\\s]\", \"\", text)\n",
    "\n",
    "    # 숫자 정보 제거\n",
    "    text = re.sub(r'\\d+', '', text)\n",
    "\n",
    "    # 형태소 분석\n",
    "    tagger = Okt()\n",
    "    words = tagger.morphs(text)\n",
    "\n",
    "    # 불용어 제거\n",
    "    stop_words = ['필독', '학기', '학년', '도', '년', '제', '회', '월', '학부', '일', '차', '년도', '안내']  # 불용어 리스트\n",
    "    words = [word for word in words if word not in stop_words]\n",
    "\n",
    "    # 분석된 형태소들을 공백으로 결합하여 문장으로 반환\n",
    "    text = ' '.join(words)\n",
    "\n",
    "    return text\n",
    "\n",
    "\n",
    "preprocessed_notice_names = [preprocess_text(notice_name) for notice_name in notice_names]"
   ]
  },
  {
   "cell_type": "code",
   "execution_count": 99,
   "id": "7aae4507",
   "metadata": {},
   "outputs": [
    {
     "name": "stdout",
     "output_type": "stream",
     "text": [
      "가장 긴 문장의 길이: 29\n",
      "어휘 사전의 크기: 6093\n"
     ]
    }
   ],
   "source": [
    "# 토크나이저 생성\n",
    "tokenizer = Tokenizer()\n",
    "\n",
    "# 토크나이저가 데이터를 학습\n",
    "tokenizer.fit_on_texts(preprocessed_notice_names)\n",
    "\n",
    "# 데이터를 시퀀스로 변환\n",
    "sequences = tokenizer.texts_to_sequences(preprocessed_notice_names)\n",
    "\n",
    "# 가장 긴 문장의 길이를 확인\n",
    "max_sequence_length = max(len(s) for s in sequences)\n",
    "print('가장 긴 문장의 길이:', max_sequence_length)\n",
    "\n",
    "# 어휘 사전의 크기를 확인 (+1을 하는 이유는 0인덱스를 고려하기 때문입니다.)\n",
    "vocab_size = len(tokenizer.word_index) + 1\n",
    "print('어휘 사전의 크기:', vocab_size)\n",
    "\n",
    "# 모든 문장을 가장 긴 문장의 길이로 패딩 처리\n",
    "padded_X = pad_sequences(sequences, maxlen=max_sequence_length, padding='post')"
   ]
  },
  {
   "cell_type": "code",
   "execution_count": 100,
   "id": "c4262c19",
   "metadata": {},
   "outputs": [],
   "source": [
    "# TF-IDF 벡터화\n",
    "vectorizer = TfidfVectorizer()\n",
    "X = vectorizer.fit_transform(preprocessed_notice_names)\n",
    "\n",
    "tfidf_model = TfidfVectorizer().fit(preprocessed_notice_names)\n",
    "\n",
    "label_encoder = LabelEncoder()\n",
    "y = label_encoder.fit_transform(df['cluster'])"
   ]
  },
  {
   "cell_type": "code",
   "execution_count": 101,
   "id": "bceda68d",
   "metadata": {},
   "outputs": [],
   "source": [
    "# 훈련 데이터 분리: train 데이터 80%, test 데이터 20%\n",
    "X_train, X_test, y_train, y_test = train_test_split(padded_X, y, test_size=0.2, random_state=42)"
   ]
  },
  {
   "cell_type": "code",
   "execution_count": 102,
   "id": "029f331b",
   "metadata": {},
   "outputs": [],
   "source": [
    "# 타겟 변수 다중 클래스 원-핫 인코딩\n",
    "y_train_encoded = to_categorical(y_train)\n",
    "y_test_encoded = to_categorical(y_test)"
   ]
  },
  {
   "cell_type": "code",
   "execution_count": 103,
   "id": "5f0cdfd7",
   "metadata": {},
   "outputs": [],
   "source": [
    "# CNN 모델 생성\n",
    "model = Sequential()\n",
    "model.add(Embedding(vocab_size, 128, input_length=max_sequence_length))\n",
    "model.add(Conv1D(64, 5, activation='relu'))\n",
    "model.add(GlobalMaxPooling1D())\n",
    "model.add(Dense(64, activation='relu'))\n",
    "\n",
    "# 출력 뉴런의 개수와 활성화 함수를 클래스 개수에 따라 조정\n",
    "num_classes = len(set(y))  # 클래스 개수 계산\n",
    "if num_classes == 2:\n",
    "    model.add(Dense(1, activation='sigmoid'))\n",
    "    model.compile(optimizer='adam', loss='binary_crossentropy', metrics=['accuracy'])\n",
    "else:\n",
    "    model.add(Dense(num_classes, activation='softmax'))\n",
    "    model.compile(optimizer='adam', loss='categorical_crossentropy', metrics=['accuracy'])"
   ]
  },
  {
   "cell_type": "code",
   "execution_count": 104,
   "id": "4e9af3b2",
   "metadata": {},
   "outputs": [
    {
     "name": "stdout",
     "output_type": "stream",
     "text": [
      "Epoch 1/10\n",
      "248/248 [==============================] - 5s 15ms/step - loss: 5.7416 - accuracy: 0.0776 - val_loss: 4.9572 - val_accuracy: 0.1529\n",
      "Epoch 2/10\n",
      "248/248 [==============================] - 3s 13ms/step - loss: 3.5895 - accuracy: 0.3233 - val_loss: 2.5819 - val_accuracy: 0.5202\n",
      "Epoch 3/10\n",
      "248/248 [==============================] - 3s 13ms/step - loss: 1.4906 - accuracy: 0.7027 - val_loss: 1.4912 - val_accuracy: 0.7023\n",
      "Epoch 4/10\n",
      "248/248 [==============================] - 3s 13ms/step - loss: 0.6054 - accuracy: 0.8787 - val_loss: 1.1156 - val_accuracy: 0.7805\n",
      "Epoch 5/10\n",
      "248/248 [==============================] - 3s 13ms/step - loss: 0.2571 - accuracy: 0.9518 - val_loss: 1.0001 - val_accuracy: 0.7916\n",
      "Epoch 6/10\n",
      "248/248 [==============================] - 3s 13ms/step - loss: 0.1164 - accuracy: 0.9821 - val_loss: 0.9937 - val_accuracy: 0.8068\n",
      "Epoch 7/10\n",
      "248/248 [==============================] - 3s 13ms/step - loss: 0.0523 - accuracy: 0.9943 - val_loss: 0.9725 - val_accuracy: 0.8209\n",
      "Epoch 8/10\n",
      "248/248 [==============================] - 3s 13ms/step - loss: 0.0306 - accuracy: 0.9970 - val_loss: 0.9663 - val_accuracy: 0.8229\n",
      "Epoch 9/10\n",
      "248/248 [==============================] - 3s 13ms/step - loss: 0.0151 - accuracy: 0.9992 - val_loss: 0.9791 - val_accuracy: 0.8290\n",
      "Epoch 10/10\n",
      "248/248 [==============================] - 3s 13ms/step - loss: 0.0104 - accuracy: 0.9992 - val_loss: 0.9950 - val_accuracy: 0.8214\n"
     ]
    },
    {
     "data": {
      "text/plain": [
       "<keras.callbacks.History at 0x1c8bfa8ec70>"
      ]
     },
     "execution_count": 104,
     "metadata": {},
     "output_type": "execute_result"
    }
   ],
   "source": [
    "#모델 훈현\n",
    "model.fit(X_train, y_train_encoded, epochs=10, batch_size=32, validation_data=(X_test, y_test_encoded), callbacks=[EarlyStopping(patience=3)])"
   ]
  },
  {
   "cell_type": "code",
   "execution_count": 105,
   "id": "09907760",
   "metadata": {},
   "outputs": [
    {
     "name": "stdout",
     "output_type": "stream",
     "text": [
      "Accuracy: 0.8213925327951564\n"
     ]
    }
   ],
   "source": [
    "y_prob = model.predict(X_test, verbose=0) \n",
    "y_pred = y_prob.argmax(axis=-1)\n",
    "CNN_accuracy = np.sum(y_pred.flatten() == y_test) / len(y_test)\n",
    "print(\"Accuracy:\", CNN_accuracy)"
   ]
  },
  {
   "cell_type": "markdown",
   "id": "df1d295a",
   "metadata": {},
   "source": [
    "# LSTM모델"
   ]
  },
  {
   "cell_type": "code",
   "execution_count": 125,
   "id": "54038dff",
   "metadata": {},
   "outputs": [],
   "source": [
    "import pandas as pd\n",
    "import numpy as np\n",
    "import re\n",
    "from sklearn.model_selection import train_test_split\n",
    "from sklearn.preprocessing import LabelEncoder\n",
    "from sklearn.feature_extraction.text import TfidfVectorizer\n",
    "from tensorflow.keras.models import Sequential\n",
    "from tensorflow.keras.layers import Embedding, Conv1D, GlobalMaxPooling1D, Dense\n",
    "from tensorflow.keras.preprocessing.text import Tokenizer\n",
    "from tensorflow.keras.preprocessing.sequence import pad_sequences\n",
    "from tensorflow.keras.utils import to_categorical\n",
    "from konlpy.tag import Okt\n",
    "from tensorflow.keras.callbacks import EarlyStopping\n",
    "from tensorflow.keras.layers import Embedding, Conv1D, GlobalMaxPooling1D, Dense, LSTM"
   ]
  },
  {
   "cell_type": "code",
   "execution_count": 126,
   "id": "bc0cba10",
   "metadata": {},
   "outputs": [],
   "source": [
    "# CSV 파일 읽기\n",
    "df = pd.read_csv(\"./레이블부여된공지사항(수정본).csv\") \n",
    "\n",
    "notice_names = df['title'].tolist()\n",
    "\n",
    "# 전처리 함수 정의\n",
    "def preprocess_text(text):\n",
    "    # 특수문자 제거\n",
    "    text = re.sub(r\"[^\\uAC00-\\uD7A30-9a-zA-Z\\s]\", \"\", text)\n",
    "\n",
    "    # 숫자 정보 제거\n",
    "    text = re.sub(r'\\d+', '', text)\n",
    "\n",
    "    # 형태소 분석\n",
    "    tagger = Okt()\n",
    "    words = tagger.morphs(text)\n",
    "\n",
    "    # 불용어 제거\n",
    "    stop_words = ['필독', '학기', '학년', '도', '년', '제', '회', '월', '학부', '일', '차', '년도', '안내']  # 불용어 리스트\n",
    "    words = [word for word in words if word not in stop_words]\n",
    "\n",
    "    # 분석된 형태소들을 공백으로 결합하여 문장으로 반환\n",
    "    text = ' '.join(words)\n",
    "\n",
    "    return text\n",
    "\n",
    "\n",
    "preprocessed_notice_names = [preprocess_text(notice_name) for notice_name in notice_names]"
   ]
  },
  {
   "cell_type": "code",
   "execution_count": 141,
   "id": "91a25849",
   "metadata": {},
   "outputs": [],
   "source": [
    "# TF-IDF 벡터화\n",
    "vectorizer = TfidfVectorizer()\n",
    "X = vectorizer.fit_transform(preprocessed_notice_names)\n",
    "\n",
    "tfidf_model = TfidfVectorizer().fit(preprocessed_notice_names)\n",
    "\n",
    "label_encoder = LabelEncoder()\n",
    "y = label_encoder.fit_transform(df['cluster'])"
   ]
  },
  {
   "cell_type": "code",
   "execution_count": 142,
   "id": "0bfb4dc9",
   "metadata": {},
   "outputs": [
    {
     "name": "stdout",
     "output_type": "stream",
     "text": [
      "가장 긴 문장의 길이: 29\n",
      "어휘 사전의 크기: 6093\n"
     ]
    }
   ],
   "source": [
    "# 토크나이저 생성\n",
    "tokenizer = Tokenizer()\n",
    "\n",
    "# 토크나이저가 데이터를 학습\n",
    "tokenizer.fit_on_texts(preprocessed_notice_names)\n",
    "\n",
    "# 데이터를 시퀀스로 변환\n",
    "sequences = tokenizer.texts_to_sequences(preprocessed_notice_names)\n",
    "\n",
    "# 가장 긴 문장의 길이를 확인\n",
    "max_sequence_length = max(len(s) for s in sequences)\n",
    "print('가장 긴 문장의 길이:', max_sequence_length)\n",
    "\n",
    "# 어휘 사전의 크기를 확인 (+1을 하는 이유는 0인덱스를 고려하기 때문입니다.)\n",
    "vocab_size = len(tokenizer.word_index) + 1\n",
    "print('어휘 사전의 크기:', vocab_size)\n",
    "\n",
    "# 모든 문장을 가장 긴 문장의 길이로 패딩 처리\n",
    "padded_X = pad_sequences(sequences, maxlen=max_sequence_length, padding='post')"
   ]
  },
  {
   "cell_type": "code",
   "execution_count": 143,
   "id": "5913a15d",
   "metadata": {},
   "outputs": [],
   "source": [
    "# TF-IDF 벡터화\n",
    "vectorizer = TfidfVectorizer()\n",
    "X = vectorizer.fit_transform(preprocessed_notice_names)\n",
    "\n",
    "tfidf_model = TfidfVectorizer().fit(preprocessed_notice_names)\n",
    "\n",
    "label_encoder = LabelEncoder()\n",
    "y = label_encoder.fit_transform(df['cluster'])"
   ]
  },
  {
   "cell_type": "code",
   "execution_count": 144,
   "id": "12ddc17e",
   "metadata": {},
   "outputs": [],
   "source": [
    "# 훈련 데이터 분리: train 데이터 80%, test 데이터 20%\n",
    "X_train, X_test, y_train, y_test = train_test_split(padded_X, y, test_size=0.2, random_state=42)"
   ]
  },
  {
   "cell_type": "code",
   "execution_count": 145,
   "id": "5764a85e",
   "metadata": {},
   "outputs": [],
   "source": [
    "# 타겟 변수 다중 클래스 원-핫 인코딩\n",
    "y_train_encoded = to_categorical(y_train)\n",
    "y_test_encoded = to_categorical(y_test)"
   ]
  },
  {
   "cell_type": "code",
   "execution_count": 146,
   "id": "091bf74d",
   "metadata": {},
   "outputs": [],
   "source": [
    "# LSTM 모델 생성\n",
    "model = Sequential()\n",
    "model.add(Embedding(vocab_size, 128, input_length=max_sequence_length))\n",
    "model.add(LSTM(64))\n",
    "model.add(Dense(64, activation='relu'))\n",
    "\n",
    "# 출력 뉴런의 개수와 활성화 함수를 클래스 개수에 따라 조정\n",
    "num_classes = len(set(y))  # 클래스 개수 계산\n",
    "if num_classes == 2:\n",
    "    model.add(Dense(1, activation='sigmoid'))\n",
    "    model.compile(optimizer='adam', loss='binary_crossentropy', metrics=['accuracy'])\n",
    "else:\n",
    "    model.add(Dense(num_classes, activation='softmax'))\n",
    "    model.compile(optimizer='adam', loss='categorical_crossentropy', metrics=['accuracy'])"
   ]
  },
  {
   "cell_type": "code",
   "execution_count": 147,
   "id": "766f71df",
   "metadata": {},
   "outputs": [
    {
     "name": "stdout",
     "output_type": "stream",
     "text": [
      "Epoch 1/30\n",
      "248/248 [==============================] - 8s 26ms/step - loss: 5.9465 - accuracy: 0.0631 - val_loss: 5.8432 - val_accuracy: 0.0626\n",
      "Epoch 2/30\n",
      "248/248 [==============================] - 6s 25ms/step - loss: 5.6676 - accuracy: 0.0664 - val_loss: 5.6805 - val_accuracy: 0.0621\n",
      "Epoch 3/30\n",
      "248/248 [==============================] - 6s 23ms/step - loss: 5.4432 - accuracy: 0.0662 - val_loss: 5.4365 - val_accuracy: 0.0631\n",
      "Epoch 4/30\n",
      "248/248 [==============================] - 6s 25ms/step - loss: 5.1132 - accuracy: 0.0685 - val_loss: 5.1560 - val_accuracy: 0.0636\n",
      "Epoch 5/30\n",
      "248/248 [==============================] - 6s 23ms/step - loss: 4.7836 - accuracy: 0.0741 - val_loss: 5.0282 - val_accuracy: 0.0535\n",
      "Epoch 6/30\n",
      "248/248 [==============================] - 6s 23ms/step - loss: 4.5109 - accuracy: 0.0813 - val_loss: 4.8269 - val_accuracy: 0.0525\n",
      "Epoch 7/30\n",
      "248/248 [==============================] - 7s 29ms/step - loss: 4.2631 - accuracy: 0.0972 - val_loss: 4.7086 - val_accuracy: 0.0772\n",
      "Epoch 8/30\n",
      "248/248 [==============================] - 6s 24ms/step - loss: 4.0143 - accuracy: 0.1192 - val_loss: 4.6217 - val_accuracy: 0.0757\n",
      "Epoch 9/30\n",
      "248/248 [==============================] - 6s 24ms/step - loss: 3.7871 - accuracy: 0.1401 - val_loss: 4.3896 - val_accuracy: 0.1100\n",
      "Epoch 10/30\n",
      "248/248 [==============================] - 6s 24ms/step - loss: 3.4939 - accuracy: 0.1735 - val_loss: 4.2786 - val_accuracy: 0.1176\n",
      "Epoch 11/30\n",
      "248/248 [==============================] - 6s 23ms/step - loss: 3.2715 - accuracy: 0.2066 - val_loss: 4.1741 - val_accuracy: 0.1509\n",
      "Epoch 12/30\n",
      "248/248 [==============================] - 6s 24ms/step - loss: 2.9677 - accuracy: 0.2549 - val_loss: 3.9545 - val_accuracy: 0.2023\n",
      "Epoch 13/30\n",
      "248/248 [==============================] - 6s 24ms/step - loss: 2.7132 - accuracy: 0.3068 - val_loss: 3.9117 - val_accuracy: 0.2270\n",
      "Epoch 14/30\n",
      "248/248 [==============================] - 6s 24ms/step - loss: 2.4253 - accuracy: 0.3610 - val_loss: 3.8024 - val_accuracy: 0.2543\n",
      "Epoch 15/30\n",
      "248/248 [==============================] - 6s 23ms/step - loss: 2.2076 - accuracy: 0.4049 - val_loss: 3.7613 - val_accuracy: 0.3042\n",
      "Epoch 16/30\n",
      "248/248 [==============================] - 6s 24ms/step - loss: 1.9890 - accuracy: 0.4615 - val_loss: 3.7627 - val_accuracy: 0.3163\n",
      "Epoch 17/30\n",
      "248/248 [==============================] - 6s 24ms/step - loss: 1.7647 - accuracy: 0.5162 - val_loss: 3.6406 - val_accuracy: 0.3713\n",
      "Epoch 18/30\n",
      "248/248 [==============================] - 6s 25ms/step - loss: 1.5373 - accuracy: 0.5702 - val_loss: 3.5896 - val_accuracy: 0.4248\n",
      "Epoch 19/30\n",
      "248/248 [==============================] - 6s 23ms/step - loss: 1.3613 - accuracy: 0.6278 - val_loss: 3.6095 - val_accuracy: 0.4314\n",
      "Epoch 20/30\n",
      "248/248 [==============================] - 6s 23ms/step - loss: 1.1614 - accuracy: 0.6717 - val_loss: 3.5990 - val_accuracy: 0.4677\n",
      "Epoch 21/30\n",
      "248/248 [==============================] - 6s 23ms/step - loss: 0.9628 - accuracy: 0.7283 - val_loss: 3.6538 - val_accuracy: 0.5071\n",
      "Epoch 22/30\n",
      "248/248 [==============================] - 6s 23ms/step - loss: 0.8256 - accuracy: 0.7656 - val_loss: 3.5333 - val_accuracy: 0.5414\n",
      "Epoch 23/30\n",
      "248/248 [==============================] - 6s 23ms/step - loss: 0.6854 - accuracy: 0.8105 - val_loss: 3.5637 - val_accuracy: 0.5873\n",
      "Epoch 24/30\n",
      "248/248 [==============================] - 6s 24ms/step - loss: 0.5750 - accuracy: 0.8466 - val_loss: 3.6501 - val_accuracy: 0.6009\n",
      "Epoch 25/30\n",
      "248/248 [==============================] - 6s 24ms/step - loss: 0.4863 - accuracy: 0.8718 - val_loss: 3.5389 - val_accuracy: 0.6241\n",
      "Epoch 26/30\n",
      "248/248 [==============================] - 6s 23ms/step - loss: 0.4162 - accuracy: 0.8958 - val_loss: 3.6984 - val_accuracy: 0.6196\n",
      "Epoch 27/30\n",
      "248/248 [==============================] - 6s 23ms/step - loss: 0.3219 - accuracy: 0.9223 - val_loss: 3.5022 - val_accuracy: 0.6377\n",
      "Epoch 28/30\n",
      "248/248 [==============================] - 6s 24ms/step - loss: 0.2745 - accuracy: 0.9350 - val_loss: 3.5674 - val_accuracy: 0.6609\n",
      "Epoch 29/30\n",
      "248/248 [==============================] - 6s 23ms/step - loss: 0.2371 - accuracy: 0.9408 - val_loss: 3.7513 - val_accuracy: 0.6473\n",
      "Epoch 30/30\n",
      "248/248 [==============================] - 6s 24ms/step - loss: 0.2138 - accuracy: 0.9481 - val_loss: 3.8451 - val_accuracy: 0.6382\n"
     ]
    },
    {
     "data": {
      "text/plain": [
       "<keras.callbacks.History at 0x1c8c9b57bb0>"
      ]
     },
     "execution_count": 147,
     "metadata": {},
     "output_type": "execute_result"
    }
   ],
   "source": [
    "# 모델 훈련\n",
    "model.fit(X_train, y_train_encoded, epochs=30, batch_size=32, validation_data=(X_test, y_test_encoded))"
   ]
  },
  {
   "cell_type": "code",
   "execution_count": 148,
   "id": "99efb6eb",
   "metadata": {},
   "outputs": [
    {
     "name": "stdout",
     "output_type": "stream",
     "text": [
      "Accuracy: 0.6382441977800202\n"
     ]
    }
   ],
   "source": [
    "y_prob = model.predict(X_test, verbose=0) \n",
    "y_pred = y_prob.argmax(axis=-1)\n",
    "LSTM_accuracy = np.sum(y_pred.flatten() == y_test) / len(y_test)\n",
    "print(\"Accuracy:\", LSTM_accuracy)"
   ]
  },
  {
   "cell_type": "markdown",
   "id": "d2932837",
   "metadata": {},
   "source": [
    "# 성능 비교 시각화"
   ]
  },
  {
   "cell_type": "code",
   "execution_count": 174,
   "id": "863890f4",
   "metadata": {},
   "outputs": [],
   "source": [
    "import matplotlib.pyplot as plt"
   ]
  },
  {
   "cell_type": "code",
   "execution_count": 175,
   "id": "02b625c3",
   "metadata": {},
   "outputs": [
    {
     "data": {
      "image/png": "[encoded data removed]",
      "text/plain": [
       "<Figure size 432x288 with 1 Axes>"
      ]
     },
     "metadata": {
      "needs_background": "light"
     },
     "output_type": "display_data"
    }
   ],
   "source": [
    "#그래프로 성능 비교 \n",
    "\n",
    "x = ('Naive Bayes', 'SVM', 'CNN', 'LSTM')\n",
    "y = [NaiveBayes_accuracy,SVM_accuracy,CNN_accuracy, LSTM_accuracy]\n",
    "plt.xlabel(\"model\")\n",
    "plt.ylabel(\"accuracy\")\n",
    "plt.bar(x, y)  # 데이터 가로 나온 함수 barh\n",
    "plt.title('Comparison of classification accuracy by model')\n",
    "\n",
    "plt.show()\n"
   ]
  },
  {
   "cell_type": "code",
   "execution_count": null,
   "id": "69fdeb44",
   "metadata": {},
   "outputs": [],
   "source": []
  }
 ],
 "metadata": {
  "kernelspec": {
   "display_name": "Python 3 (ipykernel)",
   "language": "python",
   "name": "python3"
  },
  "language_info": {
   "codemirror_mode": {
    "name": "ipython",
    "version": 3
   },
   "file_extension": ".py",
   "mimetype": "text/x-python",
   "name": "python",
   "nbconvert_exporter": "python",
   "pygments_lexer": "ipython3",
   "version": "3.9.7"
  }
 },
 "nbformat": 4,
 "nbformat_minor": 5
}
