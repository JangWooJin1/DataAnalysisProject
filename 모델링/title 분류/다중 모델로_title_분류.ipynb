{
 "cells": [
  {
   "cell_type": "markdown",
   "id": "a9000d12",
   "metadata": {
    "id": "a9000d12"
   },
   "source": [
    "# CNN모델"
   ]
  },
  {
   "cell_type": "code",
   "execution_count": 1,
   "id": "383f7da1",
   "metadata": {},
   "outputs": [
    {
     "name": "stdout",
     "output_type": "stream",
     "text": [
      "Requirement already satisfied: konlpy in h:\\anaconda3\\lib\\site-packages (0.6.0)\n",
      "Requirement already satisfied: numpy>=1.6 in h:\\anaconda3\\lib\\site-packages (from konlpy) (1.21.5)\n",
      "Requirement already satisfied: JPype1>=0.7.0 in h:\\anaconda3\\lib\\site-packages (from konlpy) (1.4.1)\n",
      "Requirement already satisfied: lxml>=4.1.0 in h:\\anaconda3\\lib\\site-packages (from konlpy) (4.9.1)\n",
      "Requirement already satisfied: packaging in h:\\anaconda3\\lib\\site-packages (from JPype1>=0.7.0->konlpy) (21.3)\n",
      "Requirement already satisfied: pyparsing!=3.0.5,>=2.0.2 in h:\\anaconda3\\lib\\site-packages (from packaging->JPype1>=0.7.0->konlpy) (3.0.9)\n",
      "Note: you may need to restart the kernel to use updated packages.\n"
     ]
    }
   ],
   "source": [
    "pip install konlpy"
   ]
  },
  {
   "cell_type": "code",
   "execution_count": 198,
   "id": "28a6a893",
   "metadata": {
    "id": "28a6a893"
   },
   "outputs": [],
   "source": [
    "import pandas as pd\n",
    "import numpy as np\n",
    "import re\n",
    "from sklearn.model_selection import train_test_split\n",
    "from sklearn.preprocessing import LabelEncoder\n",
    "from sklearn.feature_extraction.text import TfidfVectorizer\n",
    "from tensorflow.keras.models import Sequential\n",
    "from tensorflow.keras.layers import Embedding, Conv1D, GlobalMaxPooling1D, Dense\n",
    "from tensorflow.keras.preprocessing.text import Tokenizer\n",
    "from tensorflow.keras.preprocessing.sequence import pad_sequences\n",
    "from tensorflow.keras.utils import to_categorical\n",
    "from konlpy.tag import Okt\n",
    "from tensorflow.keras.callbacks import EarlyStopping\n",
    "from keras.layers import Dense\n",
    "from sklearn.metrics import accuracy_score"
   ]
  },
  {
   "cell_type": "code",
   "execution_count": 152,
   "id": "b7c13c38",
   "metadata": {
    "id": "b7c13c38"
   },
   "outputs": [],
   "source": [
    "# CSV 파일 읽기\n",
    "df = pd.read_csv(\"./라벨링완료된공지사항(수정본).csv\") \n",
    "\n",
    "notice_names = df['title'].tolist()\n",
    "\n",
    "# 전처리 함수 정의\n",
    "def preprocess_text(text):\n",
    "    # 특수문자 제거\n",
    "    text = re.sub(r\"[^\\uAC00-\\uD7A30-9a-zA-Z\\s]\", \"\", text)\n",
    "\n",
    "    # 숫자 정보 제거\n",
    "    text = re.sub(r'\\d+', '', text)\n",
    "\n",
    "    # 형태소 분석\n",
    "    tagger = Okt()\n",
    "    words = tagger.morphs(text)\n",
    "\n",
    "    # 불용어 제거\n",
    "    stop_words = ['필독', '학기', '학년', '도', '년', '제', '회', '월', '학부', '일', '차', '년도', '안내']  # 불용어 리스트\n",
    "    words = [word for word in words if word not in stop_words]\n",
    "\n",
    "    # 분석된 형태소들을 공백으로 결합하여 문장으로 반환\n",
    "    text = ' '.join(words)\n",
    "\n",
    "    return text\n",
    "\n",
    "\n",
    "preprocessed_notice_names = [preprocess_text(notice_name) for notice_name in notice_names]"
   ]
  },
  {
   "cell_type": "code",
   "execution_count": 153,
   "id": "7aae4507",
   "metadata": {
    "colab": {
     "base_uri": "https://localhost:8080/"
    },
    "id": "7aae4507",
    "outputId": "1ead9c15-266b-44b3-d4d9-eafe06611f70"
   },
   "outputs": [
    {
     "name": "stdout",
     "output_type": "stream",
     "text": [
      "가장 긴 문장의 길이: 29\n",
      "어휘 사전의 크기: 6097\n"
     ]
    }
   ],
   "source": [
    "# 토크나이저 생성\n",
    "tokenizer = Tokenizer()\n",
    "\n",
    "# 토크나이저가 데이터를 학습\n",
    "tokenizer.fit_on_texts(preprocessed_notice_names)\n",
    "\n",
    "# 데이터를 시퀀스로 변환\n",
    "sequences = tokenizer.texts_to_sequences(preprocessed_notice_names)\n",
    "\n",
    "# 가장 긴 문장의 길이를 확인\n",
    "max_sequence_length = max(len(s) for s in sequences)\n",
    "print('가장 긴 문장의 길이:', max_sequence_length)\n",
    "\n",
    "# 어휘 사전의 크기를 확인 (+1을 하는 이유는 0인덱스를 고려하기 때문입니다.)\n",
    "vocab_size = len(tokenizer.word_index) + 1\n",
    "print('어휘 사전의 크기:', vocab_size)\n",
    "\n",
    "# 모든 문장을 가장 긴 문장의 길이로 패딩 처리\n",
    "padded_X = pad_sequences(sequences, maxlen=max_sequence_length, padding='post')"
   ]
  },
  {
   "cell_type": "code",
   "execution_count": 154,
   "id": "c4262c19",
   "metadata": {
    "id": "c4262c19"
   },
   "outputs": [],
   "source": [
    "# TF-IDF 벡터화\n",
    "vectorizer = TfidfVectorizer()\n",
    "X = vectorizer.fit_transform(preprocessed_notice_names)\n",
    "\n",
    "tfidf_model = TfidfVectorizer().fit(preprocessed_notice_names)\n",
    "\n",
    "label_encoder = LabelEncoder()\n",
    "y = label_encoder.fit_transform(df['class'])"
   ]
  },
  {
   "cell_type": "code",
   "execution_count": 155,
   "id": "bceda68d",
   "metadata": {
    "id": "bceda68d"
   },
   "outputs": [],
   "source": [
    "# 훈련 데이터 분리: train 데이터 80%, test 데이터 20%\n",
    "X_train, X_test, y_train, y_test = train_test_split(padded_X, y, test_size=0.2, random_state=42)"
   ]
  },
  {
   "cell_type": "code",
   "execution_count": 156,
   "id": "029f331b",
   "metadata": {
    "id": "029f331b"
   },
   "outputs": [],
   "source": [
    "# 타겟 변수 다중 클래스 원-핫 인코딩\n",
    "y_train_encoded = to_categorical(y_train)\n",
    "y_test_encoded = to_categorical(y_test)"
   ]
  },
  {
   "cell_type": "code",
   "execution_count": 157,
   "id": "5f0cdfd7",
   "metadata": {
    "id": "5f0cdfd7"
   },
   "outputs": [],
   "source": [
    "# CNN 모델 생성\n",
    "model = Sequential()\n",
    "model.add(Embedding(vocab_size, 128, input_length=max_sequence_length))\n",
    "model.add(Conv1D(64, 5, activation='relu'))\n",
    "model.add(GlobalMaxPooling1D())\n",
    "model.add(Dense(64, activation='relu'))\n",
    "\n",
    "# 출력 뉴런의 개수와 활성화 함수를 클래스 개수에 따라 조정\n",
    "num_classes = len(set(y))  # 클래스 개수 계산\n",
    "if num_classes == 2:\n",
    "    model.add(Dense(1, activation='sigmoid'))\n",
    "    model.compile(optimizer='adam', loss='binary_crossentropy', metrics=['accuracy'])\n",
    "else:\n",
    "    model.add(Dense(num_classes, activation='softmax'))\n",
    "    model.compile(optimizer='adam', loss='categorical_crossentropy', metrics=['accuracy'])"
   ]
  },
  {
   "cell_type": "code",
   "execution_count": 158,
   "id": "e43c2fbd",
   "metadata": {},
   "outputs": [
    {
     "name": "stdout",
     "output_type": "stream",
     "text": [
      "(8010, 29)\n"
     ]
    }
   ],
   "source": [
    "print(X_train.shape)"
   ]
  },
  {
   "cell_type": "code",
   "execution_count": 159,
   "id": "6ef6b082",
   "metadata": {},
   "outputs": [
    {
     "data": {
      "text/plain": [
       "array([[232, 355, 361, ...,   0,   0,   0],\n",
       "       [114, 185, 888, ...,   0,   0,   0],\n",
       "       [353, 325,  11, ...,   0,   0,   0],\n",
       "       ...,\n",
       "       [ 28,  37,  36, ...,   0,   0,   0],\n",
       "       [143, 543,  77, ...,   0,   0,   0],\n",
       "       [ 79, 121, 217, ...,   0,   0,   0]])"
      ]
     },
     "execution_count": 159,
     "metadata": {},
     "output_type": "execute_result"
    }
   ],
   "source": [
    "X_train"
   ]
  },
  {
   "cell_type": "code",
   "execution_count": 160,
   "id": "008fde29",
   "metadata": {},
   "outputs": [
    {
     "data": {
      "text/plain": [
       "array([35, 15, 14, ..., 37, 58, 33])"
      ]
     },
     "execution_count": 160,
     "metadata": {},
     "output_type": "execute_result"
    }
   ],
   "source": [
    "y_train"
   ]
  },
  {
   "cell_type": "code",
   "execution_count": 161,
   "id": "4e9af3b2",
   "metadata": {
    "colab": {
     "base_uri": "https://localhost:8080/"
    },
    "id": "4e9af3b2",
    "outputId": "24b0eb97-1c0c-4f4f-ceaa-133825c81eb0"
   },
   "outputs": [
    {
     "name": "stdout",
     "output_type": "stream",
     "text": [
      "Epoch 1/10\n",
      "251/251 [==============================] - 2s 6ms/step - loss: 2.8533 - accuracy: 0.3543 - val_loss: 1.4416 - val_accuracy: 0.6790\n",
      "Epoch 2/10\n",
      "251/251 [==============================] - 2s 6ms/step - loss: 0.6991 - accuracy: 0.8526 - val_loss: 0.5534 - val_accuracy: 0.8757\n",
      "Epoch 3/10\n",
      "251/251 [==============================] - 2s 6ms/step - loss: 0.1982 - accuracy: 0.9582 - val_loss: 0.3835 - val_accuracy: 0.9096\n",
      "Epoch 4/10\n",
      "251/251 [==============================] - 2s 6ms/step - loss: 0.0661 - accuracy: 0.9894 - val_loss: 0.3320 - val_accuracy: 0.9221\n",
      "Epoch 5/10\n",
      "251/251 [==============================] - 2s 6ms/step - loss: 0.0295 - accuracy: 0.9964 - val_loss: 0.3149 - val_accuracy: 0.9276\n",
      "Epoch 6/10\n",
      "251/251 [==============================] - 2s 6ms/step - loss: 0.0170 - accuracy: 0.9980 - val_loss: 0.3296 - val_accuracy: 0.9221\n",
      "Epoch 7/10\n",
      "251/251 [==============================] - 2s 6ms/step - loss: 0.0104 - accuracy: 0.9986 - val_loss: 0.3229 - val_accuracy: 0.9226\n",
      "Epoch 8/10\n",
      "251/251 [==============================] - 2s 6ms/step - loss: 0.0084 - accuracy: 0.9990 - val_loss: 0.3416 - val_accuracy: 0.9231\n"
     ]
    },
    {
     "data": {
      "text/plain": [
       "<keras.callbacks.History at 0x28f9a548cd0>"
      ]
     },
     "execution_count": 161,
     "metadata": {},
     "output_type": "execute_result"
    }
   ],
   "source": [
    "#모델 훈현\n",
    "model.fit(X_train, y_train_encoded, epochs=10, batch_size=32, validation_data=(X_test, y_test_encoded), callbacks=[EarlyStopping(patience=3)])"
   ]
  },
  {
   "cell_type": "code",
   "execution_count": 162,
   "id": "09907760",
   "metadata": {
    "colab": {
     "base_uri": "https://localhost:8080/"
    },
    "id": "09907760",
    "outputId": "1c8c1e9e-187a-4ffc-bed8-f424065404b5"
   },
   "outputs": [
    {
     "name": "stdout",
     "output_type": "stream",
     "text": [
      "Accuracy: 0.9231153270094857\n"
     ]
    }
   ],
   "source": [
    "y_prob = model.predict(X_test, verbose=0) \n",
    "y_pred = y_prob.argmax(axis=-1)\n",
    "CNN_accuracy = np.sum(y_pred.flatten() == y_test) / len(y_test)\n",
    "print(\"Accuracy:\", CNN_accuracy)"
   ]
  },
  {
   "cell_type": "code",
   "execution_count": 11,
   "id": "9qYC5C5pFUBl",
   "metadata": {
    "colab": {
     "base_uri": "https://localhost:8080/"
    },
    "id": "9qYC5C5pFUBl",
    "outputId": "94c46090-1df9-43e9-f5f6-bd5cc086776c"
   },
   "outputs": [
    {
     "name": "stdout",
     "output_type": "stream",
     "text": [
      "새로운 문장을 입력하세요: 신규 입주기업 모집 공고\n",
      "1/1 [==============================] - 0s 55ms/step\n",
      "입력 문장: 신규 입주기업 모집 공고\n",
      "예측된 레이블: 기타장학\n"
     ]
    }
   ],
   "source": [
    "# 새로운 입력 데이터 예측\n",
    "new_text = input(\"새로운 문장을 입력하세요: \")\n",
    "preprocessed_new_text = preprocess_text(new_text)\n",
    "sequence = tokenizer.texts_to_sequences([preprocessed_new_text])\n",
    "padded_sequence = pad_sequences(sequence, maxlen=max_sequence_length, padding='post')\n",
    "prediction = model.predict(padded_sequence)\n",
    "predicted_label = label_encoder.inverse_transform([prediction.argmax()])[0]\n",
    "\n",
    "# 예측 결과 출력\n",
    "print(f\"입력 문장: {new_text}\")\n",
    "print(f\"예측된 레이블: {predicted_label}\")"
   ]
  },
  {
   "cell_type": "markdown",
   "id": "df1d295a",
   "metadata": {
    "id": "df1d295a"
   },
   "source": [
    "# MLP모델"
   ]
  },
  {
   "cell_type": "code",
   "execution_count": 88,
   "id": "c2b5dbb6",
   "metadata": {},
   "outputs": [],
   "source": [
    "import pandas as pd\n",
    "from sklearn.model_selection import train_test_split\n",
    "from sklearn.preprocessing import LabelEncoder\n",
    "from tensorflow import keras\n",
    "from tensorflow.keras.layers import Dense, Embedding, Flatten\n",
    "from tensorflow.keras.models import Sequential\n",
    "from tensorflow.keras.preprocessing.text import Tokenizer\n",
    "from tensorflow.keras.preprocessing.sequence import pad_sequences\n",
    "import tensorflow as tf"
   ]
  },
  {
   "cell_type": "code",
   "execution_count": 163,
   "id": "2699468a",
   "metadata": {},
   "outputs": [],
   "source": [
    "# CSV 파일 읽기\n",
    "df = pd.read_csv(\"./라벨링완료된공지사항(수정본).csv\") \n",
    "\n",
    "notice_names = df['title'].tolist()\n",
    "\n",
    "# 전처리 함수 정의\n",
    "def preprocess_text(text):\n",
    "    # 특수문자 제거\n",
    "    text = re.sub(r\"[^\\uAC00-\\uD7A30-9a-zA-Z\\s]\", \"\", text)\n",
    "\n",
    "    # 숫자 정보 제거\n",
    "    text = re.sub(r'\\d+', '', text)\n",
    "\n",
    "    # 형태소 분석\n",
    "    tagger = Okt()\n",
    "    words = tagger.morphs(text)\n",
    "\n",
    "    # 불용어 제거\n",
    "    stop_words = ['필독', '학기', '학년', '도', '년', '제', '회', '월', '학부', '일', '차', '년도', '안내']  # 불용어 리스트\n",
    "    words = [word for word in words if word not in stop_words]\n",
    "\n",
    "    # 분석된 형태소들을 공백으로 결합하여 문장으로 반환\n",
    "    text = ' '.join(words)\n",
    "\n",
    "    return text\n",
    "\n",
    "\n",
    "preprocessed_notice_names = [preprocess_text(notice_name) for notice_name in notice_names]"
   ]
  },
  {
   "cell_type": "code",
   "execution_count": 166,
   "id": "d14a672b",
   "metadata": {},
   "outputs": [
    {
     "name": "stdout",
     "output_type": "stream",
     "text": [
      "가장 긴 문장의 길이: 29\n",
      "어휘 사전의 크기: 6097\n"
     ]
    }
   ],
   "source": [
    "# 토크나이저 생성\n",
    "tokenizer = Tokenizer()\n",
    "\n",
    "# 토크나이저가 데이터를 학습\n",
    "tokenizer.fit_on_texts(preprocessed_notice_names)\n",
    "\n",
    "# 데이터를 시퀀스로 변환\n",
    "sequences = tokenizer.texts_to_sequences(preprocessed_notice_names)\n",
    "\n",
    "# 가장 긴 문장의 길이를 확인\n",
    "max_sequence_length = max(len(s) for s in sequences)\n",
    "print('가장 긴 문장의 길이:', max_sequence_length)\n",
    "\n",
    "# 어휘 사전의 크기를 확인 (+1을 하는 이유는 0인덱스를 고려하기 때문입니다.)\n",
    "vocab_size = len(tokenizer.word_index) + 1\n",
    "print('어휘 사전의 크기:', vocab_size)\n",
    "\n",
    "# 모든 문장을 가장 긴 문장의 길이로 패딩 처리\n",
    "padded_X = pad_sequences(sequences, maxlen=max_sequence_length, padding='post')"
   ]
  },
  {
   "cell_type": "code",
   "execution_count": 167,
   "id": "e0303390",
   "metadata": {},
   "outputs": [],
   "source": [
    "# TF-IDF 벡터화\n",
    "vectorizer = TfidfVectorizer()\n",
    "X = vectorizer.fit_transform(preprocessed_notice_names)\n",
    "\n",
    "tfidf_model = TfidfVectorizer().fit(preprocessed_notice_names)\n",
    "\n",
    "label_encoder = LabelEncoder()\n",
    "y = label_encoder.fit_transform(df['class'])"
   ]
  },
  {
   "cell_type": "code",
   "execution_count": 168,
   "id": "3c6236e1",
   "metadata": {},
   "outputs": [],
   "source": [
    "# 划分训练集和测试集\n",
    "X_train, X_test, y_train, y_test = train_test_split(padded_X, y[:len(padded_X)], test_size=0.2, random_state=42)\n"
   ]
  },
  {
   "cell_type": "code",
   "execution_count": 169,
   "id": "dbd93ed7",
   "metadata": {},
   "outputs": [],
   "source": [
    "# 创建MLP模型\n",
    "model = Sequential()\n",
    "model.add(Dense(64, activation='relu', input_shape=(max_sequence_length,)))\n",
    "model.add(Dense(32, activation='relu'))\n",
    "model.add(Dense(len(label_encoder.classes_), activation='softmax'))"
   ]
  },
  {
   "cell_type": "code",
   "execution_count": 170,
   "id": "8458541b",
   "metadata": {},
   "outputs": [],
   "source": [
    "# 编译模型\n",
    "model.compile(optimizer='adam', loss='sparse_categorical_crossentropy', metrics=['accuracy'])"
   ]
  },
  {
   "cell_type": "code",
   "execution_count": 171,
   "id": "0ef45115",
   "metadata": {},
   "outputs": [
    {
     "data": {
      "text/plain": [
       "array([[232, 355, 361, ...,   0,   0,   0],\n",
       "       [114, 185, 888, ...,   0,   0,   0],\n",
       "       [353, 325,  11, ...,   0,   0,   0],\n",
       "       ...,\n",
       "       [ 28,  37,  36, ...,   0,   0,   0],\n",
       "       [143, 543,  77, ...,   0,   0,   0],\n",
       "       [ 79, 121, 217, ...,   0,   0,   0]])"
      ]
     },
     "execution_count": 171,
     "metadata": {},
     "output_type": "execute_result"
    }
   ],
   "source": [
    "X_train"
   ]
  },
  {
   "cell_type": "code",
   "execution_count": 172,
   "id": "87711370",
   "metadata": {},
   "outputs": [
    {
     "data": {
      "text/plain": [
       "array([35, 15, 14, ..., 37, 58, 33])"
      ]
     },
     "execution_count": 172,
     "metadata": {},
     "output_type": "execute_result"
    }
   ],
   "source": [
    "y_train"
   ]
  },
  {
   "cell_type": "code",
   "execution_count": 173,
   "id": "bb9658eb",
   "metadata": {},
   "outputs": [
    {
     "name": "stdout",
     "output_type": "stream",
     "text": [
      "Epoch 1/10\n",
      "251/251 [==============================] - 0s 1ms/step - loss: 36.0225 - accuracy: 0.0448 - val_loss: 4.5155 - val_accuracy: 0.0659\n",
      "Epoch 2/10\n",
      "251/251 [==============================] - 0s 773us/step - loss: 4.2708 - accuracy: 0.0739 - val_loss: 4.1590 - val_accuracy: 0.0854\n",
      "Epoch 3/10\n",
      "251/251 [==============================] - 0s 771us/step - loss: 4.0308 - accuracy: 0.0846 - val_loss: 4.0545 - val_accuracy: 0.0854\n",
      "Epoch 4/10\n",
      "251/251 [==============================] - 0s 748us/step - loss: 3.9591 - accuracy: 0.0851 - val_loss: 3.9935 - val_accuracy: 0.0854\n",
      "Epoch 5/10\n",
      "251/251 [==============================] - 0s 793us/step - loss: 3.9102 - accuracy: 0.0851 - val_loss: 3.9556 - val_accuracy: 0.0864\n",
      "Epoch 6/10\n",
      "251/251 [==============================] - 0s 774us/step - loss: 3.8738 - accuracy: 0.0853 - val_loss: 3.9136 - val_accuracy: 0.0864\n",
      "Epoch 7/10\n",
      "251/251 [==============================] - 0s 739us/step - loss: 3.8495 - accuracy: 0.0856 - val_loss: 3.8620 - val_accuracy: 0.0869\n",
      "Epoch 8/10\n",
      "251/251 [==============================] - 0s 736us/step - loss: 3.8273 - accuracy: 0.0851 - val_loss: 3.8439 - val_accuracy: 0.0854\n",
      "Epoch 9/10\n",
      "251/251 [==============================] - 0s 746us/step - loss: 3.8120 - accuracy: 0.0850 - val_loss: 3.8330 - val_accuracy: 0.0854\n",
      "Epoch 10/10\n",
      "251/251 [==============================] - 0s 738us/step - loss: 3.8027 - accuracy: 0.0853 - val_loss: 3.8224 - val_accuracy: 0.0869\n"
     ]
    },
    {
     "data": {
      "text/plain": [
       "<keras.callbacks.History at 0x28f9053ef40>"
      ]
     },
     "execution_count": 173,
     "metadata": {},
     "output_type": "execute_result"
    }
   ],
   "source": [
    "# 训练模型\n",
    "model.fit(X_train, y_train, epochs=10, batch_size=32, validation_data=(X_test, y_test))\n"
   ]
  },
  {
   "cell_type": "code",
   "execution_count": 174,
   "id": "0727b129",
   "metadata": {},
   "outputs": [
    {
     "name": "stdout",
     "output_type": "stream",
     "text": [
      "Accuracy: 0.08686969545681478\n"
     ]
    }
   ],
   "source": [
    "y_prob = model.predict(X_test, verbose=0) \n",
    "y_pred = y_prob.argmax(axis=-1)\n",
    "MLP_accuracy = np.sum(y_pred.flatten() == y_test) / len(y_test)\n",
    "print(\"Accuracy:\", MLP_accuracy)"
   ]
  },
  {
   "cell_type": "markdown",
   "id": "5b265924",
   "metadata": {},
   "source": [
    "# SVM"
   ]
  },
  {
   "cell_type": "code",
   "execution_count": 192,
   "id": "3fbc0131",
   "metadata": {},
   "outputs": [],
   "source": [
    "from sklearn.svm import SVC"
   ]
  },
  {
   "cell_type": "code",
   "execution_count": 193,
   "id": "3610c90c",
   "metadata": {},
   "outputs": [],
   "source": [
    "# CSV 파일 읽기\n",
    "df = pd.read_csv(\"./라벨링완료된공지사항(수정본).csv\") "
   ]
  },
  {
   "cell_type": "code",
   "execution_count": 194,
   "id": "4fbf05fd",
   "metadata": {},
   "outputs": [],
   "source": [
    "#데이터 전처리 테스트가 벡터로 변환\n",
    "vectorizer = TfidfVectorizer()\n",
    "X = vectorizer.fit_transform(df['title'])\n",
    "y = df['class']"
   ]
  },
  {
   "cell_type": "code",
   "execution_count": 195,
   "id": "aee79db9",
   "metadata": {},
   "outputs": [],
   "source": [
    "#훈련 데이터 분리 train 데이터 80%, test 데이터 20%\n",
    "X_train, X_test, y_train, y_test = train_test_split(X, y, test_size=0.2, random_state=42)"
   ]
  },
  {
   "cell_type": "code",
   "execution_count": 196,
   "id": "91bb691f",
   "metadata": {},
   "outputs": [
    {
     "data": {
      "text/plain": [
       "SVC()"
      ]
     },
     "execution_count": 196,
     "metadata": {},
     "output_type": "execute_result"
    }
   ],
   "source": [
    "model = SVC()\n",
    "model.fit(X_train, y_train)"
   ]
  },
  {
   "cell_type": "code",
   "execution_count": 199,
   "id": "6cd1be2e",
   "metadata": {},
   "outputs": [
    {
     "name": "stdout",
     "output_type": "stream",
     "text": [
      "정확도: 0.7903145282076884\n"
     ]
    }
   ],
   "source": [
    "y_pred = model.predict(X_test)\n",
    "SVM_accuracy = accuracy_score(y_test, y_pred)\n",
    "print(\"정확도:\", SVM_accuracy)"
   ]
  },
  {
   "cell_type": "markdown",
   "id": "f803d8a5",
   "metadata": {},
   "source": [
    "# LSTM"
   ]
  },
  {
   "cell_type": "code",
   "execution_count": 180,
   "id": "415fe8e8",
   "metadata": {},
   "outputs": [],
   "source": [
    "import pandas as pd\n",
    "import numpy as np\n",
    "import re\n",
    "from sklearn.model_selection import train_test_split\n",
    "from sklearn.preprocessing import LabelEncoder\n",
    "from sklearn.feature_extraction.text import TfidfVectorizer\n",
    "from tensorflow.keras.models import Sequential\n",
    "from tensorflow.keras.layers import Embedding, Conv1D, GlobalMaxPooling1D, Dense\n",
    "from tensorflow.keras.preprocessing.text import Tokenizer\n",
    "from tensorflow.keras.preprocessing.sequence import pad_sequences\n",
    "from tensorflow.keras.utils import to_categorical\n",
    "from konlpy.tag import Okt\n",
    "from tensorflow.keras.callbacks import EarlyStopping\n",
    "from tensorflow.keras.layers import Embedding, Conv1D, GlobalMaxPooling1D, Dense, LSTM"
   ]
  },
  {
   "cell_type": "code",
   "execution_count": 181,
   "id": "134bcc8d",
   "metadata": {},
   "outputs": [],
   "source": [
    "# CSV 파일 읽기\n",
    "df = pd.read_csv(\"./라벨링완료된공지사항(수정본).csv\") \n",
    "\n",
    "notice_names = df['title'].tolist()\n",
    "\n",
    "# 전처리 함수 정의\n",
    "def preprocess_text(text):\n",
    "    # 특수문자 제거\n",
    "    text = re.sub(r\"[^\\uAC00-\\uD7A30-9a-zA-Z\\s]\", \"\", text)\n",
    "\n",
    "    # 숫자 정보 제거\n",
    "    text = re.sub(r'\\d+', '', text)\n",
    "\n",
    "    # 형태소 분석\n",
    "    tagger = Okt()\n",
    "    words = tagger.morphs(text)\n",
    "\n",
    "    # 불용어 제거\n",
    "    stop_words = ['필독', '학기', '학년', '도', '년', '제', '회', '월', '학부', '일', '차', '년도', '안내']  # 불용어 리스트\n",
    "    words = [word for word in words if word not in stop_words]\n",
    "\n",
    "    # 분석된 형태소들을 공백으로 결합하여 문장으로 반환\n",
    "    text = ' '.join(words)\n",
    "\n",
    "    return text\n",
    "\n",
    "\n",
    "preprocessed_notice_names = [preprocess_text(notice_name) for notice_name in notice_names]"
   ]
  },
  {
   "cell_type": "code",
   "execution_count": 182,
   "id": "93035491",
   "metadata": {},
   "outputs": [],
   "source": [
    "# TF-IDF 벡터화\n",
    "vectorizer = TfidfVectorizer()\n",
    "X = vectorizer.fit_transform(preprocessed_notice_names)\n",
    "\n",
    "tfidf_model = TfidfVectorizer().fit(preprocessed_notice_names)\n",
    "\n",
    "label_encoder = LabelEncoder()\n",
    "y = label_encoder.fit_transform(df['class'])"
   ]
  },
  {
   "cell_type": "code",
   "execution_count": 183,
   "id": "53f9ded6",
   "metadata": {},
   "outputs": [
    {
     "name": "stdout",
     "output_type": "stream",
     "text": [
      "가장 긴 문장의 길이: 29\n",
      "어휘 사전의 크기: 6097\n"
     ]
    }
   ],
   "source": [
    "# 토크나이저 생성\n",
    "tokenizer = Tokenizer()\n",
    "\n",
    "# 토크나이저가 데이터를 학습\n",
    "tokenizer.fit_on_texts(preprocessed_notice_names)\n",
    "\n",
    "# 데이터를 시퀀스로 변환\n",
    "sequences = tokenizer.texts_to_sequences(preprocessed_notice_names)\n",
    "\n",
    "# 가장 긴 문장의 길이를 확인\n",
    "max_sequence_length = max(len(s) for s in sequences)\n",
    "print('가장 긴 문장의 길이:', max_sequence_length)\n",
    "\n",
    "# 어휘 사전의 크기를 확인 (+1을 하는 이유는 0인덱스를 고려하기 때문입니다.)\n",
    "vocab_size = len(tokenizer.word_index) + 1\n",
    "print('어휘 사전의 크기:', vocab_size)\n",
    "\n",
    "# 모든 문장을 가장 긴 문장의 길이로 패딩 처리\n",
    "padded_X = pad_sequences(sequences, maxlen=max_sequence_length, padding='post')"
   ]
  },
  {
   "cell_type": "code",
   "execution_count": 184,
   "id": "1f043143",
   "metadata": {},
   "outputs": [],
   "source": [
    "# TF-IDF 벡터화\n",
    "vectorizer = TfidfVectorizer()\n",
    "X = vectorizer.fit_transform(preprocessed_notice_names)\n",
    "\n",
    "tfidf_model = TfidfVectorizer().fit(preprocessed_notice_names)\n",
    "\n",
    "label_encoder = LabelEncoder()\n",
    "y = label_encoder.fit_transform(df['class'])"
   ]
  },
  {
   "cell_type": "code",
   "execution_count": 185,
   "id": "6c921499",
   "metadata": {},
   "outputs": [],
   "source": [
    "# 훈련 데이터 분리: train 데이터 80%, test 데이터 20%\n",
    "X_train, X_test, y_train, y_test = train_test_split(padded_X, y, test_size=0.2, random_state=42)"
   ]
  },
  {
   "cell_type": "code",
   "execution_count": 186,
   "id": "6683fe74",
   "metadata": {},
   "outputs": [],
   "source": [
    "# 타겟 변수 다중 클래스 원-핫 인코딩\n",
    "y_train_encoded = to_categorical(y_train)\n",
    "y_test_encoded = to_categorical(y_test)"
   ]
  },
  {
   "cell_type": "code",
   "execution_count": 187,
   "id": "d44c1571",
   "metadata": {},
   "outputs": [],
   "source": [
    "# LSTM 모델 생성\n",
    "model = Sequential()\n",
    "model.add(Embedding(vocab_size, 128, input_length=max_sequence_length))\n",
    "model.add(LSTM(64))\n",
    "model.add(Dense(64, activation='relu'))\n",
    "\n",
    "# 출력 뉴런의 개수와 활성화 함수를 클래스 개수에 따라 조정\n",
    "num_classes = len(set(y))  # 클래스 개수 계산\n",
    "if num_classes == 2:\n",
    "    model.add(Dense(1, activation='sigmoid'))\n",
    "    model.compile(optimizer='adam', loss='binary_crossentropy', metrics=['accuracy'])\n",
    "else:\n",
    "    model.add(Dense(num_classes, activation='softmax'))\n",
    "    model.compile(optimizer='adam', loss='categorical_crossentropy', metrics=['accuracy'])"
   ]
  },
  {
   "cell_type": "code",
   "execution_count": 188,
   "id": "b448d8ef",
   "metadata": {},
   "outputs": [
    {
     "name": "stdout",
     "output_type": "stream",
     "text": [
      "Epoch 1/50\n",
      "251/251 [==============================] - 4s 11ms/step - loss: 3.7911 - accuracy: 0.0793 - val_loss: 3.5480 - val_accuracy: 0.1048\n",
      "Epoch 2/50\n",
      "251/251 [==============================] - 3s 10ms/step - loss: 3.3451 - accuracy: 0.1146 - val_loss: 3.0594 - val_accuracy: 0.1578\n",
      "Epoch 3/50\n",
      "251/251 [==============================] - 2s 10ms/step - loss: 2.7736 - accuracy: 0.2047 - val_loss: 2.6753 - val_accuracy: 0.2267\n",
      "Epoch 4/50\n",
      "251/251 [==============================] - 2s 10ms/step - loss: 2.3126 - accuracy: 0.3079 - val_loss: 2.2554 - val_accuracy: 0.3615\n",
      "Epoch 5/50\n",
      "251/251 [==============================] - 2s 10ms/step - loss: 1.7378 - accuracy: 0.4866 - val_loss: 1.8202 - val_accuracy: 0.5162\n",
      "Epoch 6/50\n",
      "251/251 [==============================] - 3s 10ms/step - loss: 1.2747 - accuracy: 0.6213 - val_loss: 1.6335 - val_accuracy: 0.5736\n",
      "Epoch 7/50\n",
      "251/251 [==============================] - 3s 10ms/step - loss: 0.9366 - accuracy: 0.7199 - val_loss: 1.4283 - val_accuracy: 0.6555\n",
      "Epoch 8/50\n",
      "251/251 [==============================] - 3s 10ms/step - loss: 0.6716 - accuracy: 0.8047 - val_loss: 1.2428 - val_accuracy: 0.7369\n",
      "Epoch 9/50\n",
      "251/251 [==============================] - 3s 10ms/step - loss: 0.4593 - accuracy: 0.8821 - val_loss: 1.1490 - val_accuracy: 0.7818\n",
      "Epoch 10/50\n",
      "251/251 [==============================] - 3s 10ms/step - loss: 0.3300 - accuracy: 0.9171 - val_loss: 1.0697 - val_accuracy: 0.7958\n",
      "Epoch 11/50\n",
      "251/251 [==============================] - 3s 10ms/step - loss: 0.2162 - accuracy: 0.9466 - val_loss: 1.0295 - val_accuracy: 0.8183\n",
      "Epoch 12/50\n",
      "251/251 [==============================] - 3s 10ms/step - loss: 0.1574 - accuracy: 0.9634 - val_loss: 1.0360 - val_accuracy: 0.8283\n",
      "Epoch 13/50\n",
      "251/251 [==============================] - 3s 10ms/step - loss: 0.1263 - accuracy: 0.9712 - val_loss: 1.0694 - val_accuracy: 0.8288\n",
      "Epoch 14/50\n",
      "251/251 [==============================] - 2s 10ms/step - loss: 0.1066 - accuracy: 0.9760 - val_loss: 1.0787 - val_accuracy: 0.8382\n",
      "Epoch 15/50\n",
      "251/251 [==============================] - 2s 10ms/step - loss: 0.0823 - accuracy: 0.9828 - val_loss: 1.0747 - val_accuracy: 0.8417\n",
      "Epoch 16/50\n",
      "251/251 [==============================] - 2s 10ms/step - loss: 0.0878 - accuracy: 0.9783 - val_loss: 1.0683 - val_accuracy: 0.8387\n",
      "Epoch 17/50\n",
      "251/251 [==============================] - 2s 10ms/step - loss: 0.0431 - accuracy: 0.9898 - val_loss: 1.0867 - val_accuracy: 0.8517\n",
      "Epoch 18/50\n",
      "251/251 [==============================] - 2s 10ms/step - loss: 0.0379 - accuracy: 0.9905 - val_loss: 1.1273 - val_accuracy: 0.8442\n",
      "Epoch 19/50\n",
      "251/251 [==============================] - 2s 10ms/step - loss: 0.0582 - accuracy: 0.9843 - val_loss: 1.0800 - val_accuracy: 0.8507\n",
      "Epoch 20/50\n",
      "251/251 [==============================] - 2s 10ms/step - loss: 0.0367 - accuracy: 0.9919 - val_loss: 1.1099 - val_accuracy: 0.8522\n",
      "Epoch 21/50\n",
      "251/251 [==============================] - 2s 10ms/step - loss: 0.0449 - accuracy: 0.9888 - val_loss: 1.1874 - val_accuracy: 0.8323\n",
      "Epoch 22/50\n",
      "251/251 [==============================] - 3s 10ms/step - loss: 0.0545 - accuracy: 0.9865 - val_loss: 1.1937 - val_accuracy: 0.8407\n",
      "Epoch 23/50\n",
      "251/251 [==============================] - 2s 10ms/step - loss: 0.0355 - accuracy: 0.9921 - val_loss: 1.1523 - val_accuracy: 0.8577\n",
      "Epoch 24/50\n",
      "251/251 [==============================] - 2s 10ms/step - loss: 0.0175 - accuracy: 0.9960 - val_loss: 1.1668 - val_accuracy: 0.8532\n",
      "Epoch 25/50\n",
      "251/251 [==============================] - 2s 10ms/step - loss: 0.0138 - accuracy: 0.9963 - val_loss: 1.1996 - val_accuracy: 0.8512\n",
      "Epoch 26/50\n",
      "251/251 [==============================] - 2s 10ms/step - loss: 0.0570 - accuracy: 0.9858 - val_loss: 1.1854 - val_accuracy: 0.8517\n",
      "Epoch 27/50\n",
      "251/251 [==============================] - 2s 10ms/step - loss: 0.0284 - accuracy: 0.9939 - val_loss: 1.2093 - val_accuracy: 0.8512\n",
      "Epoch 28/50\n",
      "251/251 [==============================] - 2s 10ms/step - loss: 0.0223 - accuracy: 0.9943 - val_loss: 1.1459 - val_accuracy: 0.8552\n",
      "Epoch 29/50\n",
      "251/251 [==============================] - 2s 10ms/step - loss: 0.0150 - accuracy: 0.9966 - val_loss: 1.2322 - val_accuracy: 0.8557\n",
      "Epoch 30/50\n",
      "251/251 [==============================] - 2s 10ms/step - loss: 0.0208 - accuracy: 0.9945 - val_loss: 1.1609 - val_accuracy: 0.8597\n",
      "Epoch 31/50\n",
      "251/251 [==============================] - 3s 10ms/step - loss: 0.0065 - accuracy: 0.9983 - val_loss: 1.2129 - val_accuracy: 0.8587\n",
      "Epoch 32/50\n",
      "251/251 [==============================] - 3s 11ms/step - loss: 0.0041 - accuracy: 0.9990 - val_loss: 1.1976 - val_accuracy: 0.8582\n",
      "Epoch 33/50\n",
      "251/251 [==============================] - 3s 10ms/step - loss: 0.0048 - accuracy: 0.9988 - val_loss: 1.2273 - val_accuracy: 0.8572\n",
      "Epoch 34/50\n",
      "251/251 [==============================] - 3s 10ms/step - loss: 0.0194 - accuracy: 0.9958 - val_loss: 1.4818 - val_accuracy: 0.8278\n",
      "Epoch 35/50\n",
      "251/251 [==============================] - 3s 10ms/step - loss: 0.0397 - accuracy: 0.9895 - val_loss: 1.2657 - val_accuracy: 0.8432\n",
      "Epoch 36/50\n",
      "251/251 [==============================] - 3s 10ms/step - loss: 0.0351 - accuracy: 0.9909 - val_loss: 1.2384 - val_accuracy: 0.8452\n",
      "Epoch 37/50\n",
      "251/251 [==============================] - 2s 10ms/step - loss: 0.0153 - accuracy: 0.9951 - val_loss: 1.1889 - val_accuracy: 0.8552\n",
      "Epoch 38/50\n",
      "251/251 [==============================] - 2s 10ms/step - loss: 0.0143 - accuracy: 0.9965 - val_loss: 1.1828 - val_accuracy: 0.8572\n",
      "Epoch 39/50\n",
      "251/251 [==============================] - 2s 10ms/step - loss: 0.0090 - accuracy: 0.9983 - val_loss: 1.2384 - val_accuracy: 0.8542\n",
      "Epoch 40/50\n",
      "251/251 [==============================] - 3s 10ms/step - loss: 0.0085 - accuracy: 0.9983 - val_loss: 1.1953 - val_accuracy: 0.8607\n",
      "Epoch 41/50\n",
      "251/251 [==============================] - 3s 10ms/step - loss: 0.0030 - accuracy: 0.9991 - val_loss: 1.2117 - val_accuracy: 0.8617\n",
      "Epoch 42/50\n",
      "251/251 [==============================] - 3s 10ms/step - loss: 0.0031 - accuracy: 0.9989 - val_loss: 1.2339 - val_accuracy: 0.8627\n",
      "Epoch 43/50\n",
      "251/251 [==============================] - 3s 10ms/step - loss: 0.0023 - accuracy: 0.9991 - val_loss: 1.2485 - val_accuracy: 0.8627\n",
      "Epoch 44/50\n",
      "251/251 [==============================] - 3s 10ms/step - loss: 0.0025 - accuracy: 0.9990 - val_loss: 1.2616 - val_accuracy: 0.8647\n",
      "Epoch 45/50\n",
      "251/251 [==============================] - 3s 10ms/step - loss: 0.0024 - accuracy: 0.9990 - val_loss: 1.2822 - val_accuracy: 0.8587\n",
      "Epoch 46/50\n",
      "251/251 [==============================] - 3s 10ms/step - loss: 0.0026 - accuracy: 0.9993 - val_loss: 1.2834 - val_accuracy: 0.8582\n",
      "Epoch 47/50\n",
      "251/251 [==============================] - 3s 10ms/step - loss: 0.0028 - accuracy: 0.9991 - val_loss: 1.3210 - val_accuracy: 0.8592\n",
      "Epoch 48/50\n",
      "251/251 [==============================] - 3s 10ms/step - loss: 0.0016 - accuracy: 0.9995 - val_loss: 1.3376 - val_accuracy: 0.8627\n",
      "Epoch 49/50\n",
      "251/251 [==============================] - 2s 10ms/step - loss: 0.0024 - accuracy: 0.9993 - val_loss: 1.3430 - val_accuracy: 0.8637\n",
      "Epoch 50/50\n",
      "251/251 [==============================] - 2s 10ms/step - loss: 0.0028 - accuracy: 0.9989 - val_loss: 1.3436 - val_accuracy: 0.8607\n"
     ]
    },
    {
     "data": {
      "text/plain": [
       "<keras.callbacks.History at 0x28f90739580>"
      ]
     },
     "execution_count": 188,
     "metadata": {},
     "output_type": "execute_result"
    }
   ],
   "source": [
    "# 모델 훈련\n",
    "model.fit(X_train, y_train_encoded, epochs=50, batch_size=32, validation_data=(X_test, y_test_encoded))"
   ]
  },
  {
   "cell_type": "code",
   "execution_count": 189,
   "id": "ecf66efe",
   "metadata": {},
   "outputs": [
    {
     "name": "stdout",
     "output_type": "stream",
     "text": [
      "Accuracy: 0.8607089365951074\n"
     ]
    }
   ],
   "source": [
    "y_prob = model.predict(X_test, verbose=0) \n",
    "y_pred = y_prob.argmax(axis=-1)\n",
    "LSTM_accuracy = np.sum(y_pred.flatten() == y_test) / len(y_test)\n",
    "print(\"Accuracy:\", LSTM_accuracy)"
   ]
  },
  {
   "cell_type": "markdown",
   "id": "c1e7ac07",
   "metadata": {},
   "source": [
    "# GRU"
   ]
  },
  {
   "cell_type": "code",
   "execution_count": 219,
   "id": "35027dc0",
   "metadata": {},
   "outputs": [],
   "source": [
    "import numpy as np\n",
    "import pandas as pd\n",
    "from sklearn.model_selection import train_test_split\n",
    "from sklearn.preprocessing import LabelEncoder\n",
    "from tensorflow.keras.preprocessing.text import Tokenizer\n",
    "from tensorflow.keras.preprocessing.sequence import pad_sequences\n",
    "from tensorflow.keras.models import Sequential\n",
    "from tensorflow.keras.layers import Embedding, GRU, Dense\n",
    "from tensorflow.keras.utils import to_categorical\n",
    "import tensorflow as tf"
   ]
  },
  {
   "cell_type": "code",
   "execution_count": 202,
   "id": "5e9ea28a",
   "metadata": {},
   "outputs": [],
   "source": [
    "# CSV 파일 읽기\n",
    "df = pd.read_csv(\"./라벨링완료된공지사항(수정본).csv\") \n",
    "\n",
    "notice_names = df['title'].tolist()\n",
    "\n",
    "# 전처리 함수 정의\n",
    "def preprocess_text(text):\n",
    "    # 특수문자 제거\n",
    "    text = re.sub(r\"[^\\uAC00-\\uD7A30-9a-zA-Z\\s]\", \"\", text)\n",
    "\n",
    "    # 숫자 정보 제거\n",
    "    text = re.sub(r'\\d+', '', text)\n",
    "\n",
    "    # 형태소 분석\n",
    "    tagger = Okt()\n",
    "    words = tagger.morphs(text)\n",
    "\n",
    "    # 불용어 제거\n",
    "    stop_words = ['필독', '학기', '학년', '도', '년', '제', '회', '월', '학부', '일', '차', '년도', '안내']  # 불용어 리스트\n",
    "    words = [word for word in words if word not in stop_words]\n",
    "\n",
    "    # 분석된 형태소들을 공백으로 결합하여 문장으로 반환\n",
    "    text = ' '.join(words)\n",
    "\n",
    "    return text\n",
    "\n",
    "\n",
    "preprocessed_notice_names = [preprocess_text(notice_name) for notice_name in notice_names]"
   ]
  },
  {
   "cell_type": "code",
   "execution_count": 221,
   "id": "50b4deba",
   "metadata": {},
   "outputs": [],
   "source": [
    "# TF-IDF 벡터화\n",
    "vectorizer = TfidfVectorizer()\n",
    "X = vectorizer.fit_transform(preprocessed_notice_names)\n",
    "\n",
    "tfidf_model = TfidfVectorizer().fit(preprocessed_notice_names)\n",
    "\n",
    "label_encoder = LabelEncoder()\n",
    "y = label_encoder.fit_transform(df['class'])"
   ]
  },
  {
   "cell_type": "code",
   "execution_count": 226,
   "id": "7f510bc2",
   "metadata": {},
   "outputs": [
    {
     "name": "stdout",
     "output_type": "stream",
     "text": [
      "가장 긴 문장의 길이: 29\n",
      "어휘 사전의 크기: 6097\n"
     ]
    }
   ],
   "source": [
    "# 토크나이저 생성\n",
    "tokenizer = Tokenizer()\n",
    "\n",
    "# 토크나이저가 데이터를 학습\n",
    "tokenizer.fit_on_texts(preprocessed_notice_names)\n",
    "\n",
    "# 데이터를 시퀀스로 변환\n",
    "sequences = tokenizer.texts_to_sequences(preprocessed_notice_names)\n",
    "\n",
    "# 가장 긴 문장의 길이를 확인\n",
    "max_sequence_length = max(len(s) for s in sequences)\n",
    "print('가장 긴 문장의 길이:', max_sequence_length)\n",
    "\n",
    "# 어휘 사전의 크기를 확인 (+1을 하는 이유는 0인덱스를 고려하기 때문입니다.)\n",
    "vocab_size = len(tokenizer.word_index) + 1\n",
    "print('어휘 사전의 크기:', vocab_size)\n",
    "\n",
    "# 모든 문장을 가장 긴 문장의 길이로 패딩 처리\n",
    "padded_X = pad_sequences(sequences, maxlen=max_sequence_length, padding='post')"
   ]
  },
  {
   "cell_type": "code",
   "execution_count": 227,
   "id": "dbeebd57",
   "metadata": {},
   "outputs": [],
   "source": [
    "# 훈련 데이터 분리: train 데이터 80%, test 데이터 20%\n",
    "X_train, X_test, y_train, y_test = train_test_split(padded_X, y, test_size=0.2, random_state=42)"
   ]
  },
  {
   "cell_type": "code",
   "execution_count": 228,
   "id": "5ccb0994",
   "metadata": {},
   "outputs": [],
   "source": [
    "# 타겟 변수 다중 클래스 원-핫 인코딩\n",
    "y_train_encoded = to_categorical(y_train)\n",
    "y_test_encoded = to_categorical(y_test)"
   ]
  },
  {
   "cell_type": "code",
   "execution_count": 236,
   "id": "dd5653b5",
   "metadata": {},
   "outputs": [],
   "source": [
    "# GUR모델 생성\n",
    "model = Sequential()\n",
    "model.add(Embedding(vocab_size, 128, input_length=max_sequence_length))\n",
    "model.add(GRU(128, dropout=0.2, recurrent_dropout=0.2))\n",
    "model.add(Dense(64, activation='softmax'))\n",
    "\n",
    "# 출력 뉴런의 개수와 활성화 함수를 클래스 개수에 따라 조정\n",
    "num_classes = len(set(y))  # 클래스 개수 계산\n",
    "if num_classes == 2:\n",
    "    model.add(Dense(1, activation='sigmoid'))\n",
    "    model.compile(optimizer='adam', loss='binary_crossentropy', metrics=['accuracy'])\n",
    "else:\n",
    "    model.add(Dense(num_classes, activation='softmax'))\n",
    "    model.compile(optimizer='adam', loss='categorical_crossentropy', metrics=['accuracy'])"
   ]
  },
  {
   "cell_type": "code",
   "execution_count": 237,
   "id": "ad644e94",
   "metadata": {},
   "outputs": [
    {
     "name": "stdout",
     "output_type": "stream",
     "text": [
      "Epoch 1/10\n",
      "251/251 [==============================] - 7s 24ms/step - loss: 4.0772 - accuracy: 0.0816 - val_loss: 3.9283 - val_accuracy: 0.0914\n",
      "Epoch 2/10\n",
      "251/251 [==============================] - 6s 23ms/step - loss: 3.8299 - accuracy: 0.1267 - val_loss: 3.7570 - val_accuracy: 0.1198\n",
      "Epoch 3/10\n",
      "251/251 [==============================] - 6s 23ms/step - loss: 3.6759 - accuracy: 0.1396 - val_loss: 3.6179 - val_accuracy: 0.1398\n",
      "Epoch 4/10\n",
      "251/251 [==============================] - 6s 23ms/step - loss: 3.5629 - accuracy: 0.1434 - val_loss: 3.5262 - val_accuracy: 0.1388\n",
      "Epoch 5/10\n",
      "251/251 [==============================] - 6s 23ms/step - loss: 3.4915 - accuracy: 0.1427 - val_loss: 3.4739 - val_accuracy: 0.1393\n",
      "Epoch 6/10\n",
      "251/251 [==============================] - 6s 23ms/step - loss: 3.4304 - accuracy: 0.1449 - val_loss: 3.4240 - val_accuracy: 0.1383\n",
      "Epoch 7/10\n",
      "251/251 [==============================] - 6s 23ms/step - loss: 3.3850 - accuracy: 0.1452 - val_loss: 3.3877 - val_accuracy: 0.1438\n",
      "Epoch 8/10\n",
      "251/251 [==============================] - 6s 23ms/step - loss: 3.3506 - accuracy: 0.1457 - val_loss: 3.3625 - val_accuracy: 0.1418\n",
      "Epoch 9/10\n",
      "251/251 [==============================] - 6s 23ms/step - loss: 3.3248 - accuracy: 0.1456 - val_loss: 3.3475 - val_accuracy: 0.1418\n",
      "Epoch 10/10\n",
      "251/251 [==============================] - 6s 23ms/step - loss: 3.3029 - accuracy: 0.1457 - val_loss: 3.3330 - val_accuracy: 0.1423\n",
      "63/63 [==============================] - 0s 5ms/step - loss: 3.3330 - accuracy: 0.1423\n",
      "Test Loss: 3.3329694271087646\n",
      "Test Accuracy: 0.14228656888008118\n"
     ]
    }
   ],
   "source": [
    "# 모델 훈련\n",
    "model.fit(X_train, y_train_encoded, batch_size=32, epochs=10, validation_data=(X_test, y_test_encoded))\n",
    "\n",
    "#정확도 측정\n",
    "loss, GUR_accuracy = model.evaluate(X_test, y_test_encoded)\n",
    "print(\"Test Loss:\", loss)\n",
    "print(\"Test Accuracy:\", GUR_accuracy)"
   ]
  },
  {
   "cell_type": "markdown",
   "id": "d2932837",
   "metadata": {
    "id": "d2932837"
   },
   "source": [
    "# 성능 비교 시각화"
   ]
  },
  {
   "cell_type": "code",
   "execution_count": 238,
   "id": "863890f4",
   "metadata": {
    "id": "863890f4"
   },
   "outputs": [],
   "source": [
    "import matplotlib.pyplot as plt"
   ]
  },
  {
   "cell_type": "code",
   "execution_count": 246,
   "id": "02b625c3",
   "metadata": {
    "colab": {
     "base_uri": "https://localhost:8080/",
     "height": 472
    },
    "id": "02b625c3",
    "outputId": "5e267b64-275b-44e1-ae89-8eecae548821"
   },
   "outputs": [
    {
     "data": {
      "image/png": "[encoded data removed]",
      "text/plain": [
       "<Figure size 640x480 with 1 Axes>"
      ]
     },
     "metadata": {},
     "output_type": "display_data"
    }
   ],
   "source": [
    "#그래프로 성능 비교 \n",
    "\n",
    "x = ('CNN', 'LSTM','SVM','MLP','GUR')\n",
    "y = [CNN_accuracy, LSTM_accuracy,SVM_accuracy,MLP_accuracy,GUR_accuracy]\n",
    "plt.xlabel(\"model\")\n",
    "plt.ylabel(\"accuracy\")\n",
    "plt.bar(x, y)  # 데이터 가로 나온 함수 barh\n",
    "plt.title('Comparison of classification accuracy by model')\n",
    "for a,b,i in zip(x,y,range(len(x))): # zip 函数\n",
    "    plt.text(a,b+0.01,\"%.2f\"%y[i],ha='center',fontsize=8) # plt.text 함수\n",
    "\n",
    "plt.show()\n"
   ]
  },
  {
   "cell_type": "code",
   "execution_count": null,
   "id": "69fdeb44",
   "metadata": {
    "id": "69fdeb44"
   },
   "outputs": [],
   "source": []
  }
 ],
 "metadata": {
  "colab": {
   "provenance": []
  },
  "kernelspec": {
   "display_name": "Python 3 (ipykernel)",
   "language": "python",
   "name": "python3"
  },
  "language_info": {
   "codemirror_mode": {
    "name": "ipython",
    "version": 3
   },
   "file_extension": ".py",
   "mimetype": "text/x-python",
   "name": "python",
   "nbconvert_exporter": "python",
   "pygments_lexer": "ipython3",
   "version": "3.9.13"
  }
 },
 "nbformat": 4,
 "nbformat_minor": 5
}
