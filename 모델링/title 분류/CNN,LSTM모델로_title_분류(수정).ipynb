{
  "cells": [
    {
      "attachments": {},
      "cell_type": "markdown",
      "id": "a9000d12",
      "metadata": {
        "id": "a9000d12"
      },
      "source": [
        "# CNN모델"
      ]
    },
    {
      "cell_type": "code",
      "execution_count": 53,
      "id": "28a6a893",
      "metadata": {
        "id": "28a6a893"
      },
      "outputs": [],
      "source": [
        "import pandas as pd\n",
        "import numpy as np\n",
        "import re\n",
        "from datetime import datetime\n",
        "from sklearn.model_selection import train_test_split\n",
        "from sklearn.preprocessing import LabelEncoder\n",
        "from sklearn.feature_extraction.text import TfidfVectorizer\n",
        "from tensorflow.keras.models import Sequential\n",
        "from tensorflow.keras.layers import Embedding, Conv1D, GlobalMaxPooling1D, Dense\n",
        "from tensorflow.keras.preprocessing.text import Tokenizer\n",
        "from tensorflow.keras.preprocessing.sequence import pad_sequences\n",
        "from tensorflow.keras.utils import to_categorical\n",
        "from konlpy.tag import Okt\n",
        "from tensorflow.keras.callbacks import EarlyStopping\n",
        "from matplotlib import font_manager, rc\n",
        "\n"
      ]
    },
    {
      "cell_type": "code",
      "execution_count": 54,
      "id": "52ec2759",
      "metadata": {},
      "outputs": [],
      "source": [
        "font_path = \"C:/Windows/Fonts/NGULIM.TTF\"\n",
        "font = font_manager.FontProperties(fname=font_path).get_name()\n",
        "rc('font', family=font)"
      ]
    },
    {
      "cell_type": "code",
      "execution_count": 55,
      "id": "b7c13c38",
      "metadata": {
        "id": "b7c13c38"
      },
      "outputs": [],
      "source": [
        "# CSV 파일 읽기\n",
        "df = pd.read_csv(\"./라벨링완료된공지사항(수정본).csv\") \n",
        "\n",
        "notice_names = df['title'].tolist()\n",
        "\n",
        "# 전처리 함수 정의\n",
        "def preprocess_text(text):\n",
        "    # 특수문자 제거\n",
        "    text = re.sub(r\"[^\\uAC00-\\uD7A30-9a-zA-Z\\s]\", \"\", text)\n",
        "\n",
        "    # 숫자 정보 제거\n",
        "    text = re.sub(r'\\d+', '', text)\n",
        "\n",
        "    # 형태소 분석\n",
        "    tagger = Okt()\n",
        "    words = tagger.morphs(text)\n",
        "\n",
        "    # 불용어 제거\n",
        "    stop_words = ['필독', '학기', '학년', '도', '년', '제', '회', '월', '학부', '일', '차', '년도', '안내']  # 불용어 리스트\n",
        "    words = [word for word in words if word not in stop_words]\n",
        "\n",
        "    # 분석된 형태소들을 공백으로 결합하여 문장으로 반환\n",
        "    text = ' '.join(words)\n",
        "\n",
        "    return text\n",
        "\n",
        "\n",
        "preprocessed_notice_names = [preprocess_text(notice_name) for notice_name in notice_names]"
      ]
    },
    {
      "cell_type": "code",
      "execution_count": 56,
      "id": "7aae4507",
      "metadata": {
        "colab": {
          "base_uri": "https://localhost:8080/"
        },
        "id": "7aae4507",
        "outputId": "1ead9c15-266b-44b3-d4d9-eafe06611f70"
      },
      "outputs": [
        {
          "name": "stdout",
          "output_type": "stream",
          "text": [
            "가장 긴 문장의 길이: 29\n",
            "어휘 사전의 크기: 6097\n"
          ]
        }
      ],
      "source": [
        "# 토크나이저 생성\n",
        "tokenizer = Tokenizer()\n",
        "\n",
        "# 토크나이저가 데이터를 학습\n",
        "tokenizer.fit_on_texts(preprocessed_notice_names)\n",
        "\n",
        "# 데이터를 시퀀스로 변환\n",
        "sequences = tokenizer.texts_to_sequences(preprocessed_notice_names)\n",
        "\n",
        "# 가장 긴 문장의 길이를 확인\n",
        "max_sequence_length = max(len(s) for s in sequences)\n",
        "print('가장 긴 문장의 길이:', max_sequence_length)\n",
        "\n",
        "# 어휘 사전의 크기를 확인 (+1을 하는 이유는 0인덱스를 고려하기 때문입니다.)\n",
        "vocab_size = len(tokenizer.word_index) + 1\n",
        "print('어휘 사전의 크기:', vocab_size)\n",
        "\n",
        "# 모든 문장을 가장 긴 문장의 길이로 패딩 처리\n",
        "padded_X = pad_sequences(sequences, maxlen=max_sequence_length, padding='post')"
      ]
    },
    {
      "cell_type": "code",
      "execution_count": 57,
      "id": "c4262c19",
      "metadata": {
        "id": "c4262c19"
      },
      "outputs": [],
      "source": [
        "# TF-IDF 벡터화\n",
        "vectorizer = TfidfVectorizer()\n",
        "X = vectorizer.fit_transform(preprocessed_notice_names)\n",
        "\n",
        "tfidf_model = TfidfVectorizer().fit(preprocessed_notice_names)\n",
        "\n",
        "label_encoder = LabelEncoder()\n",
        "y = label_encoder.fit_transform(df['class'])"
      ]
    },
    {
      "cell_type": "code",
      "execution_count": 58,
      "id": "bceda68d",
      "metadata": {
        "id": "bceda68d"
      },
      "outputs": [],
      "source": [
        "# 훈련 데이터 분리: train 데이터 80%, test 데이터 20%\n",
        "X_train, X_test, y_train, y_test = train_test_split(padded_X, y, test_size=0.2, random_state=42)"
      ]
    },
    {
      "cell_type": "code",
      "execution_count": 59,
      "id": "029f331b",
      "metadata": {
        "id": "029f331b"
      },
      "outputs": [],
      "source": [
        "# 타겟 변수 다중 클래스 원-핫 인코딩\n",
        "y_train_encoded = to_categorical(y_train)\n",
        "y_test_encoded = to_categorical(y_test)"
      ]
    },
    {
      "cell_type": "code",
      "execution_count": 60,
      "id": "5f0cdfd7",
      "metadata": {
        "id": "5f0cdfd7"
      },
      "outputs": [],
      "source": [
        "# CNN 모델 생성\n",
        "model = Sequential()\n",
        "model.add(Embedding(vocab_size, 128, input_length=max_sequence_length))\n",
        "model.add(Conv1D(64, 5, activation='relu'))\n",
        "model.add(GlobalMaxPooling1D())\n",
        "model.add(Dense(64, activation='relu'))\n",
        "\n",
        "# 출력 뉴런의 개수와 활성화 함수를 클래스 개수에 따라 조정\n",
        "num_classes = len(set(y))  # 클래스 개수 계산\n",
        "if num_classes == 2:\n",
        "    model.add(Dense(1, activation='sigmoid'))\n",
        "    model.compile(optimizer='adam', loss='binary_crossentropy', metrics=['accuracy'])\n",
        "else:\n",
        "    model.add(Dense(num_classes, activation='softmax'))\n",
        "    model.compile(optimizer='adam', loss='categorical_crossentropy', metrics=['accuracy'])"
      ]
    },
    {
      "cell_type": "code",
      "execution_count": 61,
      "id": "4e9af3b2",
      "metadata": {
        "colab": {
          "base_uri": "https://localhost:8080/"
        },
        "id": "4e9af3b2",
        "outputId": "24b0eb97-1c0c-4f4f-ceaa-133825c81eb0"
      },
      "outputs": [
        {
          "name": "stdout",
          "output_type": "stream",
          "text": [
            "Epoch 1/10\n",
            "251/251 [==============================] - 3s 10ms/step - loss: 2.8482 - accuracy: 0.3416 - val_loss: 1.4579 - val_accuracy: 0.6720\n",
            "Epoch 2/10\n",
            "251/251 [==============================] - 3s 10ms/step - loss: 0.7313 - accuracy: 0.8386 - val_loss: 0.5533 - val_accuracy: 0.8812\n",
            "Epoch 3/10\n",
            "251/251 [==============================] - 2s 9ms/step - loss: 0.2123 - accuracy: 0.9563 - val_loss: 0.4048 - val_accuracy: 0.9111\n",
            "Epoch 4/10\n",
            "251/251 [==============================] - 2s 9ms/step - loss: 0.0755 - accuracy: 0.9878 - val_loss: 0.4003 - val_accuracy: 0.9096\n",
            "Epoch 5/10\n",
            "251/251 [==============================] - 2s 9ms/step - loss: 0.0329 - accuracy: 0.9953 - val_loss: 0.3711 - val_accuracy: 0.9166\n",
            "Epoch 6/10\n",
            "251/251 [==============================] - 2s 9ms/step - loss: 0.0189 - accuracy: 0.9976 - val_loss: 0.3581 - val_accuracy: 0.9236\n",
            "Epoch 7/10\n",
            "251/251 [==============================] - 2s 8ms/step - loss: 0.0122 - accuracy: 0.9985 - val_loss: 0.3635 - val_accuracy: 0.9236\n",
            "Epoch 8/10\n",
            "251/251 [==============================] - 2s 9ms/step - loss: 0.0095 - accuracy: 0.9985 - val_loss: 0.3728 - val_accuracy: 0.9241\n",
            "Epoch 9/10\n",
            "251/251 [==============================] - 2s 8ms/step - loss: 0.0070 - accuracy: 0.9991 - val_loss: 0.3799 - val_accuracy: 0.9231\n"
          ]
        },
        {
          "data": {
            "text/plain": [
              "<keras.callbacks.History at 0x1a071065f00>"
            ]
          },
          "execution_count": 61,
          "metadata": {},
          "output_type": "execute_result"
        }
      ],
      "source": [
        "#모델 훈현\n",
        "model.fit(X_train, y_train_encoded, epochs=10, batch_size=32, validation_data=(X_test, y_test_encoded), callbacks=[EarlyStopping(patience=3)])"
      ]
    },
    {
      "cell_type": "code",
      "execution_count": 62,
      "id": "9b8ef667",
      "metadata": {},
      "outputs": [
        {
          "data": {
            "text/html": [
              "<div>\n",
              "<style scoped>\n",
              "    .dataframe tbody tr th:only-of-type {\n",
              "        vertical-align: middle;\n",
              "    }\n",
              "\n",
              "    .dataframe tbody tr th {\n",
              "        vertical-align: top;\n",
              "    }\n",
              "\n",
              "    .dataframe thead th {\n",
              "        text-align: right;\n",
              "    }\n",
              "</style>\n",
              "<table border=\"1\" class=\"dataframe\">\n",
              "  <thead>\n",
              "    <tr style=\"text-align: right;\">\n",
              "      <th></th>\n",
              "      <th>Cid</th>\n",
              "      <th>title</th>\n",
              "      <th>hits</th>\n",
              "      <th>time</th>\n",
              "      <th>cluster</th>\n",
              "      <th>class</th>\n",
              "      <th>year</th>\n",
              "      <th>month</th>\n",
              "    </tr>\n",
              "  </thead>\n",
              "  <tbody>\n",
              "    <tr>\n",
              "      <th>0</th>\n",
              "      <td>5</td>\n",
              "      <td>2019 국립중앙대(대만) 썸머스쿨 참가자 선발 안내</td>\n",
              "      <td>6077</td>\n",
              "      <td>2019-03-08</td>\n",
              "      <td>499</td>\n",
              "      <td>국제교류</td>\n",
              "      <td>2019</td>\n",
              "      <td>3</td>\n",
              "    </tr>\n",
              "    <tr>\n",
              "      <th>1</th>\n",
              "      <td>5</td>\n",
              "      <td>2019 봉갑대(대만) 썸머스쿨 참가자 선발</td>\n",
              "      <td>5374</td>\n",
              "      <td>2019-03-26</td>\n",
              "      <td>499</td>\n",
              "      <td>국제교류</td>\n",
              "      <td>2019</td>\n",
              "      <td>3</td>\n",
              "    </tr>\n",
              "    <tr>\n",
              "      <th>2</th>\n",
              "      <td>5</td>\n",
              "      <td>2019 실천대(대만) 썸머스쿨 참가자 선발</td>\n",
              "      <td>4810</td>\n",
              "      <td>2019-05-22</td>\n",
              "      <td>499</td>\n",
              "      <td>국제교류</td>\n",
              "      <td>2019</td>\n",
              "      <td>5</td>\n",
              "    </tr>\n",
              "    <tr>\n",
              "      <th>3</th>\n",
              "      <td>5</td>\n",
              "      <td>2019 중국 동북사범대 썸머스쿨 참가자 선발</td>\n",
              "      <td>821</td>\n",
              "      <td>2019-05-14</td>\n",
              "      <td>499</td>\n",
              "      <td>국제교류</td>\n",
              "      <td>2019</td>\n",
              "      <td>5</td>\n",
              "    </tr>\n",
              "    <tr>\n",
              "      <th>4</th>\n",
              "      <td>5</td>\n",
              "      <td>2019 중국 동북사범대 썸머스쿨 참가자 선발(2차)</td>\n",
              "      <td>4768</td>\n",
              "      <td>2019-05-21</td>\n",
              "      <td>499</td>\n",
              "      <td>국제교류</td>\n",
              "      <td>2019</td>\n",
              "      <td>5</td>\n",
              "    </tr>\n",
              "  </tbody>\n",
              "</table>\n",
              "</div>"
            ],
            "text/plain": [
              "   Cid                          title  hits        time  cluster class  year  \\\n",
              "0    5  2019 국립중앙대(대만) 썸머스쿨 참가자 선발 안내  6077  2019-03-08      499  국제교류  2019   \n",
              "1    5       2019 봉갑대(대만) 썸머스쿨 참가자 선발  5374  2019-03-26      499  국제교류  2019   \n",
              "2    5       2019 실천대(대만) 썸머스쿨 참가자 선발  4810  2019-05-22      499  국제교류  2019   \n",
              "3    5      2019 중국 동북사범대 썸머스쿨 참가자 선발   821  2019-05-14      499  국제교류  2019   \n",
              "4    5  2019 중국 동북사범대 썸머스쿨 참가자 선발(2차)  4768  2019-05-21      499  국제교류  2019   \n",
              "\n",
              "   month  \n",
              "0      3  \n",
              "1      3  \n",
              "2      5  \n",
              "3      5  \n",
              "4      5  "
            ]
          },
          "execution_count": 62,
          "metadata": {},
          "output_type": "execute_result"
        }
      ],
      "source": [
        "# year, month column 추가\n",
        "df['year'] = df['time'].apply(lambda x: datetime.strptime(x, '%Y-%m-%d').year)\n",
        "df['month'] = df['time'].apply(lambda x: datetime.strptime(x, '%Y-%m-%d').month)\n",
        "\n",
        "df.head()"
      ]
    },
    {
      "cell_type": "code",
      "execution_count": 63,
      "id": "89036539",
      "metadata": {},
      "outputs": [
        {
          "data": {
            "image/png": "[encoded data removed]",
            "text/plain": [
              "<Figure size 600x1200 with 2 Axes>"
            ]
          },
          "metadata": {},
          "output_type": "display_data"
        }
      ],
      "source": [
        "import matplotlib.pyplot as plt\n",
        "\n",
        "def plot_class_distribution(df, keyword):\n",
        "    # Filter dataframe by class keyword\n",
        "    df_class = df[df['class'] == keyword]\n",
        "    \n",
        "    # Count the number of occurrences of each Cid\n",
        "    cid_counts = df_class['Cid'].value_counts()\n",
        "\n",
        "    # Total number of occurrences of the keyword\n",
        "    total_count = df_class.shape[0]\n",
        "\n",
        "    # Average hits for the keyword\n",
        "    avg_hits = df_class['hits'].mean()\n",
        "\n",
        "    # Count the number of occurrences of the keyword for each month\n",
        "    monthly_counts = df_class['month'].value_counts().sort_index()\n",
        "\n",
        "    # Plot a pie chart\n",
        "    fig, axs = plt.subplots(2, 1, figsize=(6, 12))\n",
        "\n",
        "    # Plot the Cid distribution\n",
        "    axs[0].pie(cid_counts, labels=cid_counts.index, autopct='%1.1f%%')\n",
        "    axs[0].set_title(f'Distribution of \"{keyword}\" Among Cids (전체 게시글 수: {total_count}, 조회수 평균: {avg_hits:.2f})')\n",
        "\n",
        "    # Plot the monthly distribution\n",
        "    monthly_counts.plot(kind='bar', ax=axs[1])\n",
        "    axs[1].set_xlabel('Month')\n",
        "    axs[1].set_ylabel('Number of Posts')\n",
        "    axs[1].set_title(f'Monthly Number of \"{keyword}\" Posts')\n",
        "\n",
        "    plt.tight_layout()\n",
        "    plt.show()\n",
        "\n",
        "# Test the function\n",
        "plot_class_distribution(df, '교내시설')\n"
      ]
    },
    {
      "cell_type": "code",
      "execution_count": 64,
      "id": "9qYC5C5pFUBl",
      "metadata": {
        "colab": {
          "base_uri": "https://localhost:8080/"
        },
        "id": "9qYC5C5pFUBl",
        "outputId": "94c46090-1df9-43e9-f5f6-bd5cc086776c"
      },
      "outputs": [
        {
          "name": "stdout",
          "output_type": "stream",
          "text": [
            "1/1 [==============================] - 0s 42ms/step\n",
            "입력 문장: 6월 7일 모의토익 고사장 및 성적 확인 방법 안내\n",
            "예측된 레이블: 시험\n"
          ]
        },
        {
          "data": {
            "image/png": "[encoded data removed]",
            "text/plain": [
              "<Figure size 600x1200 with 2 Axes>"
            ]
          },
          "metadata": {},
          "output_type": "display_data"
        }
      ],
      "source": [
        "new_text = input(\"새로운 문장을 입력하세요: \")\n",
        "preprocessed_new_text = preprocess_text(new_text)\n",
        "sequence = tokenizer.texts_to_sequences([preprocessed_new_text])\n",
        "padded_sequence = pad_sequences(sequence, maxlen=max_sequence_length, padding='post')\n",
        "prediction = model.predict(padded_sequence)\n",
        "predicted_label = label_encoder.inverse_transform([prediction.argmax()])[0]\n",
        "\n",
        "# 예측 결과 출력\n",
        "print(f\"입력 문장: {new_text}\")\n",
        "print(f\"예측된 레이블: {predicted_label}\")\n",
        "\n",
        "# 해당 레이블의 분포를 그래프로 표시\n",
        "plot_class_distribution(df, predicted_label)\n"
      ]
    },
    {
      "cell_type": "code",
      "execution_count": 65,
      "id": "09907760",
      "metadata": {
        "colab": {
          "base_uri": "https://localhost:8080/"
        },
        "id": "09907760",
        "outputId": "1c8c1e9e-187a-4ffc-bed8-f424065404b5"
      },
      "outputs": [
        {
          "name": "stdout",
          "output_type": "stream",
          "text": [
            "Accuracy: 0.9231153270094857\n"
          ]
        }
      ],
      "source": [
        "y_prob = model.predict(X_test, verbose=0) \n",
        "y_pred = y_prob.argmax(axis=-1)\n",
        "CNN_accuracy = np.sum(y_pred.flatten() == y_test) / len(y_test)\n",
        "print(\"Accuracy:\", CNN_accuracy)"
      ]
    },
    {
      "attachments": {},
      "cell_type": "markdown",
      "id": "df1d295a",
      "metadata": {
        "id": "df1d295a"
      },
      "source": [
        "# LSTM모델"
      ]
    },
    {
      "cell_type": "code",
      "execution_count": 66,
      "id": "54038dff",
      "metadata": {
        "id": "54038dff"
      },
      "outputs": [],
      "source": [
        "import pandas as pd\n",
        "import numpy as np\n",
        "import re\n",
        "from sklearn.model_selection import train_test_split\n",
        "from sklearn.preprocessing import LabelEncoder\n",
        "from sklearn.feature_extraction.text import TfidfVectorizer\n",
        "from tensorflow.keras.models import Sequential\n",
        "from tensorflow.keras.layers import Embedding, Conv1D, GlobalMaxPooling1D, Dense\n",
        "from tensorflow.keras.preprocessing.text import Tokenizer\n",
        "from tensorflow.keras.preprocessing.sequence import pad_sequences\n",
        "from tensorflow.keras.utils import to_categorical\n",
        "from konlpy.tag import Okt\n",
        "from tensorflow.keras.callbacks import EarlyStopping\n",
        "from tensorflow.keras.layers import Embedding, Conv1D, GlobalMaxPooling1D, Dense, LSTM"
      ]
    },
    {
      "cell_type": "code",
      "execution_count": 67,
      "id": "bc0cba10",
      "metadata": {
        "id": "bc0cba10"
      },
      "outputs": [],
      "source": [
        "# CSV 파일 읽기\n",
        "df = pd.read_csv(\"./라벨링완료된공지사항(수정본).csv\") \n",
        "\n",
        "notice_names = df['title'].tolist()\n",
        "\n",
        "# 전처리 함수 정의\n",
        "def preprocess_text(text):\n",
        "    # 특수문자 제거\n",
        "    text = re.sub(r\"[^\\uAC00-\\uD7A30-9a-zA-Z\\s]\", \"\", text)\n",
        "\n",
        "    # 숫자 정보 제거\n",
        "    text = re.sub(r'\\d+', '', text)\n",
        "\n",
        "    # 형태소 분석\n",
        "    tagger = Okt()\n",
        "    words = tagger.morphs(text)\n",
        "\n",
        "    # 불용어 제거\n",
        "    stop_words = ['필독', '학기', '학년', '도', '년', '제', '회', '월', '학부', '일', '차', '년도', '안내']  # 불용어 리스트\n",
        "    words = [word for word in words if word not in stop_words]\n",
        "\n",
        "    # 분석된 형태소들을 공백으로 결합하여 문장으로 반환\n",
        "    text = ' '.join(words)\n",
        "\n",
        "    return text\n",
        "\n",
        "\n",
        "preprocessed_notice_names = [preprocess_text(notice_name) for notice_name in notice_names]"
      ]
    },
    {
      "cell_type": "code",
      "execution_count": 68,
      "id": "91a25849",
      "metadata": {
        "id": "91a25849"
      },
      "outputs": [],
      "source": [
        "# TF-IDF 벡터화\n",
        "vectorizer = TfidfVectorizer()\n",
        "X = vectorizer.fit_transform(preprocessed_notice_names)\n",
        "\n",
        "tfidf_model = TfidfVectorizer().fit(preprocessed_notice_names)\n",
        "\n",
        "label_encoder = LabelEncoder()\n",
        "y = label_encoder.fit_transform(df['class'])"
      ]
    },
    {
      "cell_type": "code",
      "execution_count": 69,
      "id": "0bfb4dc9",
      "metadata": {
        "colab": {
          "base_uri": "https://localhost:8080/"
        },
        "id": "0bfb4dc9",
        "outputId": "b71f9f20-7fbd-4869-9605-69bbb39f3520"
      },
      "outputs": [
        {
          "name": "stdout",
          "output_type": "stream",
          "text": [
            "가장 긴 문장의 길이: 29\n",
            "어휘 사전의 크기: 6097\n"
          ]
        }
      ],
      "source": [
        "# 토크나이저 생성\n",
        "tokenizer = Tokenizer()\n",
        "\n",
        "# 토크나이저가 데이터를 학습\n",
        "tokenizer.fit_on_texts(preprocessed_notice_names)\n",
        "\n",
        "# 데이터를 시퀀스로 변환\n",
        "sequences = tokenizer.texts_to_sequences(preprocessed_notice_names)\n",
        "\n",
        "# 가장 긴 문장의 길이를 확인\n",
        "max_sequence_length = max(len(s) for s in sequences)\n",
        "print('가장 긴 문장의 길이:', max_sequence_length)\n",
        "\n",
        "# 어휘 사전의 크기를 확인 (+1을 하는 이유는 0인덱스를 고려하기 때문입니다.)\n",
        "vocab_size = len(tokenizer.word_index) + 1\n",
        "print('어휘 사전의 크기:', vocab_size)\n",
        "\n",
        "# 모든 문장을 가장 긴 문장의 길이로 패딩 처리\n",
        "padded_X = pad_sequences(sequences, maxlen=max_sequence_length, padding='post')"
      ]
    },
    {
      "cell_type": "code",
      "execution_count": 70,
      "id": "5913a15d",
      "metadata": {
        "id": "5913a15d"
      },
      "outputs": [],
      "source": [
        "# TF-IDF 벡터화\n",
        "vectorizer = TfidfVectorizer()\n",
        "X = vectorizer.fit_transform(preprocessed_notice_names)\n",
        "\n",
        "tfidf_model = TfidfVectorizer().fit(preprocessed_notice_names)\n",
        "\n",
        "label_encoder = LabelEncoder()\n",
        "y = label_encoder.fit_transform(df['class'])"
      ]
    },
    {
      "cell_type": "code",
      "execution_count": 71,
      "id": "12ddc17e",
      "metadata": {
        "id": "12ddc17e"
      },
      "outputs": [],
      "source": [
        "# 훈련 데이터 분리: train 데이터 80%, test 데이터 20%\n",
        "X_train, X_test, y_train, y_test = train_test_split(padded_X, y, test_size=0.2, random_state=42)"
      ]
    },
    {
      "cell_type": "code",
      "execution_count": 72,
      "id": "5764a85e",
      "metadata": {
        "id": "5764a85e"
      },
      "outputs": [],
      "source": [
        "# 타겟 변수 다중 클래스 원-핫 인코딩\n",
        "y_train_encoded = to_categorical(y_train)\n",
        "y_test_encoded = to_categorical(y_test)"
      ]
    },
    {
      "cell_type": "code",
      "execution_count": 73,
      "id": "091bf74d",
      "metadata": {
        "id": "091bf74d"
      },
      "outputs": [],
      "source": [
        "# LSTM 모델 생성\n",
        "model = Sequential()\n",
        "model.add(Embedding(vocab_size, 128, input_length=max_sequence_length))\n",
        "model.add(LSTM(64))\n",
        "model.add(Dense(64, activation='relu'))\n",
        "\n",
        "# 출력 뉴런의 개수와 활성화 함수를 클래스 개수에 따라 조정\n",
        "num_classes = len(set(y))  # 클래스 개수 계산\n",
        "if num_classes == 2:\n",
        "    model.add(Dense(1, activation='sigmoid'))\n",
        "    model.compile(optimizer='adam', loss='binary_crossentropy', metrics=['accuracy'])\n",
        "else:\n",
        "    model.add(Dense(num_classes, activation='softmax'))\n",
        "    model.compile(optimizer='adam', loss='categorical_crossentropy', metrics=['accuracy'])"
      ]
    },
    {
      "cell_type": "code",
      "execution_count": 74,
      "id": "766f71df",
      "metadata": {
        "colab": {
          "base_uri": "https://localhost:8080/"
        },
        "id": "766f71df",
        "outputId": "8bddeaff-baf9-420f-be8e-731c7f2ee83f"
      },
      "outputs": [
        {
          "name": "stdout",
          "output_type": "stream",
          "text": [
            "Epoch 1/50\n",
            "251/251 [==============================] - 6s 15ms/step - loss: 3.7164 - accuracy: 0.0856 - val_loss: 3.3535 - val_accuracy: 0.0884\n",
            "Epoch 2/50\n",
            "251/251 [==============================] - 4s 14ms/step - loss: 3.0649 - accuracy: 0.1488 - val_loss: 2.8679 - val_accuracy: 0.1882\n",
            "Epoch 3/50\n",
            "251/251 [==============================] - 3s 13ms/step - loss: 2.6036 - accuracy: 0.2252 - val_loss: 2.5473 - val_accuracy: 0.2346\n",
            "Epoch 4/50\n",
            "251/251 [==============================] - 3s 12ms/step - loss: 2.2402 - accuracy: 0.3208 - val_loss: 2.4303 - val_accuracy: 0.3250\n",
            "Epoch 5/50\n",
            "251/251 [==============================] - 3s 12ms/step - loss: 1.9094 - accuracy: 0.4212 - val_loss: 2.0252 - val_accuracy: 0.4234\n",
            "Epoch 6/50\n",
            "251/251 [==============================] - 3s 12ms/step - loss: 1.5161 - accuracy: 0.5311 - val_loss: 1.7292 - val_accuracy: 0.5367\n",
            "Epoch 7/50\n",
            "251/251 [==============================] - 3s 13ms/step - loss: 1.2032 - accuracy: 0.6218 - val_loss: 1.5411 - val_accuracy: 0.5861\n",
            "Epoch 8/50\n",
            "251/251 [==============================] - 3s 13ms/step - loss: 0.9369 - accuracy: 0.7070 - val_loss: 1.3799 - val_accuracy: 0.6695\n",
            "Epoch 9/50\n",
            "251/251 [==============================] - 3s 13ms/step - loss: 0.7112 - accuracy: 0.7841 - val_loss: 1.3112 - val_accuracy: 0.6910\n",
            "Epoch 10/50\n",
            "251/251 [==============================] - 3s 13ms/step - loss: 0.5588 - accuracy: 0.8358 - val_loss: 1.1507 - val_accuracy: 0.7459\n",
            "Epoch 11/50\n",
            "251/251 [==============================] - 3s 12ms/step - loss: 0.3961 - accuracy: 0.8938 - val_loss: 1.0779 - val_accuracy: 0.7943\n",
            "Epoch 12/50\n",
            "251/251 [==============================] - 3s 12ms/step - loss: 0.2946 - accuracy: 0.9273 - val_loss: 1.0322 - val_accuracy: 0.8063\n",
            "Epoch 13/50\n",
            "251/251 [==============================] - 3s 12ms/step - loss: 0.2303 - accuracy: 0.9406 - val_loss: 1.0566 - val_accuracy: 0.8108\n",
            "Epoch 14/50\n",
            "251/251 [==============================] - 3s 12ms/step - loss: 0.1692 - accuracy: 0.9586 - val_loss: 1.0302 - val_accuracy: 0.8268\n",
            "Epoch 15/50\n",
            "251/251 [==============================] - 3s 12ms/step - loss: 0.1524 - accuracy: 0.9642 - val_loss: 1.0869 - val_accuracy: 0.8128\n",
            "Epoch 16/50\n",
            "251/251 [==============================] - 3s 12ms/step - loss: 0.1381 - accuracy: 0.9674 - val_loss: 1.0206 - val_accuracy: 0.8318\n",
            "Epoch 17/50\n",
            "251/251 [==============================] - 3s 12ms/step - loss: 0.1082 - accuracy: 0.9739 - val_loss: 0.9925 - val_accuracy: 0.8432\n",
            "Epoch 18/50\n",
            "251/251 [==============================] - 3s 12ms/step - loss: 0.0817 - accuracy: 0.9815 - val_loss: 1.0286 - val_accuracy: 0.8362\n",
            "Epoch 19/50\n",
            "251/251 [==============================] - 3s 12ms/step - loss: 0.0643 - accuracy: 0.9861 - val_loss: 0.9985 - val_accuracy: 0.8447\n",
            "Epoch 20/50\n",
            "251/251 [==============================] - 3s 12ms/step - loss: 0.0509 - accuracy: 0.9886 - val_loss: 1.0508 - val_accuracy: 0.8507\n",
            "Epoch 21/50\n",
            "251/251 [==============================] - 3s 12ms/step - loss: 0.0393 - accuracy: 0.9915 - val_loss: 1.1217 - val_accuracy: 0.8407\n",
            "Epoch 22/50\n",
            "251/251 [==============================] - 3s 12ms/step - loss: 0.0364 - accuracy: 0.9931 - val_loss: 1.0550 - val_accuracy: 0.8512\n",
            "Epoch 23/50\n",
            "251/251 [==============================] - 3s 12ms/step - loss: 0.0462 - accuracy: 0.9909 - val_loss: 1.1088 - val_accuracy: 0.8462\n",
            "Epoch 24/50\n",
            "251/251 [==============================] - 3s 12ms/step - loss: 0.0478 - accuracy: 0.9888 - val_loss: 1.1382 - val_accuracy: 0.8547\n",
            "Epoch 25/50\n",
            "251/251 [==============================] - 3s 12ms/step - loss: 0.0337 - accuracy: 0.9918 - val_loss: 1.1797 - val_accuracy: 0.8422\n",
            "Epoch 26/50\n",
            "251/251 [==============================] - 3s 12ms/step - loss: 0.0501 - accuracy: 0.9875 - val_loss: 1.1817 - val_accuracy: 0.8407\n",
            "Epoch 27/50\n",
            "251/251 [==============================] - 3s 12ms/step - loss: 0.0657 - accuracy: 0.9835 - val_loss: 1.0868 - val_accuracy: 0.8582\n",
            "Epoch 28/50\n",
            "251/251 [==============================] - 3s 12ms/step - loss: 0.0296 - accuracy: 0.9930 - val_loss: 1.0791 - val_accuracy: 0.8617\n",
            "Epoch 29/50\n",
            "251/251 [==============================] - 3s 13ms/step - loss: 0.0174 - accuracy: 0.9954 - val_loss: 1.1339 - val_accuracy: 0.8602\n",
            "Epoch 30/50\n",
            "251/251 [==============================] - 3s 12ms/step - loss: 0.0123 - accuracy: 0.9971 - val_loss: 1.1570 - val_accuracy: 0.8617\n",
            "Epoch 31/50\n",
            "251/251 [==============================] - 3s 12ms/step - loss: 0.0123 - accuracy: 0.9970 - val_loss: 1.1281 - val_accuracy: 0.8577\n",
            "Epoch 32/50\n",
            "251/251 [==============================] - 3s 12ms/step - loss: 0.0233 - accuracy: 0.9930 - val_loss: 1.1529 - val_accuracy: 0.8582\n",
            "Epoch 33/50\n",
            "251/251 [==============================] - 3s 12ms/step - loss: 0.0477 - accuracy: 0.9878 - val_loss: 1.1962 - val_accuracy: 0.8562\n",
            "Epoch 34/50\n",
            "251/251 [==============================] - 3s 12ms/step - loss: 0.0302 - accuracy: 0.9920 - val_loss: 1.1389 - val_accuracy: 0.8622\n",
            "Epoch 35/50\n",
            "251/251 [==============================] - 3s 12ms/step - loss: 0.0246 - accuracy: 0.9934 - val_loss: 1.1313 - val_accuracy: 0.8657\n",
            "Epoch 36/50\n",
            "251/251 [==============================] - 3s 13ms/step - loss: 0.0249 - accuracy: 0.9943 - val_loss: 1.1376 - val_accuracy: 0.8662\n",
            "Epoch 37/50\n",
            "251/251 [==============================] - 3s 12ms/step - loss: 0.0269 - accuracy: 0.9941 - val_loss: 1.1917 - val_accuracy: 0.8527\n",
            "Epoch 38/50\n",
            "251/251 [==============================] - 3s 12ms/step - loss: 0.0377 - accuracy: 0.9925 - val_loss: 1.1655 - val_accuracy: 0.8567\n",
            "Epoch 39/50\n",
            "251/251 [==============================] - 3s 12ms/step - loss: 0.0299 - accuracy: 0.9924 - val_loss: 1.0710 - val_accuracy: 0.8712\n",
            "Epoch 40/50\n",
            "251/251 [==============================] - 3s 12ms/step - loss: 0.0254 - accuracy: 0.9949 - val_loss: 1.1371 - val_accuracy: 0.8702\n",
            "Epoch 41/50\n",
            "251/251 [==============================] - 3s 12ms/step - loss: 0.0074 - accuracy: 0.9981 - val_loss: 1.1358 - val_accuracy: 0.8697\n",
            "Epoch 42/50\n",
            "251/251 [==============================] - 3s 13ms/step - loss: 0.0074 - accuracy: 0.9985 - val_loss: 1.1456 - val_accuracy: 0.8727\n",
            "Epoch 43/50\n",
            "251/251 [==============================] - 3s 13ms/step - loss: 0.0048 - accuracy: 0.9989 - val_loss: 1.1201 - val_accuracy: 0.8732\n",
            "Epoch 44/50\n",
            "251/251 [==============================] - 3s 12ms/step - loss: 0.0049 - accuracy: 0.9989 - val_loss: 1.1392 - val_accuracy: 0.8717\n",
            "Epoch 45/50\n",
            "251/251 [==============================] - 3s 13ms/step - loss: 0.0035 - accuracy: 0.9991 - val_loss: 1.1549 - val_accuracy: 0.8732\n",
            "Epoch 46/50\n",
            "251/251 [==============================] - 3s 12ms/step - loss: 0.0032 - accuracy: 0.9991 - val_loss: 1.1636 - val_accuracy: 0.8747\n",
            "Epoch 47/50\n",
            "251/251 [==============================] - 3s 12ms/step - loss: 0.0036 - accuracy: 0.9990 - val_loss: 1.1825 - val_accuracy: 0.8727\n",
            "Epoch 48/50\n",
            "251/251 [==============================] - 3s 12ms/step - loss: 0.0037 - accuracy: 0.9988 - val_loss: 1.1789 - val_accuracy: 0.8737\n",
            "Epoch 49/50\n",
            "251/251 [==============================] - 3s 12ms/step - loss: 0.0031 - accuracy: 0.9991 - val_loss: 1.2049 - val_accuracy: 0.8717\n",
            "Epoch 50/50\n",
            "251/251 [==============================] - 3s 12ms/step - loss: 0.0030 - accuracy: 0.9990 - val_loss: 1.2090 - val_accuracy: 0.8702\n"
          ]
        },
        {
          "data": {
            "text/plain": [
              "<keras.callbacks.History at 0x1a07bf96c50>"
            ]
          },
          "execution_count": 74,
          "metadata": {},
          "output_type": "execute_result"
        }
      ],
      "source": [
        "# 모델 훈련\n",
        "model.fit(X_train, y_train_encoded, epochs=50, batch_size=32, validation_data=(X_test, y_test_encoded))"
      ]
    },
    {
      "cell_type": "code",
      "execution_count": 75,
      "id": "99efb6eb",
      "metadata": {
        "colab": {
          "base_uri": "https://localhost:8080/"
        },
        "id": "99efb6eb",
        "outputId": "fd4707f0-fd5f-4a9b-c706-12568f5612f0"
      },
      "outputs": [
        {
          "name": "stdout",
          "output_type": "stream",
          "text": [
            "Accuracy: 0.8701947079380928\n"
          ]
        }
      ],
      "source": [
        "y_prob = model.predict(X_test, verbose=0) \n",
        "y_pred = y_prob.argmax(axis=-1)\n",
        "LSTM_accuracy = np.sum(y_pred.flatten() == y_test) / len(y_test)\n",
        "print(\"Accuracy:\", LSTM_accuracy)"
      ]
    },
    {
      "attachments": {},
      "cell_type": "markdown",
      "id": "d2932837",
      "metadata": {
        "id": "d2932837"
      },
      "source": [
        "# 성능 비교 시각화"
      ]
    },
    {
      "cell_type": "code",
      "execution_count": 76,
      "id": "863890f4",
      "metadata": {
        "id": "863890f4"
      },
      "outputs": [],
      "source": [
        "import matplotlib.pyplot as plt"
      ]
    },
    {
      "cell_type": "code",
      "execution_count": 77,
      "id": "02b625c3",
      "metadata": {
        "colab": {
          "base_uri": "https://localhost:8080/",
          "height": 472
        },
        "id": "02b625c3",
        "outputId": "5e267b64-275b-44e1-ae89-8eecae548821"
      },
      "outputs": [
        {
          "data": {
            "image/png": "[encoded data removed]",
            "text/plain": [
              "<Figure size 640x480 with 1 Axes>"
            ]
          },
          "metadata": {},
          "output_type": "display_data"
        }
      ],
      "source": [
        "#그래프로 성능 비교 \n",
        "\n",
        "x = ('CNN', 'LSTM')\n",
        "y = [CNN_accuracy, LSTM_accuracy]\n",
        "plt.xlabel(\"model\")\n",
        "plt.ylabel(\"accuracy\")\n",
        "plt.bar(x, y)  # 데이터 가로 나온 함수 barh\n",
        "plt.title('Comparison of classification accuracy by model')\n",
        "\n",
        "plt.show()\n"
      ]
    },
    {
      "cell_type": "code",
      "execution_count": null,
      "id": "69fdeb44",
      "metadata": {
        "id": "69fdeb44"
      },
      "outputs": [],
      "source": []
    }
  ],
  "metadata": {
    "colab": {
      "provenance": []
    },
    "kernelspec": {
      "display_name": "Python 3 (ipykernel)",
      "language": "python",
      "name": "python3"
    },
    "language_info": {
      "codemirror_mode": {
        "name": "ipython",
        "version": 3
      },
      "file_extension": ".py",
      "mimetype": "text/x-python",
      "name": "python",
      "nbconvert_exporter": "python",
      "pygments_lexer": "ipython3",
      "version": "3.10.7"
    }
  },
  "nbformat": 4,
  "nbformat_minor": 5
}
