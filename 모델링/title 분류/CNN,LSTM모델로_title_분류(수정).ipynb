{
  "cells": [
    {
      "cell_type": "markdown",
      "id": "a9000d12",
      "metadata": {
        "id": "a9000d12"
      },
      "source": [
        "# CNN모델"
      ]
    },
    {
      "cell_type": "code",
      "execution_count": 7,
      "id": "28a6a893",
      "metadata": {
        "id": "28a6a893"
      },
      "outputs": [],
      "source": [
        "import pandas as pd\n",
        "import numpy as np\n",
        "import re\n",
        "from sklearn.model_selection import train_test_split\n",
        "from sklearn.preprocessing import LabelEncoder\n",
        "from sklearn.feature_extraction.text import TfidfVectorizer\n",
        "from tensorflow.keras.models import Sequential\n",
        "from tensorflow.keras.layers import Embedding, Conv1D, GlobalMaxPooling1D, Dense\n",
        "from tensorflow.keras.preprocessing.text import Tokenizer\n",
        "from tensorflow.keras.preprocessing.sequence import pad_sequences\n",
        "from tensorflow.keras.utils import to_categorical\n",
        "from konlpy.tag import Okt\n",
        "from tensorflow.keras.callbacks import EarlyStopping"
      ]
    },
    {
      "cell_type": "code",
      "execution_count": 8,
      "id": "b7c13c38",
      "metadata": {
        "id": "b7c13c38"
      },
      "outputs": [],
      "source": [
        "# CSV 파일 읽기\n",
        "df = pd.read_csv(\"./라벨링완료된공지사항(수정본).csv\") \n",
        "\n",
        "notice_names = df['title'].tolist()\n",
        "\n",
        "# 전처리 함수 정의\n",
        "def preprocess_text(text):\n",
        "    # 특수문자 제거\n",
        "    text = re.sub(r\"[^\\uAC00-\\uD7A30-9a-zA-Z\\s]\", \"\", text)\n",
        "\n",
        "    # 숫자 정보 제거\n",
        "    text = re.sub(r'\\d+', '', text)\n",
        "\n",
        "    # 형태소 분석\n",
        "    tagger = Okt()\n",
        "    words = tagger.morphs(text)\n",
        "\n",
        "    # 불용어 제거\n",
        "    stop_words = ['필독', '학기', '학년', '도', '년', '제', '회', '월', '학부', '일', '차', '년도', '안내']  # 불용어 리스트\n",
        "    words = [word for word in words if word not in stop_words]\n",
        "\n",
        "    # 분석된 형태소들을 공백으로 결합하여 문장으로 반환\n",
        "    text = ' '.join(words)\n",
        "\n",
        "    return text\n",
        "\n",
        "\n",
        "preprocessed_notice_names = [preprocess_text(notice_name) for notice_name in notice_names]"
      ]
    },
    {
      "cell_type": "code",
      "execution_count": 9,
      "id": "7aae4507",
      "metadata": {
        "colab": {
          "base_uri": "https://localhost:8080/"
        },
        "id": "7aae4507",
        "outputId": "1ead9c15-266b-44b3-d4d9-eafe06611f70"
      },
      "outputs": [
        {
          "output_type": "stream",
          "name": "stdout",
          "text": [
            "가장 긴 문장의 길이: 29\n",
            "어휘 사전의 크기: 6097\n"
          ]
        }
      ],
      "source": [
        "# 토크나이저 생성\n",
        "tokenizer = Tokenizer()\n",
        "\n",
        "# 토크나이저가 데이터를 학습\n",
        "tokenizer.fit_on_texts(preprocessed_notice_names)\n",
        "\n",
        "# 데이터를 시퀀스로 변환\n",
        "sequences = tokenizer.texts_to_sequences(preprocessed_notice_names)\n",
        "\n",
        "# 가장 긴 문장의 길이를 확인\n",
        "max_sequence_length = max(len(s) for s in sequences)\n",
        "print('가장 긴 문장의 길이:', max_sequence_length)\n",
        "\n",
        "# 어휘 사전의 크기를 확인 (+1을 하는 이유는 0인덱스를 고려하기 때문입니다.)\n",
        "vocab_size = len(tokenizer.word_index) + 1\n",
        "print('어휘 사전의 크기:', vocab_size)\n",
        "\n",
        "# 모든 문장을 가장 긴 문장의 길이로 패딩 처리\n",
        "padded_X = pad_sequences(sequences, maxlen=max_sequence_length, padding='post')"
      ]
    },
    {
      "cell_type": "code",
      "execution_count": 27,
      "id": "c4262c19",
      "metadata": {
        "id": "c4262c19"
      },
      "outputs": [],
      "source": [
        "# TF-IDF 벡터화\n",
        "vectorizer = TfidfVectorizer()\n",
        "X = vectorizer.fit_transform(preprocessed_notice_names)\n",
        "\n",
        "tfidf_model = TfidfVectorizer().fit(preprocessed_notice_names)\n",
        "\n",
        "label_encoder = LabelEncoder()\n",
        "y = label_encoder.fit_transform(df['class'])"
      ]
    },
    {
      "cell_type": "code",
      "execution_count": 28,
      "id": "bceda68d",
      "metadata": {
        "id": "bceda68d"
      },
      "outputs": [],
      "source": [
        "# 훈련 데이터 분리: train 데이터 80%, test 데이터 20%\n",
        "X_train, X_test, y_train, y_test = train_test_split(padded_X, y, test_size=0.2, random_state=42)"
      ]
    },
    {
      "cell_type": "code",
      "execution_count": 29,
      "id": "029f331b",
      "metadata": {
        "id": "029f331b"
      },
      "outputs": [],
      "source": [
        "# 타겟 변수 다중 클래스 원-핫 인코딩\n",
        "y_train_encoded = to_categorical(y_train)\n",
        "y_test_encoded = to_categorical(y_test)"
      ]
    },
    {
      "cell_type": "code",
      "execution_count": 30,
      "id": "5f0cdfd7",
      "metadata": {
        "id": "5f0cdfd7"
      },
      "outputs": [],
      "source": [
        "# CNN 모델 생성\n",
        "model = Sequential()\n",
        "model.add(Embedding(vocab_size, 128, input_length=max_sequence_length))\n",
        "model.add(Conv1D(64, 5, activation='relu'))\n",
        "model.add(GlobalMaxPooling1D())\n",
        "model.add(Dense(64, activation='relu'))\n",
        "\n",
        "# 출력 뉴런의 개수와 활성화 함수를 클래스 개수에 따라 조정\n",
        "num_classes = len(set(y))  # 클래스 개수 계산\n",
        "if num_classes == 2:\n",
        "    model.add(Dense(1, activation='sigmoid'))\n",
        "    model.compile(optimizer='adam', loss='binary_crossentropy', metrics=['accuracy'])\n",
        "else:\n",
        "    model.add(Dense(num_classes, activation='softmax'))\n",
        "    model.compile(optimizer='adam', loss='categorical_crossentropy', metrics=['accuracy'])"
      ]
    },
    {
      "cell_type": "code",
      "execution_count": 31,
      "id": "4e9af3b2",
      "metadata": {
        "colab": {
          "base_uri": "https://localhost:8080/"
        },
        "id": "4e9af3b2",
        "outputId": "24b0eb97-1c0c-4f4f-ceaa-133825c81eb0"
      },
      "outputs": [
        {
          "output_type": "stream",
          "name": "stdout",
          "text": [
            "Epoch 1/10\n",
            "251/251 [==============================] - 6s 17ms/step - loss: 2.7673 - accuracy: 0.3723 - val_loss: 1.3757 - val_accuracy: 0.6760\n",
            "Epoch 2/10\n",
            "251/251 [==============================] - 4s 15ms/step - loss: 0.6508 - accuracy: 0.8514 - val_loss: 0.4569 - val_accuracy: 0.8977\n",
            "Epoch 3/10\n",
            "251/251 [==============================] - 5s 20ms/step - loss: 0.1754 - accuracy: 0.9647 - val_loss: 0.3377 - val_accuracy: 0.9161\n",
            "Epoch 4/10\n",
            "251/251 [==============================] - 4s 15ms/step - loss: 0.0609 - accuracy: 0.9895 - val_loss: 0.3047 - val_accuracy: 0.9221\n",
            "Epoch 5/10\n",
            "251/251 [==============================] - 4s 16ms/step - loss: 0.0264 - accuracy: 0.9956 - val_loss: 0.3270 - val_accuracy: 0.9191\n",
            "Epoch 6/10\n",
            "251/251 [==============================] - 5s 20ms/step - loss: 0.0160 - accuracy: 0.9976 - val_loss: 0.3462 - val_accuracy: 0.9196\n",
            "Epoch 7/10\n",
            "251/251 [==============================] - 4s 16ms/step - loss: 0.0135 - accuracy: 0.9974 - val_loss: 0.3156 - val_accuracy: 0.9256\n"
          ]
        },
        {
          "output_type": "execute_result",
          "data": {
            "text/plain": [
              "<keras.callbacks.History at 0x7fe7b288dbd0>"
            ]
          },
          "metadata": {},
          "execution_count": 31
        }
      ],
      "source": [
        "#모델 훈현\n",
        "model.fit(X_train, y_train_encoded, epochs=10, batch_size=32, validation_data=(X_test, y_test_encoded), callbacks=[EarlyStopping(patience=3)])"
      ]
    },
    {
      "cell_type": "code",
      "source": [
        "# 새로운 입력 데이터 예측\n",
        "new_text = input(\"새로운 문장을 입력하세요: \")\n",
        "preprocessed_new_text = preprocess_text(new_text)\n",
        "sequence = tokenizer.texts_to_sequences([preprocessed_new_text])\n",
        "padded_sequence = pad_sequences(sequence, maxlen=max_sequence_length, padding='post')\n",
        "prediction = model.predict(padded_sequence)\n",
        "predicted_label = label_encoder.inverse_transform([prediction.argmax()])[0]\n",
        "\n",
        "# 예측 결과 출력\n",
        "print(f\"입력 문장: {new_text}\")\n",
        "print(f\"예측된 레이블: {predicted_label}\")"
      ],
      "metadata": {
        "colab": {
          "base_uri": "https://localhost:8080/"
        },
        "id": "9qYC5C5pFUBl",
        "outputId": "94c46090-1df9-43e9-f5f6-bd5cc086776c"
      },
      "id": "9qYC5C5pFUBl",
      "execution_count": 36,
      "outputs": [
        {
          "output_type": "stream",
          "name": "stdout",
          "text": [
            "새로운 문장을 입력하세요: 6월 7일 모의토익 고사장 및 성적 확인 방법 안내\n",
            "1/1 [==============================] - 0s 45ms/step\n",
            "입력 문장: 6월 7일 모의토익 고사장 및 성적 확인 방법 안내\n",
            "예측된 레이블: 시험\n"
          ]
        }
      ]
    },
    {
      "cell_type": "code",
      "execution_count": 32,
      "id": "09907760",
      "metadata": {
        "colab": {
          "base_uri": "https://localhost:8080/"
        },
        "id": "09907760",
        "outputId": "1c8c1e9e-187a-4ffc-bed8-f424065404b5"
      },
      "outputs": [
        {
          "output_type": "stream",
          "name": "stdout",
          "text": [
            "Accuracy: 0.9256115826260609\n"
          ]
        }
      ],
      "source": [
        "y_prob = model.predict(X_test, verbose=0) \n",
        "y_pred = y_prob.argmax(axis=-1)\n",
        "CNN_accuracy = np.sum(y_pred.flatten() == y_test) / len(y_test)\n",
        "print(\"Accuracy:\", CNN_accuracy)"
      ]
    },
    {
      "cell_type": "markdown",
      "id": "df1d295a",
      "metadata": {
        "id": "df1d295a"
      },
      "source": [
        "# LSTM모델"
      ]
    },
    {
      "cell_type": "code",
      "execution_count": 16,
      "id": "54038dff",
      "metadata": {
        "id": "54038dff"
      },
      "outputs": [],
      "source": [
        "import pandas as pd\n",
        "import numpy as np\n",
        "import re\n",
        "from sklearn.model_selection import train_test_split\n",
        "from sklearn.preprocessing import LabelEncoder\n",
        "from sklearn.feature_extraction.text import TfidfVectorizer\n",
        "from tensorflow.keras.models import Sequential\n",
        "from tensorflow.keras.layers import Embedding, Conv1D, GlobalMaxPooling1D, Dense\n",
        "from tensorflow.keras.preprocessing.text import Tokenizer\n",
        "from tensorflow.keras.preprocessing.sequence import pad_sequences\n",
        "from tensorflow.keras.utils import to_categorical\n",
        "from konlpy.tag import Okt\n",
        "from tensorflow.keras.callbacks import EarlyStopping\n",
        "from tensorflow.keras.layers import Embedding, Conv1D, GlobalMaxPooling1D, Dense, LSTM"
      ]
    },
    {
      "cell_type": "code",
      "execution_count": 18,
      "id": "bc0cba10",
      "metadata": {
        "id": "bc0cba10"
      },
      "outputs": [],
      "source": [
        "# CSV 파일 읽기\n",
        "df = pd.read_csv(\"./라벨링완료된공지사항(수정본).csv\") \n",
        "\n",
        "notice_names = df['title'].tolist()\n",
        "\n",
        "# 전처리 함수 정의\n",
        "def preprocess_text(text):\n",
        "    # 특수문자 제거\n",
        "    text = re.sub(r\"[^\\uAC00-\\uD7A30-9a-zA-Z\\s]\", \"\", text)\n",
        "\n",
        "    # 숫자 정보 제거\n",
        "    text = re.sub(r'\\d+', '', text)\n",
        "\n",
        "    # 형태소 분석\n",
        "    tagger = Okt()\n",
        "    words = tagger.morphs(text)\n",
        "\n",
        "    # 불용어 제거\n",
        "    stop_words = ['필독', '학기', '학년', '도', '년', '제', '회', '월', '학부', '일', '차', '년도', '안내']  # 불용어 리스트\n",
        "    words = [word for word in words if word not in stop_words]\n",
        "\n",
        "    # 분석된 형태소들을 공백으로 결합하여 문장으로 반환\n",
        "    text = ' '.join(words)\n",
        "\n",
        "    return text\n",
        "\n",
        "\n",
        "preprocessed_notice_names = [preprocess_text(notice_name) for notice_name in notice_names]"
      ]
    },
    {
      "cell_type": "code",
      "execution_count": 19,
      "id": "91a25849",
      "metadata": {
        "id": "91a25849"
      },
      "outputs": [],
      "source": [
        "# TF-IDF 벡터화\n",
        "vectorizer = TfidfVectorizer()\n",
        "X = vectorizer.fit_transform(preprocessed_notice_names)\n",
        "\n",
        "tfidf_model = TfidfVectorizer().fit(preprocessed_notice_names)\n",
        "\n",
        "label_encoder = LabelEncoder()\n",
        "y = label_encoder.fit_transform(df['class'])"
      ]
    },
    {
      "cell_type": "code",
      "execution_count": 20,
      "id": "0bfb4dc9",
      "metadata": {
        "colab": {
          "base_uri": "https://localhost:8080/"
        },
        "id": "0bfb4dc9",
        "outputId": "b71f9f20-7fbd-4869-9605-69bbb39f3520"
      },
      "outputs": [
        {
          "output_type": "stream",
          "name": "stdout",
          "text": [
            "가장 긴 문장의 길이: 29\n",
            "어휘 사전의 크기: 6097\n"
          ]
        }
      ],
      "source": [
        "# 토크나이저 생성\n",
        "tokenizer = Tokenizer()\n",
        "\n",
        "# 토크나이저가 데이터를 학습\n",
        "tokenizer.fit_on_texts(preprocessed_notice_names)\n",
        "\n",
        "# 데이터를 시퀀스로 변환\n",
        "sequences = tokenizer.texts_to_sequences(preprocessed_notice_names)\n",
        "\n",
        "# 가장 긴 문장의 길이를 확인\n",
        "max_sequence_length = max(len(s) for s in sequences)\n",
        "print('가장 긴 문장의 길이:', max_sequence_length)\n",
        "\n",
        "# 어휘 사전의 크기를 확인 (+1을 하는 이유는 0인덱스를 고려하기 때문입니다.)\n",
        "vocab_size = len(tokenizer.word_index) + 1\n",
        "print('어휘 사전의 크기:', vocab_size)\n",
        "\n",
        "# 모든 문장을 가장 긴 문장의 길이로 패딩 처리\n",
        "padded_X = pad_sequences(sequences, maxlen=max_sequence_length, padding='post')"
      ]
    },
    {
      "cell_type": "code",
      "execution_count": 21,
      "id": "5913a15d",
      "metadata": {
        "id": "5913a15d"
      },
      "outputs": [],
      "source": [
        "# TF-IDF 벡터화\n",
        "vectorizer = TfidfVectorizer()\n",
        "X = vectorizer.fit_transform(preprocessed_notice_names)\n",
        "\n",
        "tfidf_model = TfidfVectorizer().fit(preprocessed_notice_names)\n",
        "\n",
        "label_encoder = LabelEncoder()\n",
        "y = label_encoder.fit_transform(df['class'])"
      ]
    },
    {
      "cell_type": "code",
      "execution_count": 22,
      "id": "12ddc17e",
      "metadata": {
        "id": "12ddc17e"
      },
      "outputs": [],
      "source": [
        "# 훈련 데이터 분리: train 데이터 80%, test 데이터 20%\n",
        "X_train, X_test, y_train, y_test = train_test_split(padded_X, y, test_size=0.2, random_state=42)"
      ]
    },
    {
      "cell_type": "code",
      "execution_count": 23,
      "id": "5764a85e",
      "metadata": {
        "id": "5764a85e"
      },
      "outputs": [],
      "source": [
        "# 타겟 변수 다중 클래스 원-핫 인코딩\n",
        "y_train_encoded = to_categorical(y_train)\n",
        "y_test_encoded = to_categorical(y_test)"
      ]
    },
    {
      "cell_type": "code",
      "execution_count": 24,
      "id": "091bf74d",
      "metadata": {
        "id": "091bf74d"
      },
      "outputs": [],
      "source": [
        "# LSTM 모델 생성\n",
        "model = Sequential()\n",
        "model.add(Embedding(vocab_size, 128, input_length=max_sequence_length))\n",
        "model.add(LSTM(64))\n",
        "model.add(Dense(64, activation='relu'))\n",
        "\n",
        "# 출력 뉴런의 개수와 활성화 함수를 클래스 개수에 따라 조정\n",
        "num_classes = len(set(y))  # 클래스 개수 계산\n",
        "if num_classes == 2:\n",
        "    model.add(Dense(1, activation='sigmoid'))\n",
        "    model.compile(optimizer='adam', loss='binary_crossentropy', metrics=['accuracy'])\n",
        "else:\n",
        "    model.add(Dense(num_classes, activation='softmax'))\n",
        "    model.compile(optimizer='adam', loss='categorical_crossentropy', metrics=['accuracy'])"
      ]
    },
    {
      "cell_type": "code",
      "execution_count": 25,
      "id": "766f71df",
      "metadata": {
        "colab": {
          "base_uri": "https://localhost:8080/"
        },
        "id": "766f71df",
        "outputId": "8bddeaff-baf9-420f-be8e-731c7f2ee83f"
      },
      "outputs": [
        {
          "output_type": "stream",
          "name": "stdout",
          "text": [
            "Epoch 1/50\n",
            "251/251 [==============================] - 14s 42ms/step - loss: 3.6713 - accuracy: 0.0879 - val_loss: 3.4627 - val_accuracy: 0.0884\n",
            "Epoch 2/50\n",
            "251/251 [==============================] - 9s 35ms/step - loss: 3.4479 - accuracy: 0.1019 - val_loss: 3.5820 - val_accuracy: 0.1018\n",
            "Epoch 3/50\n",
            "251/251 [==============================] - 8s 30ms/step - loss: 3.5486 - accuracy: 0.0909 - val_loss: 3.5353 - val_accuracy: 0.0859\n",
            "Epoch 4/50\n",
            "251/251 [==============================] - 9s 34ms/step - loss: 3.4456 - accuracy: 0.1009 - val_loss: 3.4913 - val_accuracy: 0.0879\n",
            "Epoch 5/50\n",
            "251/251 [==============================] - 8s 34ms/step - loss: 3.4275 - accuracy: 0.1036 - val_loss: 3.4941 - val_accuracy: 0.0864\n",
            "Epoch 6/50\n",
            "251/251 [==============================] - 8s 30ms/step - loss: 3.4233 - accuracy: 0.1049 - val_loss: 3.4906 - val_accuracy: 0.0884\n",
            "Epoch 7/50\n",
            "251/251 [==============================] - 9s 36ms/step - loss: 3.4351 - accuracy: 0.1021 - val_loss: 3.5347 - val_accuracy: 0.0894\n",
            "Epoch 8/50\n",
            "251/251 [==============================] - 10s 41ms/step - loss: 3.4373 - accuracy: 0.0998 - val_loss: 3.5323 - val_accuracy: 0.0829\n",
            "Epoch 9/50\n",
            "251/251 [==============================] - 8s 30ms/step - loss: 3.4471 - accuracy: 0.1010 - val_loss: 3.5508 - val_accuracy: 0.0934\n",
            "Epoch 10/50\n",
            "251/251 [==============================] - 9s 35ms/step - loss: 3.4428 - accuracy: 0.1042 - val_loss: 3.5596 - val_accuracy: 0.0859\n",
            "Epoch 11/50\n",
            "251/251 [==============================] - 8s 34ms/step - loss: 3.4372 - accuracy: 0.1087 - val_loss: 3.5652 - val_accuracy: 0.0879\n",
            "Epoch 12/50\n",
            "251/251 [==============================] - 8s 31ms/step - loss: 3.4110 - accuracy: 0.1175 - val_loss: 3.4557 - val_accuracy: 0.1338\n",
            "Epoch 13/50\n",
            "251/251 [==============================] - 9s 35ms/step - loss: 3.2922 - accuracy: 0.1819 - val_loss: 3.3986 - val_accuracy: 0.1658\n",
            "Epoch 14/50\n",
            "251/251 [==============================] - 9s 35ms/step - loss: 3.1919 - accuracy: 0.2156 - val_loss: 3.3169 - val_accuracy: 0.1887\n",
            "Epoch 15/50\n",
            "251/251 [==============================] - 8s 31ms/step - loss: 3.0930 - accuracy: 0.2473 - val_loss: 3.2074 - val_accuracy: 0.2177\n",
            "Epoch 16/50\n",
            "251/251 [==============================] - 9s 34ms/step - loss: 2.9609 - accuracy: 0.2748 - val_loss: 3.0735 - val_accuracy: 0.2666\n",
            "Epoch 17/50\n",
            "251/251 [==============================] - 8s 30ms/step - loss: 2.7416 - accuracy: 0.3328 - val_loss: 2.7595 - val_accuracy: 0.3360\n",
            "Epoch 18/50\n",
            "251/251 [==============================] - 8s 34ms/step - loss: 2.1144 - accuracy: 0.4463 - val_loss: 2.0072 - val_accuracy: 0.4763\n",
            "Epoch 19/50\n",
            "251/251 [==============================] - 9s 34ms/step - loss: 1.4339 - accuracy: 0.6079 - val_loss: 1.6201 - val_accuracy: 0.5686\n",
            "Epoch 20/50\n",
            "251/251 [==============================] - 8s 30ms/step - loss: 0.9973 - accuracy: 0.7160 - val_loss: 1.3828 - val_accuracy: 0.6475\n",
            "Epoch 21/50\n",
            "251/251 [==============================] - 9s 34ms/step - loss: 0.6858 - accuracy: 0.8130 - val_loss: 1.2921 - val_accuracy: 0.7194\n",
            "Epoch 22/50\n",
            "251/251 [==============================] - 9s 34ms/step - loss: 0.4616 - accuracy: 0.8856 - val_loss: 1.2069 - val_accuracy: 0.7609\n",
            "Epoch 23/50\n",
            "251/251 [==============================] - 7s 30ms/step - loss: 0.3122 - accuracy: 0.9250 - val_loss: 1.1665 - val_accuracy: 0.7818\n",
            "Epoch 24/50\n",
            "251/251 [==============================] - 9s 34ms/step - loss: 0.2013 - accuracy: 0.9572 - val_loss: 1.1761 - val_accuracy: 0.8113\n",
            "Epoch 25/50\n",
            "251/251 [==============================] - 9s 34ms/step - loss: 0.1409 - accuracy: 0.9723 - val_loss: 1.2567 - val_accuracy: 0.8043\n",
            "Epoch 26/50\n",
            "251/251 [==============================] - 9s 35ms/step - loss: 0.1010 - accuracy: 0.9797 - val_loss: 1.2371 - val_accuracy: 0.8163\n",
            "Epoch 27/50\n",
            "251/251 [==============================] - 9s 35ms/step - loss: 0.0797 - accuracy: 0.9843 - val_loss: 1.2255 - val_accuracy: 0.8308\n",
            "Epoch 28/50\n",
            "251/251 [==============================] - 7s 30ms/step - loss: 0.0636 - accuracy: 0.9880 - val_loss: 1.2613 - val_accuracy: 0.8298\n",
            "Epoch 29/50\n",
            "251/251 [==============================] - 10s 39ms/step - loss: 0.0535 - accuracy: 0.9901 - val_loss: 1.2770 - val_accuracy: 0.8273\n",
            "Epoch 30/50\n",
            "251/251 [==============================] - 9s 34ms/step - loss: 0.0448 - accuracy: 0.9918 - val_loss: 1.2531 - val_accuracy: 0.8427\n",
            "Epoch 31/50\n",
            "251/251 [==============================] - 8s 30ms/step - loss: 0.0515 - accuracy: 0.9888 - val_loss: 1.3560 - val_accuracy: 0.8233\n",
            "Epoch 32/50\n",
            "251/251 [==============================] - 9s 34ms/step - loss: 0.0381 - accuracy: 0.9929 - val_loss: 1.2594 - val_accuracy: 0.8482\n",
            "Epoch 33/50\n",
            "251/251 [==============================] - 9s 34ms/step - loss: 0.0264 - accuracy: 0.9953 - val_loss: 1.2889 - val_accuracy: 0.8432\n",
            "Epoch 34/50\n",
            "251/251 [==============================] - 8s 30ms/step - loss: 0.0242 - accuracy: 0.9959 - val_loss: 1.4234 - val_accuracy: 0.8293\n",
            "Epoch 35/50\n",
            "251/251 [==============================] - 9s 34ms/step - loss: 0.0297 - accuracy: 0.9938 - val_loss: 1.3432 - val_accuracy: 0.8482\n",
            "Epoch 36/50\n",
            "251/251 [==============================] - 9s 34ms/step - loss: 0.0189 - accuracy: 0.9960 - val_loss: 1.3183 - val_accuracy: 0.8527\n",
            "Epoch 37/50\n",
            "251/251 [==============================] - 7s 29ms/step - loss: 0.0186 - accuracy: 0.9968 - val_loss: 1.4422 - val_accuracy: 0.8432\n",
            "Epoch 38/50\n",
            "251/251 [==============================] - 9s 34ms/step - loss: 0.0110 - accuracy: 0.9980 - val_loss: 1.3495 - val_accuracy: 0.8542\n",
            "Epoch 39/50\n",
            "251/251 [==============================] - 8s 32ms/step - loss: 0.0091 - accuracy: 0.9980 - val_loss: 1.3965 - val_accuracy: 0.8527\n",
            "Epoch 40/50\n",
            "251/251 [==============================] - 8s 33ms/step - loss: 0.0148 - accuracy: 0.9959 - val_loss: 1.3884 - val_accuracy: 0.8467\n",
            "Epoch 41/50\n",
            "251/251 [==============================] - 9s 34ms/step - loss: 0.0394 - accuracy: 0.9893 - val_loss: 1.4669 - val_accuracy: 0.8342\n",
            "Epoch 42/50\n",
            "251/251 [==============================] - 8s 30ms/step - loss: 0.0274 - accuracy: 0.9943 - val_loss: 1.4782 - val_accuracy: 0.8382\n",
            "Epoch 43/50\n",
            "251/251 [==============================] - 9s 35ms/step - loss: 0.0258 - accuracy: 0.9941 - val_loss: 1.4748 - val_accuracy: 0.8357\n",
            "Epoch 44/50\n",
            "251/251 [==============================] - 9s 34ms/step - loss: 0.0161 - accuracy: 0.9960 - val_loss: 1.3616 - val_accuracy: 0.8592\n",
            "Epoch 45/50\n",
            "251/251 [==============================] - 8s 30ms/step - loss: 0.0073 - accuracy: 0.9981 - val_loss: 1.4235 - val_accuracy: 0.8572\n",
            "Epoch 46/50\n",
            "251/251 [==============================] - 9s 35ms/step - loss: 0.0080 - accuracy: 0.9975 - val_loss: 1.4439 - val_accuracy: 0.8472\n",
            "Epoch 47/50\n",
            "251/251 [==============================] - 9s 35ms/step - loss: 0.0288 - accuracy: 0.9926 - val_loss: 1.6157 - val_accuracy: 0.8283\n",
            "Epoch 48/50\n",
            "251/251 [==============================] - 8s 31ms/step - loss: 0.0160 - accuracy: 0.9963 - val_loss: 1.4924 - val_accuracy: 0.8452\n",
            "Epoch 49/50\n",
            "251/251 [==============================] - 9s 35ms/step - loss: 0.0099 - accuracy: 0.9974 - val_loss: 1.5530 - val_accuracy: 0.8382\n",
            "Epoch 50/50\n",
            "251/251 [==============================] - 9s 35ms/step - loss: 0.0112 - accuracy: 0.9971 - val_loss: 1.4489 - val_accuracy: 0.8597\n"
          ]
        },
        {
          "output_type": "execute_result",
          "data": {
            "text/plain": [
              "<keras.callbacks.History at 0x7fe7b4719870>"
            ]
          },
          "metadata": {},
          "execution_count": 25
        }
      ],
      "source": [
        "# 모델 훈련\n",
        "model.fit(X_train, y_train_encoded, epochs=50, batch_size=32, validation_data=(X_test, y_test_encoded))"
      ]
    },
    {
      "cell_type": "code",
      "execution_count": 26,
      "id": "99efb6eb",
      "metadata": {
        "colab": {
          "base_uri": "https://localhost:8080/"
        },
        "id": "99efb6eb",
        "outputId": "fd4707f0-fd5f-4a9b-c706-12568f5612f0"
      },
      "outputs": [
        {
          "output_type": "stream",
          "name": "stdout",
          "text": [
            "Accuracy: 0.8597104343484773\n"
          ]
        }
      ],
      "source": [
        "y_prob = model.predict(X_test, verbose=0) \n",
        "y_pred = y_prob.argmax(axis=-1)\n",
        "LSTM_accuracy = np.sum(y_pred.flatten() == y_test) / len(y_test)\n",
        "print(\"Accuracy:\", LSTM_accuracy)"
      ]
    },
    {
      "cell_type": "markdown",
      "id": "d2932837",
      "metadata": {
        "id": "d2932837"
      },
      "source": [
        "# 성능 비교 시각화"
      ]
    },
    {
      "cell_type": "code",
      "execution_count": 39,
      "id": "863890f4",
      "metadata": {
        "id": "863890f4"
      },
      "outputs": [],
      "source": [
        "import matplotlib.pyplot as plt"
      ]
    },
    {
      "cell_type": "code",
      "execution_count": 40,
      "id": "02b625c3",
      "metadata": {
        "colab": {
          "base_uri": "https://localhost:8080/",
          "height": 472
        },
        "id": "02b625c3",
        "outputId": "5e267b64-275b-44e1-ae89-8eecae548821"
      },
      "outputs": [
        {
          "output_type": "display_data",
          "data": {
            "text/plain": [
              "<Figure size 640x480 with 1 Axes>"
            ],
            "image/png": "[encoded data removed]"
          },
          "metadata": {}
        }
      ],
      "source": [
        "#그래프로 성능 비교 \n",
        "\n",
        "x = ('CNN', 'LSTM')\n",
        "y = [CNN_accuracy, LSTM_accuracy]\n",
        "plt.xlabel(\"model\")\n",
        "plt.ylabel(\"accuracy\")\n",
        "plt.bar(x, y)  # 데이터 가로 나온 함수 barh\n",
        "plt.title('Comparison of classification accuracy by model')\n",
        "\n",
        "plt.show()\n"
      ]
    },
    {
      "cell_type": "code",
      "execution_count": null,
      "id": "69fdeb44",
      "metadata": {
        "id": "69fdeb44"
      },
      "outputs": [],
      "source": []
    }
  ],
  "metadata": {
    "kernelspec": {
      "display_name": "Python 3 (ipykernel)",
      "language": "python",
      "name": "python3"
    },
    "language_info": {
      "codemirror_mode": {
        "name": "ipython",
        "version": 3
      },
      "file_extension": ".py",
      "mimetype": "text/x-python",
      "name": "python",
      "nbconvert_exporter": "python",
      "pygments_lexer": "ipython3",
      "version": "3.9.7"
    },
    "colab": {
      "provenance": []
    }
  },
  "nbformat": 4,
  "nbformat_minor": 5
}